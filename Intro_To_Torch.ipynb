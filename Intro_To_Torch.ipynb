{
  "nbformat": 4,
  "nbformat_minor": 0,
  "metadata": {
    "colab": {
      "provenance": [],
      "gpuType": "T4",
      "collapsed_sections": [
        "JJQ5S1o83XVk",
        "_zwSMl8P3RxL",
        "dog1Jrdw3OEk"
      ],
      "toc_visible": true,
      "authorship_tag": "ABX9TyPALDlsUEFd5f4kJRh/xf/n",
      "include_colab_link": true
    },
    "kernelspec": {
      "name": "python3",
      "display_name": "Python 3"
    },
    "language_info": {
      "name": "python"
    },
    "accelerator": "GPU"
  },
  "cells": [
    {
      "cell_type": "markdown",
      "metadata": {
        "id": "view-in-github",
        "colab_type": "text"
      },
      "source": [
        "<a href=\"https://colab.research.google.com/github/Bhayazeed/Belajar_Pytorch/blob/main/Intro_To_Torch.ipynb\" target=\"_parent\"><img src=\"https://colab.research.google.com/assets/colab-badge.svg\" alt=\"Open In Colab\"/></a>"
      ]
    },
    {
      "cell_type": "code",
      "execution_count": 1,
      "metadata": {
        "id": "Av-CGBST9sOp"
      },
      "outputs": [],
      "source": [
        "import torch\n",
        "import torch.nn as nn\n",
        "import torch.nn.functional as F\n",
        "import pandas as pd\n",
        "import numpy as np\n",
        "import matplotlib.pyplot as plt\n",
        "from sklearn.model_selection import train_test_split\n",
        "%matplotlib inline"
      ]
    },
    {
      "cell_type": "markdown",
      "source": [
        "#Belajar"
      ],
      "metadata": {
        "id": "VXmqfGxG4G4D"
      }
    },
    {
      "cell_type": "markdown",
      "source": [
        "##Lists"
      ],
      "metadata": {
        "id": "GZP9cNSGLmJD"
      }
    },
    {
      "cell_type": "code",
      "source": [
        "my_list = [[1,2,3,4,5],[6,7,8,9,10]]\n",
        "my_list"
      ],
      "metadata": {
        "colab": {
          "base_uri": "https://localhost:8080/"
        },
        "id": "3g1ASO4dLnxW",
        "outputId": "afa5092d-c967-44be-f056-a768f0fbda97"
      },
      "execution_count": 2,
      "outputs": [
        {
          "output_type": "execute_result",
          "data": {
            "text/plain": [
              "[[1, 2, 3, 4, 5], [6, 7, 8, 9, 10]]"
            ]
          },
          "metadata": {},
          "execution_count": 2
        }
      ]
    },
    {
      "cell_type": "markdown",
      "source": [
        "##Numpy Arrays"
      ],
      "metadata": {
        "id": "nUcrukVYLzyo"
      }
    },
    {
      "cell_type": "code",
      "source": [
        "np1 = np.random.rand(3,4)\n",
        "np1"
      ],
      "metadata": {
        "colab": {
          "base_uri": "https://localhost:8080/"
        },
        "id": "l8hOsrAlL1Tc",
        "outputId": "17201c1e-7b72-4b3a-8f90-9eb14b431c5a"
      },
      "execution_count": 3,
      "outputs": [
        {
          "output_type": "execute_result",
          "data": {
            "text/plain": [
              "array([[0.69065992, 0.18307259, 0.97163003, 0.17921787],\n",
              "       [0.40067502, 0.91380141, 0.85267528, 0.70768312],\n",
              "       [0.75187301, 0.30051055, 0.88983616, 0.23920773]])"
            ]
          },
          "metadata": {},
          "execution_count": 3
        }
      ]
    },
    {
      "cell_type": "code",
      "source": [
        "np1.dtype"
      ],
      "metadata": {
        "colab": {
          "base_uri": "https://localhost:8080/"
        },
        "id": "GzTFD34LMFHj",
        "outputId": "2faf0b1a-766c-4c8c-8f0b-94d48903adbe"
      },
      "execution_count": 4,
      "outputs": [
        {
          "output_type": "execute_result",
          "data": {
            "text/plain": [
              "dtype('float64')"
            ]
          },
          "metadata": {},
          "execution_count": 4
        }
      ]
    },
    {
      "cell_type": "markdown",
      "source": [
        "##Tensors"
      ],
      "metadata": {
        "id": "qXUrA8aMLEk9"
      }
    },
    {
      "cell_type": "code",
      "source": [
        "tensor_2d = torch.rand(3,4)\n",
        "tensor_2d\n",
        "tensor_2d.dtype"
      ],
      "metadata": {
        "colab": {
          "base_uri": "https://localhost:8080/"
        },
        "id": "1JrJLhEv94lA",
        "outputId": "58ca28a1-b888-4ee3-873c-a4af7bec6141"
      },
      "execution_count": 5,
      "outputs": [
        {
          "output_type": "execute_result",
          "data": {
            "text/plain": [
              "torch.float32"
            ]
          },
          "metadata": {},
          "execution_count": 5
        }
      ]
    },
    {
      "cell_type": "code",
      "source": [
        "tensor_3d = torch.zeros(2,3,4)\n",
        "tensor_3d"
      ],
      "metadata": {
        "colab": {
          "base_uri": "https://localhost:8080/"
        },
        "id": "hpx5GjLcMQ0c",
        "outputId": "f335991d-1a40-446d-ccbf-a91dd8d272a9"
      },
      "execution_count": 6,
      "outputs": [
        {
          "output_type": "execute_result",
          "data": {
            "text/plain": [
              "tensor([[[0., 0., 0., 0.],\n",
              "         [0., 0., 0., 0.],\n",
              "         [0., 0., 0., 0.]],\n",
              "\n",
              "        [[0., 0., 0., 0.],\n",
              "         [0., 0., 0., 0.],\n",
              "         [0., 0., 0., 0.]]])"
            ]
          },
          "metadata": {},
          "execution_count": 6
        }
      ]
    },
    {
      "cell_type": "code",
      "source": [
        "##Create tensor out of numpy array\n",
        "my_tensor = torch.tensor(np1)\n",
        "my_tensor"
      ],
      "metadata": {
        "colab": {
          "base_uri": "https://localhost:8080/"
        },
        "id": "rksmaw7dMd-3",
        "outputId": "3736566f-1304-43fd-d2d4-0bc775293696"
      },
      "execution_count": 7,
      "outputs": [
        {
          "output_type": "execute_result",
          "data": {
            "text/plain": [
              "tensor([[0.6907, 0.1831, 0.9716, 0.1792],\n",
              "        [0.4007, 0.9138, 0.8527, 0.7077],\n",
              "        [0.7519, 0.3005, 0.8898, 0.2392]], dtype=torch.float64)"
            ]
          },
          "metadata": {},
          "execution_count": 7
        }
      ]
    },
    {
      "cell_type": "markdown",
      "source": [
        "##Tensor Operations"
      ],
      "metadata": {
        "id": "s0cQUX3eNpwb"
      }
    },
    {
      "cell_type": "code",
      "source": [
        "my_torch = torch.arange(10)\n",
        "my_torch"
      ],
      "metadata": {
        "colab": {
          "base_uri": "https://localhost:8080/"
        },
        "id": "6iMDEdDpMp0H",
        "outputId": "1f505fb1-d6c3-4aee-b550-d9daa47f479f"
      },
      "execution_count": 8,
      "outputs": [
        {
          "output_type": "execute_result",
          "data": {
            "text/plain": [
              "tensor([0, 1, 2, 3, 4, 5, 6, 7, 8, 9])"
            ]
          },
          "metadata": {},
          "execution_count": 8
        }
      ]
    },
    {
      "cell_type": "code",
      "source": [
        "#reshape and view\n",
        "my_torch = my_torch.reshape(2,5)\n",
        "my_torch"
      ],
      "metadata": {
        "colab": {
          "base_uri": "https://localhost:8080/"
        },
        "id": "HYXOI89fNxOL",
        "outputId": "609e1062-d37f-423b-a9eb-cc081861a325"
      },
      "execution_count": 9,
      "outputs": [
        {
          "output_type": "execute_result",
          "data": {
            "text/plain": [
              "tensor([[0, 1, 2, 3, 4],\n",
              "        [5, 6, 7, 8, 9]])"
            ]
          },
          "metadata": {},
          "execution_count": 9
        }
      ]
    },
    {
      "cell_type": "code",
      "source": [
        "my_torch = my_torch.view(5,2)\n",
        "my_torch"
      ],
      "metadata": {
        "colab": {
          "base_uri": "https://localhost:8080/"
        },
        "id": "n0S1KMWcN1Qo",
        "outputId": "2e886cf9-22ab-4551-a8b5-7918f07da862"
      },
      "execution_count": 10,
      "outputs": [
        {
          "output_type": "execute_result",
          "data": {
            "text/plain": [
              "tensor([[0, 1],\n",
              "        [2, 3],\n",
              "        [4, 5],\n",
              "        [6, 7],\n",
              "        [8, 9]])"
            ]
          },
          "metadata": {},
          "execution_count": 10
        }
      ]
    },
    {
      "cell_type": "code",
      "source": [
        "#reshape if we dont know the number of items using -1\n",
        "my_torch2 = torch.arange(10)\n",
        "my_torch2"
      ],
      "metadata": {
        "colab": {
          "base_uri": "https://localhost:8080/"
        },
        "id": "iAigiZEWN6Tq",
        "outputId": "57366109-509b-4450-dd5a-cbf8780ea01f"
      },
      "execution_count": 11,
      "outputs": [
        {
          "output_type": "execute_result",
          "data": {
            "text/plain": [
              "tensor([0, 1, 2, 3, 4, 5, 6, 7, 8, 9])"
            ]
          },
          "metadata": {},
          "execution_count": 11
        }
      ]
    },
    {
      "cell_type": "code",
      "source": [
        "my_torch2 = my_torch2.reshape(2, -1)\n",
        "my_torch2"
      ],
      "metadata": {
        "colab": {
          "base_uri": "https://localhost:8080/"
        },
        "id": "pJcYtFyIOPnC",
        "outputId": "ef7f8b92-2ef3-487f-be77-8b952f220362"
      },
      "execution_count": 12,
      "outputs": [
        {
          "output_type": "execute_result",
          "data": {
            "text/plain": [
              "tensor([[0, 1, 2, 3, 4],\n",
              "        [5, 6, 7, 8, 9]])"
            ]
          },
          "metadata": {},
          "execution_count": 12
        }
      ]
    },
    {
      "cell_type": "code",
      "source": [
        "my_torch2 = my_torch2.reshape(-1, 5)\n",
        "my_torch2"
      ],
      "metadata": {
        "colab": {
          "base_uri": "https://localhost:8080/"
        },
        "id": "xsGZDdSHOT9V",
        "outputId": "5222a796-d532-4744-be1a-a85cab7a7e19"
      },
      "execution_count": 13,
      "outputs": [
        {
          "output_type": "execute_result",
          "data": {
            "text/plain": [
              "tensor([[0, 1, 2, 3, 4],\n",
              "        [5, 6, 7, 8, 9]])"
            ]
          },
          "metadata": {},
          "execution_count": 13
        }
      ]
    },
    {
      "cell_type": "markdown",
      "source": [
        "##Tensor Math Operations"
      ],
      "metadata": {
        "id": "Nt2r4x7YP_Co"
      }
    },
    {
      "cell_type": "code",
      "source": [
        "tensor_a = torch.tensor([1,2,3,4])\n",
        "tensor_b = torch.tensor([5,6,7,8])"
      ],
      "metadata": {
        "id": "Nme0bv8eOijc"
      },
      "execution_count": 14,
      "outputs": []
    },
    {
      "cell_type": "code",
      "source": [
        "tensor_a + tensor_b"
      ],
      "metadata": {
        "colab": {
          "base_uri": "https://localhost:8080/"
        },
        "id": "2k-nhD6dQcfv",
        "outputId": "f8da2d5c-eb54-4ca1-84e9-96aef1f28680"
      },
      "execution_count": 15,
      "outputs": [
        {
          "output_type": "execute_result",
          "data": {
            "text/plain": [
              "tensor([ 6,  8, 10, 12])"
            ]
          },
          "metadata": {},
          "execution_count": 15
        }
      ]
    },
    {
      "cell_type": "code",
      "source": [
        "#Addition longhand\n",
        "torch.add(tensor_a, tensor_b)"
      ],
      "metadata": {
        "colab": {
          "base_uri": "https://localhost:8080/"
        },
        "id": "e89z398fQlMu",
        "outputId": "2ee6bb61-f837-4f4f-b5e4-c9ea33c4434c"
      },
      "execution_count": 16,
      "outputs": [
        {
          "output_type": "execute_result",
          "data": {
            "text/plain": [
              "tensor([ 6,  8, 10, 12])"
            ]
          },
          "metadata": {},
          "execution_count": 16
        }
      ]
    },
    {
      "cell_type": "code",
      "source": [
        "#subtraction\n",
        "tensor_b - tensor_a"
      ],
      "metadata": {
        "colab": {
          "base_uri": "https://localhost:8080/"
        },
        "id": "7iFQaLQMQuri",
        "outputId": "d0122207-a832-495f-a37f-f97e60e1f615"
      },
      "execution_count": 17,
      "outputs": [
        {
          "output_type": "execute_result",
          "data": {
            "text/plain": [
              "tensor([4, 4, 4, 4])"
            ]
          },
          "metadata": {},
          "execution_count": 17
        }
      ]
    },
    {
      "cell_type": "code",
      "source": [
        "#sub function\n",
        "torch.sub(tensor_b, tensor_a)"
      ],
      "metadata": {
        "colab": {
          "base_uri": "https://localhost:8080/"
        },
        "id": "Ui_c8dZjQ-g8",
        "outputId": "2f25c843-0fde-43f8-b86f-405af3663ee1"
      },
      "execution_count": 18,
      "outputs": [
        {
          "output_type": "execute_result",
          "data": {
            "text/plain": [
              "tensor([4, 4, 4, 4])"
            ]
          },
          "metadata": {},
          "execution_count": 18
        }
      ]
    },
    {
      "cell_type": "code",
      "source": [
        "tensor_a * tensor_b"
      ],
      "metadata": {
        "colab": {
          "base_uri": "https://localhost:8080/"
        },
        "id": "RfFZAr1yRDwy",
        "outputId": "621a0fe9-a00e-45f0-93e9-457df1a76b54"
      },
      "execution_count": 19,
      "outputs": [
        {
          "output_type": "execute_result",
          "data": {
            "text/plain": [
              "tensor([ 5, 12, 21, 32])"
            ]
          },
          "metadata": {},
          "execution_count": 19
        }
      ]
    },
    {
      "cell_type": "code",
      "source": [
        "#mul function\n",
        "torch.mul(tensor_a, tensor_b)"
      ],
      "metadata": {
        "colab": {
          "base_uri": "https://localhost:8080/"
        },
        "id": "eXdDvc6eRHbh",
        "outputId": "6200ae81-178f-4587-c23f-bef8a43e30b5"
      },
      "execution_count": 20,
      "outputs": [
        {
          "output_type": "execute_result",
          "data": {
            "text/plain": [
              "tensor([ 5, 12, 21, 32])"
            ]
          },
          "metadata": {},
          "execution_count": 20
        }
      ]
    },
    {
      "cell_type": "code",
      "source": [
        "tensor_b / tensor_a"
      ],
      "metadata": {
        "colab": {
          "base_uri": "https://localhost:8080/"
        },
        "id": "5mBxCEj5RKaF",
        "outputId": "5af545ce-fab1-4b11-e833-bd6f851edd41"
      },
      "execution_count": 21,
      "outputs": [
        {
          "output_type": "execute_result",
          "data": {
            "text/plain": [
              "tensor([5.0000, 3.0000, 2.3333, 2.0000])"
            ]
          },
          "metadata": {},
          "execution_count": 21
        }
      ]
    },
    {
      "cell_type": "code",
      "source": [
        "#Division Longhand\n",
        "torch.div(tensor_b, tensor_a)"
      ],
      "metadata": {
        "colab": {
          "base_uri": "https://localhost:8080/"
        },
        "id": "9-Y_yF6GRPzR",
        "outputId": "52bc4dc5-e3ce-435e-e727-7adf43010b76"
      },
      "execution_count": 22,
      "outputs": [
        {
          "output_type": "execute_result",
          "data": {
            "text/plain": [
              "tensor([5.0000, 3.0000, 2.3333, 2.0000])"
            ]
          },
          "metadata": {},
          "execution_count": 22
        }
      ]
    },
    {
      "cell_type": "code",
      "source": [
        "tensor_b % tensor_a"
      ],
      "metadata": {
        "colab": {
          "base_uri": "https://localhost:8080/"
        },
        "id": "d1A1GEarRQHF",
        "outputId": "7bf80190-1fad-494a-c5f4-58cd6f793f2e"
      },
      "execution_count": 23,
      "outputs": [
        {
          "output_type": "execute_result",
          "data": {
            "text/plain": [
              "tensor([0, 0, 1, 0])"
            ]
          },
          "metadata": {},
          "execution_count": 23
        }
      ]
    },
    {
      "cell_type": "code",
      "source": [
        "#remainder longhand\n",
        "torch.remainder(tensor_b, tensor_a)"
      ],
      "metadata": {
        "colab": {
          "base_uri": "https://localhost:8080/"
        },
        "id": "fZYvNaiKReur",
        "outputId": "637aa21a-4e03-403f-c538-7274ee702274"
      },
      "execution_count": 24,
      "outputs": [
        {
          "output_type": "execute_result",
          "data": {
            "text/plain": [
              "tensor([0, 0, 1, 0])"
            ]
          },
          "metadata": {},
          "execution_count": 24
        }
      ]
    },
    {
      "cell_type": "code",
      "source": [
        "#Perpangkatan\n",
        "torch.pow(tensor_a, tensor_b)"
      ],
      "metadata": {
        "colab": {
          "base_uri": "https://localhost:8080/"
        },
        "id": "-b7msbBORg6x",
        "outputId": "bd4134e0-2b23-4dda-ec1f-dfa869ce5de5"
      },
      "execution_count": 25,
      "outputs": [
        {
          "output_type": "execute_result",
          "data": {
            "text/plain": [
              "tensor([    1,    64,  2187, 65536])"
            ]
          },
          "metadata": {},
          "execution_count": 25
        }
      ]
    },
    {
      "cell_type": "code",
      "source": [
        "#tensor_a = tensor_a + tensor_b\n",
        "tensor_a.add_(tensor_b)\n",
        "tensor_a"
      ],
      "metadata": {
        "colab": {
          "base_uri": "https://localhost:8080/"
        },
        "id": "AUcMdcjBRrKt",
        "outputId": "c9f7a3ed-bcbc-46bf-e84d-e59d303bb917"
      },
      "execution_count": 26,
      "outputs": [
        {
          "output_type": "execute_result",
          "data": {
            "text/plain": [
              "tensor([ 6,  8, 10, 12])"
            ]
          },
          "metadata": {},
          "execution_count": 26
        }
      ]
    },
    {
      "cell_type": "markdown",
      "source": [
        "##Build Basic NN"
      ],
      "metadata": {
        "id": "ZmaAsPK2IS8x"
      }
    },
    {
      "cell_type": "code",
      "source": [
        "#Create a Model class that inherits the nn module\n",
        "class Model(nn.Module):\n",
        "  #input layer (4 feature of the flower) ->\n",
        "  # Hidden layer 1 (number of neurons) ->\n",
        "  # H2 (n) ->\n",
        "  # Output (3 classes of iris flowers)\n",
        "  def __init__(self, in_features=4, h1=8, h2=9, out_features=3):\n",
        "    super().__init__() #instance the nn.module\n",
        "    self.fc1 = nn.Linear(in_features, h1)\n",
        "    self.fc2 = nn.Linear(h1, h2)\n",
        "    self.out = nn.Linear(h2, out_features)\n",
        "\n",
        "  def forward(self, x):\n",
        "    x = F.relu(self.fc1(x))\n",
        "    x = F.relu(self.fc2(x))\n",
        "    x = self.out(x)\n",
        "    return x"
      ],
      "metadata": {
        "id": "O6nxoElvR9BJ"
      },
      "execution_count": 27,
      "outputs": []
    },
    {
      "cell_type": "code",
      "source": [
        "#pick a manual seed for randomization\n",
        "torch.manual_seed(41)\n",
        "#create an instance of model\n",
        "model = Model()"
      ],
      "metadata": {
        "id": "cblWKAJUjV_R"
      },
      "execution_count": 28,
      "outputs": []
    },
    {
      "cell_type": "code",
      "source": [
        "url = 'https://gist.githubusercontent.com/curran/a08a1080b88344b0c8a7/raw/0e7a9b0a5d22642a06d3d5b9bcbad9890c8ee534/iris.csv'\n",
        "my_df = pd.read_csv(url)\n",
        "my_df"
      ],
      "metadata": {
        "colab": {
          "base_uri": "https://localhost:8080/",
          "height": 423
        },
        "id": "IA0YP1A3jo7K",
        "outputId": "e7c8bc69-5c2d-4db1-97ba-47a299abf9ba"
      },
      "execution_count": 29,
      "outputs": [
        {
          "output_type": "execute_result",
          "data": {
            "text/plain": [
              "     sepal_length  sepal_width  petal_length  petal_width    species\n",
              "0             5.1          3.5           1.4          0.2     setosa\n",
              "1             4.9          3.0           1.4          0.2     setosa\n",
              "2             4.7          3.2           1.3          0.2     setosa\n",
              "3             4.6          3.1           1.5          0.2     setosa\n",
              "4             5.0          3.6           1.4          0.2     setosa\n",
              "..            ...          ...           ...          ...        ...\n",
              "145           6.7          3.0           5.2          2.3  virginica\n",
              "146           6.3          2.5           5.0          1.9  virginica\n",
              "147           6.5          3.0           5.2          2.0  virginica\n",
              "148           6.2          3.4           5.4          2.3  virginica\n",
              "149           5.9          3.0           5.1          1.8  virginica\n",
              "\n",
              "[150 rows x 5 columns]"
            ],
            "text/html": [
              "\n",
              "  <div id=\"df-8ad09264-dee1-43e8-9622-ecbaf1cca3d0\" class=\"colab-df-container\">\n",
              "    <div>\n",
              "<style scoped>\n",
              "    .dataframe tbody tr th:only-of-type {\n",
              "        vertical-align: middle;\n",
              "    }\n",
              "\n",
              "    .dataframe tbody tr th {\n",
              "        vertical-align: top;\n",
              "    }\n",
              "\n",
              "    .dataframe thead th {\n",
              "        text-align: right;\n",
              "    }\n",
              "</style>\n",
              "<table border=\"1\" class=\"dataframe\">\n",
              "  <thead>\n",
              "    <tr style=\"text-align: right;\">\n",
              "      <th></th>\n",
              "      <th>sepal_length</th>\n",
              "      <th>sepal_width</th>\n",
              "      <th>petal_length</th>\n",
              "      <th>petal_width</th>\n",
              "      <th>species</th>\n",
              "    </tr>\n",
              "  </thead>\n",
              "  <tbody>\n",
              "    <tr>\n",
              "      <th>0</th>\n",
              "      <td>5.1</td>\n",
              "      <td>3.5</td>\n",
              "      <td>1.4</td>\n",
              "      <td>0.2</td>\n",
              "      <td>setosa</td>\n",
              "    </tr>\n",
              "    <tr>\n",
              "      <th>1</th>\n",
              "      <td>4.9</td>\n",
              "      <td>3.0</td>\n",
              "      <td>1.4</td>\n",
              "      <td>0.2</td>\n",
              "      <td>setosa</td>\n",
              "    </tr>\n",
              "    <tr>\n",
              "      <th>2</th>\n",
              "      <td>4.7</td>\n",
              "      <td>3.2</td>\n",
              "      <td>1.3</td>\n",
              "      <td>0.2</td>\n",
              "      <td>setosa</td>\n",
              "    </tr>\n",
              "    <tr>\n",
              "      <th>3</th>\n",
              "      <td>4.6</td>\n",
              "      <td>3.1</td>\n",
              "      <td>1.5</td>\n",
              "      <td>0.2</td>\n",
              "      <td>setosa</td>\n",
              "    </tr>\n",
              "    <tr>\n",
              "      <th>4</th>\n",
              "      <td>5.0</td>\n",
              "      <td>3.6</td>\n",
              "      <td>1.4</td>\n",
              "      <td>0.2</td>\n",
              "      <td>setosa</td>\n",
              "    </tr>\n",
              "    <tr>\n",
              "      <th>...</th>\n",
              "      <td>...</td>\n",
              "      <td>...</td>\n",
              "      <td>...</td>\n",
              "      <td>...</td>\n",
              "      <td>...</td>\n",
              "    </tr>\n",
              "    <tr>\n",
              "      <th>145</th>\n",
              "      <td>6.7</td>\n",
              "      <td>3.0</td>\n",
              "      <td>5.2</td>\n",
              "      <td>2.3</td>\n",
              "      <td>virginica</td>\n",
              "    </tr>\n",
              "    <tr>\n",
              "      <th>146</th>\n",
              "      <td>6.3</td>\n",
              "      <td>2.5</td>\n",
              "      <td>5.0</td>\n",
              "      <td>1.9</td>\n",
              "      <td>virginica</td>\n",
              "    </tr>\n",
              "    <tr>\n",
              "      <th>147</th>\n",
              "      <td>6.5</td>\n",
              "      <td>3.0</td>\n",
              "      <td>5.2</td>\n",
              "      <td>2.0</td>\n",
              "      <td>virginica</td>\n",
              "    </tr>\n",
              "    <tr>\n",
              "      <th>148</th>\n",
              "      <td>6.2</td>\n",
              "      <td>3.4</td>\n",
              "      <td>5.4</td>\n",
              "      <td>2.3</td>\n",
              "      <td>virginica</td>\n",
              "    </tr>\n",
              "    <tr>\n",
              "      <th>149</th>\n",
              "      <td>5.9</td>\n",
              "      <td>3.0</td>\n",
              "      <td>5.1</td>\n",
              "      <td>1.8</td>\n",
              "      <td>virginica</td>\n",
              "    </tr>\n",
              "  </tbody>\n",
              "</table>\n",
              "<p>150 rows × 5 columns</p>\n",
              "</div>\n",
              "    <div class=\"colab-df-buttons\">\n",
              "\n",
              "  <div class=\"colab-df-container\">\n",
              "    <button class=\"colab-df-convert\" onclick=\"convertToInteractive('df-8ad09264-dee1-43e8-9622-ecbaf1cca3d0')\"\n",
              "            title=\"Convert this dataframe to an interactive table.\"\n",
              "            style=\"display:none;\">\n",
              "\n",
              "  <svg xmlns=\"http://www.w3.org/2000/svg\" height=\"24px\" viewBox=\"0 -960 960 960\">\n",
              "    <path d=\"M120-120v-720h720v720H120Zm60-500h600v-160H180v160Zm220 220h160v-160H400v160Zm0 220h160v-160H400v160ZM180-400h160v-160H180v160Zm440 0h160v-160H620v160ZM180-180h160v-160H180v160Zm440 0h160v-160H620v160Z\"/>\n",
              "  </svg>\n",
              "    </button>\n",
              "\n",
              "  <style>\n",
              "    .colab-df-container {\n",
              "      display:flex;\n",
              "      gap: 12px;\n",
              "    }\n",
              "\n",
              "    .colab-df-convert {\n",
              "      background-color: #E8F0FE;\n",
              "      border: none;\n",
              "      border-radius: 50%;\n",
              "      cursor: pointer;\n",
              "      display: none;\n",
              "      fill: #1967D2;\n",
              "      height: 32px;\n",
              "      padding: 0 0 0 0;\n",
              "      width: 32px;\n",
              "    }\n",
              "\n",
              "    .colab-df-convert:hover {\n",
              "      background-color: #E2EBFA;\n",
              "      box-shadow: 0px 1px 2px rgba(60, 64, 67, 0.3), 0px 1px 3px 1px rgba(60, 64, 67, 0.15);\n",
              "      fill: #174EA6;\n",
              "    }\n",
              "\n",
              "    .colab-df-buttons div {\n",
              "      margin-bottom: 4px;\n",
              "    }\n",
              "\n",
              "    [theme=dark] .colab-df-convert {\n",
              "      background-color: #3B4455;\n",
              "      fill: #D2E3FC;\n",
              "    }\n",
              "\n",
              "    [theme=dark] .colab-df-convert:hover {\n",
              "      background-color: #434B5C;\n",
              "      box-shadow: 0px 1px 3px 1px rgba(0, 0, 0, 0.15);\n",
              "      filter: drop-shadow(0px 1px 2px rgba(0, 0, 0, 0.3));\n",
              "      fill: #FFFFFF;\n",
              "    }\n",
              "  </style>\n",
              "\n",
              "    <script>\n",
              "      const buttonEl =\n",
              "        document.querySelector('#df-8ad09264-dee1-43e8-9622-ecbaf1cca3d0 button.colab-df-convert');\n",
              "      buttonEl.style.display =\n",
              "        google.colab.kernel.accessAllowed ? 'block' : 'none';\n",
              "\n",
              "      async function convertToInteractive(key) {\n",
              "        const element = document.querySelector('#df-8ad09264-dee1-43e8-9622-ecbaf1cca3d0');\n",
              "        const dataTable =\n",
              "          await google.colab.kernel.invokeFunction('convertToInteractive',\n",
              "                                                    [key], {});\n",
              "        if (!dataTable) return;\n",
              "\n",
              "        const docLinkHtml = 'Like what you see? Visit the ' +\n",
              "          '<a target=\"_blank\" href=https://colab.research.google.com/notebooks/data_table.ipynb>data table notebook</a>'\n",
              "          + ' to learn more about interactive tables.';\n",
              "        element.innerHTML = '';\n",
              "        dataTable['output_type'] = 'display_data';\n",
              "        await google.colab.output.renderOutput(dataTable, element);\n",
              "        const docLink = document.createElement('div');\n",
              "        docLink.innerHTML = docLinkHtml;\n",
              "        element.appendChild(docLink);\n",
              "      }\n",
              "    </script>\n",
              "  </div>\n",
              "\n",
              "\n",
              "<div id=\"df-12b8c02f-998c-4989-900b-d90b2e55e251\">\n",
              "  <button class=\"colab-df-quickchart\" onclick=\"quickchart('df-12b8c02f-998c-4989-900b-d90b2e55e251')\"\n",
              "            title=\"Suggest charts\"\n",
              "            style=\"display:none;\">\n",
              "\n",
              "<svg xmlns=\"http://www.w3.org/2000/svg\" height=\"24px\"viewBox=\"0 0 24 24\"\n",
              "     width=\"24px\">\n",
              "    <g>\n",
              "        <path d=\"M19 3H5c-1.1 0-2 .9-2 2v14c0 1.1.9 2 2 2h14c1.1 0 2-.9 2-2V5c0-1.1-.9-2-2-2zM9 17H7v-7h2v7zm4 0h-2V7h2v10zm4 0h-2v-4h2v4z\"/>\n",
              "    </g>\n",
              "</svg>\n",
              "  </button>\n",
              "\n",
              "<style>\n",
              "  .colab-df-quickchart {\n",
              "      --bg-color: #E8F0FE;\n",
              "      --fill-color: #1967D2;\n",
              "      --hover-bg-color: #E2EBFA;\n",
              "      --hover-fill-color: #174EA6;\n",
              "      --disabled-fill-color: #AAA;\n",
              "      --disabled-bg-color: #DDD;\n",
              "  }\n",
              "\n",
              "  [theme=dark] .colab-df-quickchart {\n",
              "      --bg-color: #3B4455;\n",
              "      --fill-color: #D2E3FC;\n",
              "      --hover-bg-color: #434B5C;\n",
              "      --hover-fill-color: #FFFFFF;\n",
              "      --disabled-bg-color: #3B4455;\n",
              "      --disabled-fill-color: #666;\n",
              "  }\n",
              "\n",
              "  .colab-df-quickchart {\n",
              "    background-color: var(--bg-color);\n",
              "    border: none;\n",
              "    border-radius: 50%;\n",
              "    cursor: pointer;\n",
              "    display: none;\n",
              "    fill: var(--fill-color);\n",
              "    height: 32px;\n",
              "    padding: 0;\n",
              "    width: 32px;\n",
              "  }\n",
              "\n",
              "  .colab-df-quickchart:hover {\n",
              "    background-color: var(--hover-bg-color);\n",
              "    box-shadow: 0 1px 2px rgba(60, 64, 67, 0.3), 0 1px 3px 1px rgba(60, 64, 67, 0.15);\n",
              "    fill: var(--button-hover-fill-color);\n",
              "  }\n",
              "\n",
              "  .colab-df-quickchart-complete:disabled,\n",
              "  .colab-df-quickchart-complete:disabled:hover {\n",
              "    background-color: var(--disabled-bg-color);\n",
              "    fill: var(--disabled-fill-color);\n",
              "    box-shadow: none;\n",
              "  }\n",
              "\n",
              "  .colab-df-spinner {\n",
              "    border: 2px solid var(--fill-color);\n",
              "    border-color: transparent;\n",
              "    border-bottom-color: var(--fill-color);\n",
              "    animation:\n",
              "      spin 1s steps(1) infinite;\n",
              "  }\n",
              "\n",
              "  @keyframes spin {\n",
              "    0% {\n",
              "      border-color: transparent;\n",
              "      border-bottom-color: var(--fill-color);\n",
              "      border-left-color: var(--fill-color);\n",
              "    }\n",
              "    20% {\n",
              "      border-color: transparent;\n",
              "      border-left-color: var(--fill-color);\n",
              "      border-top-color: var(--fill-color);\n",
              "    }\n",
              "    30% {\n",
              "      border-color: transparent;\n",
              "      border-left-color: var(--fill-color);\n",
              "      border-top-color: var(--fill-color);\n",
              "      border-right-color: var(--fill-color);\n",
              "    }\n",
              "    40% {\n",
              "      border-color: transparent;\n",
              "      border-right-color: var(--fill-color);\n",
              "      border-top-color: var(--fill-color);\n",
              "    }\n",
              "    60% {\n",
              "      border-color: transparent;\n",
              "      border-right-color: var(--fill-color);\n",
              "    }\n",
              "    80% {\n",
              "      border-color: transparent;\n",
              "      border-right-color: var(--fill-color);\n",
              "      border-bottom-color: var(--fill-color);\n",
              "    }\n",
              "    90% {\n",
              "      border-color: transparent;\n",
              "      border-bottom-color: var(--fill-color);\n",
              "    }\n",
              "  }\n",
              "</style>\n",
              "\n",
              "  <script>\n",
              "    async function quickchart(key) {\n",
              "      const quickchartButtonEl =\n",
              "        document.querySelector('#' + key + ' button');\n",
              "      quickchartButtonEl.disabled = true;  // To prevent multiple clicks.\n",
              "      quickchartButtonEl.classList.add('colab-df-spinner');\n",
              "      try {\n",
              "        const charts = await google.colab.kernel.invokeFunction(\n",
              "            'suggestCharts', [key], {});\n",
              "      } catch (error) {\n",
              "        console.error('Error during call to suggestCharts:', error);\n",
              "      }\n",
              "      quickchartButtonEl.classList.remove('colab-df-spinner');\n",
              "      quickchartButtonEl.classList.add('colab-df-quickchart-complete');\n",
              "    }\n",
              "    (() => {\n",
              "      let quickchartButtonEl =\n",
              "        document.querySelector('#df-12b8c02f-998c-4989-900b-d90b2e55e251 button');\n",
              "      quickchartButtonEl.style.display =\n",
              "        google.colab.kernel.accessAllowed ? 'block' : 'none';\n",
              "    })();\n",
              "  </script>\n",
              "</div>\n",
              "\n",
              "  <div id=\"id_ca933512-a85d-495a-86fe-b2768740ff4b\">\n",
              "    <style>\n",
              "      .colab-df-generate {\n",
              "        background-color: #E8F0FE;\n",
              "        border: none;\n",
              "        border-radius: 50%;\n",
              "        cursor: pointer;\n",
              "        display: none;\n",
              "        fill: #1967D2;\n",
              "        height: 32px;\n",
              "        padding: 0 0 0 0;\n",
              "        width: 32px;\n",
              "      }\n",
              "\n",
              "      .colab-df-generate:hover {\n",
              "        background-color: #E2EBFA;\n",
              "        box-shadow: 0px 1px 2px rgba(60, 64, 67, 0.3), 0px 1px 3px 1px rgba(60, 64, 67, 0.15);\n",
              "        fill: #174EA6;\n",
              "      }\n",
              "\n",
              "      [theme=dark] .colab-df-generate {\n",
              "        background-color: #3B4455;\n",
              "        fill: #D2E3FC;\n",
              "      }\n",
              "\n",
              "      [theme=dark] .colab-df-generate:hover {\n",
              "        background-color: #434B5C;\n",
              "        box-shadow: 0px 1px 3px 1px rgba(0, 0, 0, 0.15);\n",
              "        filter: drop-shadow(0px 1px 2px rgba(0, 0, 0, 0.3));\n",
              "        fill: #FFFFFF;\n",
              "      }\n",
              "    </style>\n",
              "    <button class=\"colab-df-generate\" onclick=\"generateWithVariable('my_df')\"\n",
              "            title=\"Generate code using this dataframe.\"\n",
              "            style=\"display:none;\">\n",
              "\n",
              "  <svg xmlns=\"http://www.w3.org/2000/svg\" height=\"24px\"viewBox=\"0 0 24 24\"\n",
              "       width=\"24px\">\n",
              "    <path d=\"M7,19H8.4L18.45,9,17,7.55,7,17.6ZM5,21V16.75L18.45,3.32a2,2,0,0,1,2.83,0l1.4,1.43a1.91,1.91,0,0,1,.58,1.4,1.91,1.91,0,0,1-.58,1.4L9.25,21ZM18.45,9,17,7.55Zm-12,3A5.31,5.31,0,0,0,4.9,8.1,5.31,5.31,0,0,0,1,6.5,5.31,5.31,0,0,0,4.9,4.9,5.31,5.31,0,0,0,6.5,1,5.31,5.31,0,0,0,8.1,4.9,5.31,5.31,0,0,0,12,6.5,5.46,5.46,0,0,0,6.5,12Z\"/>\n",
              "  </svg>\n",
              "    </button>\n",
              "    <script>\n",
              "      (() => {\n",
              "      const buttonEl =\n",
              "        document.querySelector('#id_ca933512-a85d-495a-86fe-b2768740ff4b button.colab-df-generate');\n",
              "      buttonEl.style.display =\n",
              "        google.colab.kernel.accessAllowed ? 'block' : 'none';\n",
              "\n",
              "      buttonEl.onclick = () => {\n",
              "        google.colab.notebook.generateWithVariable('my_df');\n",
              "      }\n",
              "      })();\n",
              "    </script>\n",
              "  </div>\n",
              "\n",
              "    </div>\n",
              "  </div>\n"
            ],
            "application/vnd.google.colaboratory.intrinsic+json": {
              "type": "dataframe",
              "variable_name": "my_df",
              "summary": "{\n  \"name\": \"my_df\",\n  \"rows\": 150,\n  \"fields\": [\n    {\n      \"column\": \"sepal_length\",\n      \"properties\": {\n        \"dtype\": \"number\",\n        \"std\": 0.8280661279778629,\n        \"min\": 4.3,\n        \"max\": 7.9,\n        \"num_unique_values\": 35,\n        \"samples\": [\n          6.2,\n          4.5,\n          5.6\n        ],\n        \"semantic_type\": \"\",\n        \"description\": \"\"\n      }\n    },\n    {\n      \"column\": \"sepal_width\",\n      \"properties\": {\n        \"dtype\": \"number\",\n        \"std\": 0.4335943113621737,\n        \"min\": 2.0,\n        \"max\": 4.4,\n        \"num_unique_values\": 23,\n        \"samples\": [\n          2.3,\n          4.0,\n          3.5\n        ],\n        \"semantic_type\": \"\",\n        \"description\": \"\"\n      }\n    },\n    {\n      \"column\": \"petal_length\",\n      \"properties\": {\n        \"dtype\": \"number\",\n        \"std\": 1.7644204199522617,\n        \"min\": 1.0,\n        \"max\": 6.9,\n        \"num_unique_values\": 43,\n        \"samples\": [\n          6.7,\n          3.8,\n          3.7\n        ],\n        \"semantic_type\": \"\",\n        \"description\": \"\"\n      }\n    },\n    {\n      \"column\": \"petal_width\",\n      \"properties\": {\n        \"dtype\": \"number\",\n        \"std\": 0.7631607417008414,\n        \"min\": 0.1,\n        \"max\": 2.5,\n        \"num_unique_values\": 22,\n        \"samples\": [\n          0.2,\n          1.2,\n          1.3\n        ],\n        \"semantic_type\": \"\",\n        \"description\": \"\"\n      }\n    },\n    {\n      \"column\": \"species\",\n      \"properties\": {\n        \"dtype\": \"category\",\n        \"num_unique_values\": 3,\n        \"samples\": [\n          \"setosa\",\n          \"versicolor\",\n          \"virginica\"\n        ],\n        \"semantic_type\": \"\",\n        \"description\": \"\"\n      }\n    }\n  ]\n}"
            }
          },
          "metadata": {},
          "execution_count": 29
        }
      ]
    },
    {
      "cell_type": "code",
      "source": [
        "#replace/map species to int\n",
        "my_df['species'] = my_df['species'].replace('setosa', 0)\n",
        "my_df['species'] = my_df['species'].replace('versicolor', 1)\n",
        "my_df['species'] = my_df['species'].replace('virginica', 2)\n",
        "my_df"
      ],
      "metadata": {
        "colab": {
          "base_uri": "https://localhost:8080/",
          "height": 480
        },
        "id": "x3TqwqTx2hyQ",
        "outputId": "e9f2ddaf-e047-4082-c6fb-9ae8df223c8f"
      },
      "execution_count": 30,
      "outputs": [
        {
          "output_type": "stream",
          "name": "stderr",
          "text": [
            "<ipython-input-30-083b1fa4458a>:4: FutureWarning: Downcasting behavior in `replace` is deprecated and will be removed in a future version. To retain the old behavior, explicitly call `result.infer_objects(copy=False)`. To opt-in to the future behavior, set `pd.set_option('future.no_silent_downcasting', True)`\n",
            "  my_df['species'] = my_df['species'].replace('virginica', 2)\n"
          ]
        },
        {
          "output_type": "execute_result",
          "data": {
            "text/plain": [
              "     sepal_length  sepal_width  petal_length  petal_width  species\n",
              "0             5.1          3.5           1.4          0.2        0\n",
              "1             4.9          3.0           1.4          0.2        0\n",
              "2             4.7          3.2           1.3          0.2        0\n",
              "3             4.6          3.1           1.5          0.2        0\n",
              "4             5.0          3.6           1.4          0.2        0\n",
              "..            ...          ...           ...          ...      ...\n",
              "145           6.7          3.0           5.2          2.3        2\n",
              "146           6.3          2.5           5.0          1.9        2\n",
              "147           6.5          3.0           5.2          2.0        2\n",
              "148           6.2          3.4           5.4          2.3        2\n",
              "149           5.9          3.0           5.1          1.8        2\n",
              "\n",
              "[150 rows x 5 columns]"
            ],
            "text/html": [
              "\n",
              "  <div id=\"df-28639935-68e8-4d7e-ac37-edbfa423788c\" class=\"colab-df-container\">\n",
              "    <div>\n",
              "<style scoped>\n",
              "    .dataframe tbody tr th:only-of-type {\n",
              "        vertical-align: middle;\n",
              "    }\n",
              "\n",
              "    .dataframe tbody tr th {\n",
              "        vertical-align: top;\n",
              "    }\n",
              "\n",
              "    .dataframe thead th {\n",
              "        text-align: right;\n",
              "    }\n",
              "</style>\n",
              "<table border=\"1\" class=\"dataframe\">\n",
              "  <thead>\n",
              "    <tr style=\"text-align: right;\">\n",
              "      <th></th>\n",
              "      <th>sepal_length</th>\n",
              "      <th>sepal_width</th>\n",
              "      <th>petal_length</th>\n",
              "      <th>petal_width</th>\n",
              "      <th>species</th>\n",
              "    </tr>\n",
              "  </thead>\n",
              "  <tbody>\n",
              "    <tr>\n",
              "      <th>0</th>\n",
              "      <td>5.1</td>\n",
              "      <td>3.5</td>\n",
              "      <td>1.4</td>\n",
              "      <td>0.2</td>\n",
              "      <td>0</td>\n",
              "    </tr>\n",
              "    <tr>\n",
              "      <th>1</th>\n",
              "      <td>4.9</td>\n",
              "      <td>3.0</td>\n",
              "      <td>1.4</td>\n",
              "      <td>0.2</td>\n",
              "      <td>0</td>\n",
              "    </tr>\n",
              "    <tr>\n",
              "      <th>2</th>\n",
              "      <td>4.7</td>\n",
              "      <td>3.2</td>\n",
              "      <td>1.3</td>\n",
              "      <td>0.2</td>\n",
              "      <td>0</td>\n",
              "    </tr>\n",
              "    <tr>\n",
              "      <th>3</th>\n",
              "      <td>4.6</td>\n",
              "      <td>3.1</td>\n",
              "      <td>1.5</td>\n",
              "      <td>0.2</td>\n",
              "      <td>0</td>\n",
              "    </tr>\n",
              "    <tr>\n",
              "      <th>4</th>\n",
              "      <td>5.0</td>\n",
              "      <td>3.6</td>\n",
              "      <td>1.4</td>\n",
              "      <td>0.2</td>\n",
              "      <td>0</td>\n",
              "    </tr>\n",
              "    <tr>\n",
              "      <th>...</th>\n",
              "      <td>...</td>\n",
              "      <td>...</td>\n",
              "      <td>...</td>\n",
              "      <td>...</td>\n",
              "      <td>...</td>\n",
              "    </tr>\n",
              "    <tr>\n",
              "      <th>145</th>\n",
              "      <td>6.7</td>\n",
              "      <td>3.0</td>\n",
              "      <td>5.2</td>\n",
              "      <td>2.3</td>\n",
              "      <td>2</td>\n",
              "    </tr>\n",
              "    <tr>\n",
              "      <th>146</th>\n",
              "      <td>6.3</td>\n",
              "      <td>2.5</td>\n",
              "      <td>5.0</td>\n",
              "      <td>1.9</td>\n",
              "      <td>2</td>\n",
              "    </tr>\n",
              "    <tr>\n",
              "      <th>147</th>\n",
              "      <td>6.5</td>\n",
              "      <td>3.0</td>\n",
              "      <td>5.2</td>\n",
              "      <td>2.0</td>\n",
              "      <td>2</td>\n",
              "    </tr>\n",
              "    <tr>\n",
              "      <th>148</th>\n",
              "      <td>6.2</td>\n",
              "      <td>3.4</td>\n",
              "      <td>5.4</td>\n",
              "      <td>2.3</td>\n",
              "      <td>2</td>\n",
              "    </tr>\n",
              "    <tr>\n",
              "      <th>149</th>\n",
              "      <td>5.9</td>\n",
              "      <td>3.0</td>\n",
              "      <td>5.1</td>\n",
              "      <td>1.8</td>\n",
              "      <td>2</td>\n",
              "    </tr>\n",
              "  </tbody>\n",
              "</table>\n",
              "<p>150 rows × 5 columns</p>\n",
              "</div>\n",
              "    <div class=\"colab-df-buttons\">\n",
              "\n",
              "  <div class=\"colab-df-container\">\n",
              "    <button class=\"colab-df-convert\" onclick=\"convertToInteractive('df-28639935-68e8-4d7e-ac37-edbfa423788c')\"\n",
              "            title=\"Convert this dataframe to an interactive table.\"\n",
              "            style=\"display:none;\">\n",
              "\n",
              "  <svg xmlns=\"http://www.w3.org/2000/svg\" height=\"24px\" viewBox=\"0 -960 960 960\">\n",
              "    <path d=\"M120-120v-720h720v720H120Zm60-500h600v-160H180v160Zm220 220h160v-160H400v160Zm0 220h160v-160H400v160ZM180-400h160v-160H180v160Zm440 0h160v-160H620v160ZM180-180h160v-160H180v160Zm440 0h160v-160H620v160Z\"/>\n",
              "  </svg>\n",
              "    </button>\n",
              "\n",
              "  <style>\n",
              "    .colab-df-container {\n",
              "      display:flex;\n",
              "      gap: 12px;\n",
              "    }\n",
              "\n",
              "    .colab-df-convert {\n",
              "      background-color: #E8F0FE;\n",
              "      border: none;\n",
              "      border-radius: 50%;\n",
              "      cursor: pointer;\n",
              "      display: none;\n",
              "      fill: #1967D2;\n",
              "      height: 32px;\n",
              "      padding: 0 0 0 0;\n",
              "      width: 32px;\n",
              "    }\n",
              "\n",
              "    .colab-df-convert:hover {\n",
              "      background-color: #E2EBFA;\n",
              "      box-shadow: 0px 1px 2px rgba(60, 64, 67, 0.3), 0px 1px 3px 1px rgba(60, 64, 67, 0.15);\n",
              "      fill: #174EA6;\n",
              "    }\n",
              "\n",
              "    .colab-df-buttons div {\n",
              "      margin-bottom: 4px;\n",
              "    }\n",
              "\n",
              "    [theme=dark] .colab-df-convert {\n",
              "      background-color: #3B4455;\n",
              "      fill: #D2E3FC;\n",
              "    }\n",
              "\n",
              "    [theme=dark] .colab-df-convert:hover {\n",
              "      background-color: #434B5C;\n",
              "      box-shadow: 0px 1px 3px 1px rgba(0, 0, 0, 0.15);\n",
              "      filter: drop-shadow(0px 1px 2px rgba(0, 0, 0, 0.3));\n",
              "      fill: #FFFFFF;\n",
              "    }\n",
              "  </style>\n",
              "\n",
              "    <script>\n",
              "      const buttonEl =\n",
              "        document.querySelector('#df-28639935-68e8-4d7e-ac37-edbfa423788c button.colab-df-convert');\n",
              "      buttonEl.style.display =\n",
              "        google.colab.kernel.accessAllowed ? 'block' : 'none';\n",
              "\n",
              "      async function convertToInteractive(key) {\n",
              "        const element = document.querySelector('#df-28639935-68e8-4d7e-ac37-edbfa423788c');\n",
              "        const dataTable =\n",
              "          await google.colab.kernel.invokeFunction('convertToInteractive',\n",
              "                                                    [key], {});\n",
              "        if (!dataTable) return;\n",
              "\n",
              "        const docLinkHtml = 'Like what you see? Visit the ' +\n",
              "          '<a target=\"_blank\" href=https://colab.research.google.com/notebooks/data_table.ipynb>data table notebook</a>'\n",
              "          + ' to learn more about interactive tables.';\n",
              "        element.innerHTML = '';\n",
              "        dataTable['output_type'] = 'display_data';\n",
              "        await google.colab.output.renderOutput(dataTable, element);\n",
              "        const docLink = document.createElement('div');\n",
              "        docLink.innerHTML = docLinkHtml;\n",
              "        element.appendChild(docLink);\n",
              "      }\n",
              "    </script>\n",
              "  </div>\n",
              "\n",
              "\n",
              "<div id=\"df-d31ba2a1-8779-4db3-bd15-fc477433003a\">\n",
              "  <button class=\"colab-df-quickchart\" onclick=\"quickchart('df-d31ba2a1-8779-4db3-bd15-fc477433003a')\"\n",
              "            title=\"Suggest charts\"\n",
              "            style=\"display:none;\">\n",
              "\n",
              "<svg xmlns=\"http://www.w3.org/2000/svg\" height=\"24px\"viewBox=\"0 0 24 24\"\n",
              "     width=\"24px\">\n",
              "    <g>\n",
              "        <path d=\"M19 3H5c-1.1 0-2 .9-2 2v14c0 1.1.9 2 2 2h14c1.1 0 2-.9 2-2V5c0-1.1-.9-2-2-2zM9 17H7v-7h2v7zm4 0h-2V7h2v10zm4 0h-2v-4h2v4z\"/>\n",
              "    </g>\n",
              "</svg>\n",
              "  </button>\n",
              "\n",
              "<style>\n",
              "  .colab-df-quickchart {\n",
              "      --bg-color: #E8F0FE;\n",
              "      --fill-color: #1967D2;\n",
              "      --hover-bg-color: #E2EBFA;\n",
              "      --hover-fill-color: #174EA6;\n",
              "      --disabled-fill-color: #AAA;\n",
              "      --disabled-bg-color: #DDD;\n",
              "  }\n",
              "\n",
              "  [theme=dark] .colab-df-quickchart {\n",
              "      --bg-color: #3B4455;\n",
              "      --fill-color: #D2E3FC;\n",
              "      --hover-bg-color: #434B5C;\n",
              "      --hover-fill-color: #FFFFFF;\n",
              "      --disabled-bg-color: #3B4455;\n",
              "      --disabled-fill-color: #666;\n",
              "  }\n",
              "\n",
              "  .colab-df-quickchart {\n",
              "    background-color: var(--bg-color);\n",
              "    border: none;\n",
              "    border-radius: 50%;\n",
              "    cursor: pointer;\n",
              "    display: none;\n",
              "    fill: var(--fill-color);\n",
              "    height: 32px;\n",
              "    padding: 0;\n",
              "    width: 32px;\n",
              "  }\n",
              "\n",
              "  .colab-df-quickchart:hover {\n",
              "    background-color: var(--hover-bg-color);\n",
              "    box-shadow: 0 1px 2px rgba(60, 64, 67, 0.3), 0 1px 3px 1px rgba(60, 64, 67, 0.15);\n",
              "    fill: var(--button-hover-fill-color);\n",
              "  }\n",
              "\n",
              "  .colab-df-quickchart-complete:disabled,\n",
              "  .colab-df-quickchart-complete:disabled:hover {\n",
              "    background-color: var(--disabled-bg-color);\n",
              "    fill: var(--disabled-fill-color);\n",
              "    box-shadow: none;\n",
              "  }\n",
              "\n",
              "  .colab-df-spinner {\n",
              "    border: 2px solid var(--fill-color);\n",
              "    border-color: transparent;\n",
              "    border-bottom-color: var(--fill-color);\n",
              "    animation:\n",
              "      spin 1s steps(1) infinite;\n",
              "  }\n",
              "\n",
              "  @keyframes spin {\n",
              "    0% {\n",
              "      border-color: transparent;\n",
              "      border-bottom-color: var(--fill-color);\n",
              "      border-left-color: var(--fill-color);\n",
              "    }\n",
              "    20% {\n",
              "      border-color: transparent;\n",
              "      border-left-color: var(--fill-color);\n",
              "      border-top-color: var(--fill-color);\n",
              "    }\n",
              "    30% {\n",
              "      border-color: transparent;\n",
              "      border-left-color: var(--fill-color);\n",
              "      border-top-color: var(--fill-color);\n",
              "      border-right-color: var(--fill-color);\n",
              "    }\n",
              "    40% {\n",
              "      border-color: transparent;\n",
              "      border-right-color: var(--fill-color);\n",
              "      border-top-color: var(--fill-color);\n",
              "    }\n",
              "    60% {\n",
              "      border-color: transparent;\n",
              "      border-right-color: var(--fill-color);\n",
              "    }\n",
              "    80% {\n",
              "      border-color: transparent;\n",
              "      border-right-color: var(--fill-color);\n",
              "      border-bottom-color: var(--fill-color);\n",
              "    }\n",
              "    90% {\n",
              "      border-color: transparent;\n",
              "      border-bottom-color: var(--fill-color);\n",
              "    }\n",
              "  }\n",
              "</style>\n",
              "\n",
              "  <script>\n",
              "    async function quickchart(key) {\n",
              "      const quickchartButtonEl =\n",
              "        document.querySelector('#' + key + ' button');\n",
              "      quickchartButtonEl.disabled = true;  // To prevent multiple clicks.\n",
              "      quickchartButtonEl.classList.add('colab-df-spinner');\n",
              "      try {\n",
              "        const charts = await google.colab.kernel.invokeFunction(\n",
              "            'suggestCharts', [key], {});\n",
              "      } catch (error) {\n",
              "        console.error('Error during call to suggestCharts:', error);\n",
              "      }\n",
              "      quickchartButtonEl.classList.remove('colab-df-spinner');\n",
              "      quickchartButtonEl.classList.add('colab-df-quickchart-complete');\n",
              "    }\n",
              "    (() => {\n",
              "      let quickchartButtonEl =\n",
              "        document.querySelector('#df-d31ba2a1-8779-4db3-bd15-fc477433003a button');\n",
              "      quickchartButtonEl.style.display =\n",
              "        google.colab.kernel.accessAllowed ? 'block' : 'none';\n",
              "    })();\n",
              "  </script>\n",
              "</div>\n",
              "\n",
              "  <div id=\"id_acc0df91-5203-4dbb-a468-1108a5ee11e4\">\n",
              "    <style>\n",
              "      .colab-df-generate {\n",
              "        background-color: #E8F0FE;\n",
              "        border: none;\n",
              "        border-radius: 50%;\n",
              "        cursor: pointer;\n",
              "        display: none;\n",
              "        fill: #1967D2;\n",
              "        height: 32px;\n",
              "        padding: 0 0 0 0;\n",
              "        width: 32px;\n",
              "      }\n",
              "\n",
              "      .colab-df-generate:hover {\n",
              "        background-color: #E2EBFA;\n",
              "        box-shadow: 0px 1px 2px rgba(60, 64, 67, 0.3), 0px 1px 3px 1px rgba(60, 64, 67, 0.15);\n",
              "        fill: #174EA6;\n",
              "      }\n",
              "\n",
              "      [theme=dark] .colab-df-generate {\n",
              "        background-color: #3B4455;\n",
              "        fill: #D2E3FC;\n",
              "      }\n",
              "\n",
              "      [theme=dark] .colab-df-generate:hover {\n",
              "        background-color: #434B5C;\n",
              "        box-shadow: 0px 1px 3px 1px rgba(0, 0, 0, 0.15);\n",
              "        filter: drop-shadow(0px 1px 2px rgba(0, 0, 0, 0.3));\n",
              "        fill: #FFFFFF;\n",
              "      }\n",
              "    </style>\n",
              "    <button class=\"colab-df-generate\" onclick=\"generateWithVariable('my_df')\"\n",
              "            title=\"Generate code using this dataframe.\"\n",
              "            style=\"display:none;\">\n",
              "\n",
              "  <svg xmlns=\"http://www.w3.org/2000/svg\" height=\"24px\"viewBox=\"0 0 24 24\"\n",
              "       width=\"24px\">\n",
              "    <path d=\"M7,19H8.4L18.45,9,17,7.55,7,17.6ZM5,21V16.75L18.45,3.32a2,2,0,0,1,2.83,0l1.4,1.43a1.91,1.91,0,0,1,.58,1.4,1.91,1.91,0,0,1-.58,1.4L9.25,21ZM18.45,9,17,7.55Zm-12,3A5.31,5.31,0,0,0,4.9,8.1,5.31,5.31,0,0,0,1,6.5,5.31,5.31,0,0,0,4.9,4.9,5.31,5.31,0,0,0,6.5,1,5.31,5.31,0,0,0,8.1,4.9,5.31,5.31,0,0,0,12,6.5,5.46,5.46,0,0,0,6.5,12Z\"/>\n",
              "  </svg>\n",
              "    </button>\n",
              "    <script>\n",
              "      (() => {\n",
              "      const buttonEl =\n",
              "        document.querySelector('#id_acc0df91-5203-4dbb-a468-1108a5ee11e4 button.colab-df-generate');\n",
              "      buttonEl.style.display =\n",
              "        google.colab.kernel.accessAllowed ? 'block' : 'none';\n",
              "\n",
              "      buttonEl.onclick = () => {\n",
              "        google.colab.notebook.generateWithVariable('my_df');\n",
              "      }\n",
              "      })();\n",
              "    </script>\n",
              "  </div>\n",
              "\n",
              "    </div>\n",
              "  </div>\n"
            ],
            "application/vnd.google.colaboratory.intrinsic+json": {
              "type": "dataframe",
              "variable_name": "my_df",
              "summary": "{\n  \"name\": \"my_df\",\n  \"rows\": 150,\n  \"fields\": [\n    {\n      \"column\": \"sepal_length\",\n      \"properties\": {\n        \"dtype\": \"number\",\n        \"std\": 0.8280661279778629,\n        \"min\": 4.3,\n        \"max\": 7.9,\n        \"num_unique_values\": 35,\n        \"samples\": [\n          6.2,\n          4.5,\n          5.6\n        ],\n        \"semantic_type\": \"\",\n        \"description\": \"\"\n      }\n    },\n    {\n      \"column\": \"sepal_width\",\n      \"properties\": {\n        \"dtype\": \"number\",\n        \"std\": 0.4335943113621737,\n        \"min\": 2.0,\n        \"max\": 4.4,\n        \"num_unique_values\": 23,\n        \"samples\": [\n          2.3,\n          4.0,\n          3.5\n        ],\n        \"semantic_type\": \"\",\n        \"description\": \"\"\n      }\n    },\n    {\n      \"column\": \"petal_length\",\n      \"properties\": {\n        \"dtype\": \"number\",\n        \"std\": 1.7644204199522617,\n        \"min\": 1.0,\n        \"max\": 6.9,\n        \"num_unique_values\": 43,\n        \"samples\": [\n          6.7,\n          3.8,\n          3.7\n        ],\n        \"semantic_type\": \"\",\n        \"description\": \"\"\n      }\n    },\n    {\n      \"column\": \"petal_width\",\n      \"properties\": {\n        \"dtype\": \"number\",\n        \"std\": 0.7631607417008414,\n        \"min\": 0.1,\n        \"max\": 2.5,\n        \"num_unique_values\": 22,\n        \"samples\": [\n          0.2,\n          1.2,\n          1.3\n        ],\n        \"semantic_type\": \"\",\n        \"description\": \"\"\n      }\n    },\n    {\n      \"column\": \"species\",\n      \"properties\": {\n        \"dtype\": \"number\",\n        \"std\": 0,\n        \"min\": 0,\n        \"max\": 2,\n        \"num_unique_values\": 3,\n        \"samples\": [\n          0,\n          1,\n          2\n        ],\n        \"semantic_type\": \"\",\n        \"description\": \"\"\n      }\n    }\n  ]\n}"
            }
          },
          "metadata": {},
          "execution_count": 30
        }
      ]
    },
    {
      "cell_type": "code",
      "source": [
        "#Train test and split\n",
        "X = my_df.drop('species', axis=1)\n",
        "y = my_df['species']"
      ],
      "metadata": {
        "id": "t3gyNBME3OVJ"
      },
      "execution_count": 31,
      "outputs": []
    },
    {
      "cell_type": "code",
      "source": [
        "#Convert to numpy arrays\n",
        "X = X.values\n",
        "y = y.values"
      ],
      "metadata": {
        "id": "S7wufMn53mR2"
      },
      "execution_count": 32,
      "outputs": []
    },
    {
      "cell_type": "code",
      "source": [
        "X_train, X_test, y_train, y_test = train_test_split(X, y, test_size=0.2, random_state=32)\n"
      ],
      "metadata": {
        "id": "HYecJkjV3uvC"
      },
      "execution_count": 33,
      "outputs": []
    },
    {
      "cell_type": "code",
      "source": [
        "X_train = torch.FloatTensor(X_train)\n",
        "X_test = torch.FloatTensor(X_test)"
      ],
      "metadata": {
        "id": "9IMRTvgL6SYY"
      },
      "execution_count": 34,
      "outputs": []
    },
    {
      "cell_type": "code",
      "source": [
        "y_train = torch.LongTensor(y_train)\n",
        "y_test = torch.LongTensor(y_test)"
      ],
      "metadata": {
        "id": "k8RkLpFO6YnC"
      },
      "execution_count": 35,
      "outputs": []
    },
    {
      "cell_type": "code",
      "source": [
        "#Set criterion of model to measure error, how far off the prediction\n",
        "criterion = nn.CrossEntropyLoss()\n",
        "\n",
        "#Choose Adam Optimizer, lr = 0.001\n",
        "optimizer = torch.optim.Adam(model.parameters(), lr=0.01)"
      ],
      "metadata": {
        "id": "phwu3_Ci6hlY"
      },
      "execution_count": 36,
      "outputs": []
    },
    {
      "cell_type": "code",
      "source": [
        "model.parameters"
      ],
      "metadata": {
        "colab": {
          "base_uri": "https://localhost:8080/",
          "height": 186
        },
        "id": "2EVsdciQ7E-K",
        "outputId": "96207bc0-9558-4555-be88-ce4f82250d7a"
      },
      "execution_count": 37,
      "outputs": [
        {
          "output_type": "execute_result",
          "data": {
            "text/plain": [
              "<bound method Module.parameters of Model(\n",
              "  (fc1): Linear(in_features=4, out_features=8, bias=True)\n",
              "  (fc2): Linear(in_features=8, out_features=9, bias=True)\n",
              "  (out): Linear(in_features=9, out_features=3, bias=True)\n",
              ")>"
            ],
            "text/html": [
              "<div style=\"max-width:800px; border: 1px solid var(--colab-border-color);\"><style>\n",
              "      pre.function-repr-contents {\n",
              "        overflow-x: auto;\n",
              "        padding: 8px 12px;\n",
              "        max-height: 500px;\n",
              "      }\n",
              "\n",
              "      pre.function-repr-contents.function-repr-contents-collapsed {\n",
              "        cursor: pointer;\n",
              "        max-height: 100px;\n",
              "      }\n",
              "    </style>\n",
              "    <pre style=\"white-space: initial; background:\n",
              "         var(--colab-secondary-surface-color); padding: 8px 12px;\n",
              "         border-bottom: 1px solid var(--colab-border-color);\"><b>torch.nn.modules.module.Module.parameters</b><br/>def parameters(recurse: bool=True) -&gt; Iterator[Parameter]</pre><pre class=\"function-repr-contents function-repr-contents-collapsed\" style=\"\"><a class=\"filepath\" style=\"display:none\" href=\"#\">/usr/local/lib/python3.11/dist-packages/torch/nn/modules/module.py</a>Return an iterator over module parameters.\n",
              "\n",
              "This is typically passed to an optimizer.\n",
              "\n",
              "Args:\n",
              "    recurse (bool): if True, then yields parameters of this module\n",
              "        and all submodules. Otherwise, yields only parameters that\n",
              "        are direct members of this module.\n",
              "\n",
              "Yields:\n",
              "    Parameter: module parameter\n",
              "\n",
              "Example::\n",
              "\n",
              "    &gt;&gt;&gt; # xdoctest: +SKIP(&quot;undefined vars&quot;)\n",
              "    &gt;&gt;&gt; for param in model.parameters():\n",
              "    &gt;&gt;&gt;     print(type(param), param.size())\n",
              "    &lt;class &#x27;torch.Tensor&#x27;&gt; (20L,)\n",
              "    &lt;class &#x27;torch.Tensor&#x27;&gt; (20L, 1L, 5L, 5L)</pre>\n",
              "      <script>\n",
              "      if (google.colab.kernel.accessAllowed && google.colab.files && google.colab.files.view) {\n",
              "        for (const element of document.querySelectorAll('.filepath')) {\n",
              "          element.style.display = 'block'\n",
              "          element.onclick = (event) => {\n",
              "            event.preventDefault();\n",
              "            event.stopPropagation();\n",
              "            google.colab.files.view(element.textContent, 2611);\n",
              "          };\n",
              "        }\n",
              "      }\n",
              "      for (const element of document.querySelectorAll('.function-repr-contents')) {\n",
              "        element.onclick = (event) => {\n",
              "          event.preventDefault();\n",
              "          event.stopPropagation();\n",
              "          element.classList.toggle('function-repr-contents-collapsed');\n",
              "        };\n",
              "      }\n",
              "      </script>\n",
              "      </div>"
            ]
          },
          "metadata": {},
          "execution_count": 37
        }
      ]
    },
    {
      "cell_type": "code",
      "source": [
        "#Train model\n",
        "#Epochs\n",
        "epochs = 100\n",
        "losses = []\n",
        "\n",
        "for i in range(epochs):\n",
        "  y_pred = model.forward(X_train)\n",
        "  loss = criterion(y_pred, y_train)\n",
        "  losses.append(loss.detach().numpy())\n",
        "\n",
        "  if i % 10 == 0:\n",
        "    print(f'Epoch: {i} and loss: {loss}')\n",
        "\n",
        "  optimizer.zero_grad()\n",
        "  loss.backward()\n",
        "  optimizer.step()"
      ],
      "metadata": {
        "colab": {
          "base_uri": "https://localhost:8080/"
        },
        "id": "aN4PP7vE7LpJ",
        "outputId": "e5c91845-3176-4361-bd7f-749acdcbe26e"
      },
      "execution_count": 38,
      "outputs": [
        {
          "output_type": "stream",
          "name": "stdout",
          "text": [
            "Epoch: 0 and loss: 1.1225672960281372\n",
            "Epoch: 10 and loss: 1.0130739212036133\n",
            "Epoch: 20 and loss: 0.8195203542709351\n",
            "Epoch: 30 and loss: 0.5979762673377991\n",
            "Epoch: 40 and loss: 0.41400161385536194\n",
            "Epoch: 50 and loss: 0.2843181788921356\n",
            "Epoch: 60 and loss: 0.19448624551296234\n",
            "Epoch: 70 and loss: 0.1376158446073532\n",
            "Epoch: 80 and loss: 0.10318295657634735\n",
            "Epoch: 90 and loss: 0.08392063528299332\n"
          ]
        }
      ]
    },
    {
      "cell_type": "code",
      "source": [
        "plt.plot(range(epochs), losses)\n",
        "plt.ylabel(\"loss/error\")\n",
        "plt.xlabel(\"Epoch\")"
      ],
      "metadata": {
        "colab": {
          "base_uri": "https://localhost:8080/",
          "height": 467
        },
        "id": "tFAPLMED71fF",
        "outputId": "f59cd0ae-05d3-4df9-d4f5-caaea489daf4"
      },
      "execution_count": 39,
      "outputs": [
        {
          "output_type": "execute_result",
          "data": {
            "text/plain": [
              "Text(0.5, 0, 'Epoch')"
            ]
          },
          "metadata": {},
          "execution_count": 39
        },
        {
          "output_type": "display_data",
          "data": {
            "text/plain": [
              "<Figure size 640x480 with 1 Axes>"
            ],
            "image/png": "[encoded data removed]"
          },
          "metadata": {}
        }
      ]
    },
    {
      "cell_type": "code",
      "source": [
        "#Evaluate Model on test data set\n",
        "with torch.no_grad():\n",
        "  y_eval = model.forward(X_test) #X_test are feature from test set, y_eval is prediction\n",
        "  loss = criterion(y_eval, y_test)\n",
        "\n",
        "loss\n"
      ],
      "metadata": {
        "id": "GZH81V1g8rsA",
        "colab": {
          "base_uri": "https://localhost:8080/"
        },
        "outputId": "8e6f2204-38a7-45a3-e74d-dcb08babaddf"
      },
      "execution_count": 40,
      "outputs": [
        {
          "output_type": "execute_result",
          "data": {
            "text/plain": [
              "tensor(0.0575)"
            ]
          },
          "metadata": {},
          "execution_count": 40
        }
      ]
    },
    {
      "cell_type": "code",
      "source": [
        "correct = 0\n",
        "with torch.no_grad():\n",
        "  for i, data in enumerate(X_test):\n",
        "    y_val = model.forward(data)\n",
        "\n",
        "    if y_test[i] == 0:\n",
        "      x = \"Setosa\"\n",
        "    elif y_test[i] == 1:\n",
        "      x = \"Versicolor\"\n",
        "    else:\n",
        "      x = \"Virginica\"\n",
        "\n",
        "    print(f'{i+1}.) {str(y_val)} \\t {x} \\t {y_val.argmax().item()}') #what the type of flower predicted\n",
        "\n",
        "    #correct\n",
        "    if y_val.argmax().item() == y_test[i]:\n",
        "      correct += 1\n",
        "\n",
        "print(f'\\n{correct} out of {len(y_test)} = {100*correct/len(y_test)}% correct')"
      ],
      "metadata": {
        "colab": {
          "base_uri": "https://localhost:8080/"
        },
        "id": "EjHnBJ4K_5fZ",
        "outputId": "d60c1dc2-9d59-4ad1-ef62-9eab960bb2f0"
      },
      "execution_count": 41,
      "outputs": [
        {
          "output_type": "stream",
          "name": "stdout",
          "text": [
            "1.) tensor([-4.1716,  5.0314,  2.5291]) \t Versicolor \t 1\n",
            "2.) tensor([ 5.1330, -2.7781, -3.1771]) \t Setosa \t 0\n",
            "3.) tensor([ 4.0230, -1.7534, -2.6876]) \t Setosa \t 0\n",
            "4.) tensor([-4.6494,  5.5576,  2.7156]) \t Versicolor \t 1\n",
            "5.) tensor([-6.2048,  4.2263,  6.8880]) \t Virginica \t 2\n",
            "6.) tensor([-7.5163,  5.6673,  7.4118]) \t Virginica \t 2\n",
            "7.) tensor([ 3.5807, -1.3334, -2.5046]) \t Setosa \t 0\n",
            "8.) tensor([ 4.5113, -2.2228, -2.8847]) \t Setosa \t 0\n",
            "9.) tensor([-4.2756,  5.4891,  2.1708]) \t Versicolor \t 1\n",
            "10.) tensor([ 4.4995, -2.1908, -2.8975]) \t Setosa \t 0\n",
            "11.) tensor([-4.7794,  5.8376,  2.5969]) \t Versicolor \t 1\n",
            "12.) tensor([-7.2882,  4.4892,  8.3679]) \t Virginica \t 2\n",
            "13.) tensor([-2.9024,  4.6610,  0.8063]) \t Versicolor \t 1\n",
            "14.) tensor([-3.0202,  4.8000,  0.8698]) \t Versicolor \t 1\n",
            "15.) tensor([-6.6180,  4.7994,  6.8852]) \t Virginica \t 2\n",
            "16.) tensor([-6.8650,  3.8245,  8.4278]) \t Virginica \t 2\n",
            "17.) tensor([-4.4567,  4.8932,  3.1672]) \t Versicolor \t 1\n",
            "18.) tensor([-6.0071,  4.8364,  5.8129]) \t Virginica \t 2\n",
            "19.) tensor([-3.2380,  4.9972,  0.9793]) \t Versicolor \t 1\n",
            "20.) tensor([ 5.0347, -2.6795, -3.1355]) \t Setosa \t 0\n",
            "21.) tensor([ 4.0192, -1.7479, -2.6876]) \t Setosa \t 0\n",
            "22.) tensor([-7.8153,  4.7176,  9.0087]) \t Virginica \t 2\n",
            "23.) tensor([-5.5853,  4.8004,  5.1576]) \t Virginica \t 2\n",
            "24.) tensor([ 4.5271, -2.2420, -2.8878]) \t Setosa \t 0\n",
            "25.) tensor([ 4.6742, -2.3839, -2.9468]) \t Setosa \t 0\n",
            "26.) tensor([-3.3793,  5.1364,  1.0582]) \t Versicolor \t 1\n",
            "27.) tensor([ 5.0775, -2.7105, -3.1615]) \t Setosa \t 0\n",
            "28.) tensor([-8.0470,  4.3857,  9.7573]) \t Virginica \t 2\n",
            "29.) tensor([ 4.7758, -2.4494, -3.0151]) \t Setosa \t 0\n",
            "30.) tensor([ 4.6463, -2.3343, -2.9549]) \t Setosa \t 0\n",
            "\n",
            "30 out of 30 = 100.0% correct\n"
          ]
        }
      ]
    },
    {
      "cell_type": "markdown",
      "source": [
        "##Try Predicting with our Data"
      ],
      "metadata": {
        "id": "3fjqmzzsC9HH"
      }
    },
    {
      "cell_type": "code",
      "source": [
        "new_iris = torch.tensor([5.9,\t3.0,\t5.1,\t1.8\t])"
      ],
      "metadata": {
        "id": "veZWdNXMAUDQ"
      },
      "execution_count": 42,
      "outputs": []
    },
    {
      "cell_type": "code",
      "source": [
        "with torch.no_grad():\n",
        "  print(model.forward(new_iris))\n",
        "  print(model.forward(new_iris).argmax().item())"
      ],
      "metadata": {
        "colab": {
          "base_uri": "https://localhost:8080/"
        },
        "id": "DTLmXDPSCjhR",
        "outputId": "e2aca55f-b195-4b08-dc39-f1043c2c8633"
      },
      "execution_count": 43,
      "outputs": [
        {
          "output_type": "stream",
          "name": "stdout",
          "text": [
            "tensor([-6.0356,  4.4154,  6.3700])\n",
            "2\n"
          ]
        }
      ]
    },
    {
      "cell_type": "markdown",
      "source": [
        "##Save NN Model"
      ],
      "metadata": {
        "id": "iTrZ6JdgGO-2"
      }
    },
    {
      "cell_type": "code",
      "source": [
        "#Save Model\n",
        "torch.save(model.state_dict(), 'iris_pred_model.pt')"
      ],
      "metadata": {
        "id": "r9dxIpkNCuFJ"
      },
      "execution_count": 44,
      "outputs": []
    },
    {
      "cell_type": "code",
      "source": [
        "#Load saved model\n",
        "new_model = Model()\n",
        "new_model.load_state_dict(torch.load('iris_pred_model.pt'))"
      ],
      "metadata": {
        "colab": {
          "base_uri": "https://localhost:8080/"
        },
        "id": "npt2KdI7GdER",
        "outputId": "cfaba897-70e5-422f-b1b3-e05d2fda3b71"
      },
      "execution_count": 45,
      "outputs": [
        {
          "output_type": "stream",
          "name": "stderr",
          "text": [
            "<ipython-input-45-d23b86f70976>:3: FutureWarning: You are using `torch.load` with `weights_only=False` (the current default value), which uses the default pickle module implicitly. It is possible to construct malicious pickle data which will execute arbitrary code during unpickling (See https://github.com/pytorch/pytorch/blob/main/SECURITY.md#untrusted-models for more details). In a future release, the default value for `weights_only` will be flipped to `True`. This limits the functions that could be executed during unpickling. Arbitrary objects will no longer be allowed to be loaded via this mode unless they are explicitly allowlisted by the user via `torch.serialization.add_safe_globals`. We recommend you start setting `weights_only=True` for any use case where you don't have full control of the loaded file. Please open an issue on GitHub for any issues related to this experimental feature.\n",
            "  new_model.load_state_dict(torch.load('iris_pred_model.pt'))\n"
          ]
        },
        {
          "output_type": "execute_result",
          "data": {
            "text/plain": [
              "<All keys matched successfully>"
            ]
          },
          "metadata": {},
          "execution_count": 45
        }
      ]
    },
    {
      "cell_type": "code",
      "source": [
        "new_model.eval()"
      ],
      "metadata": {
        "colab": {
          "base_uri": "https://localhost:8080/"
        },
        "id": "u9nXE6iJGo6V",
        "outputId": "076ab082-0ace-4cd5-cf04-a49956818f81"
      },
      "execution_count": 46,
      "outputs": [
        {
          "output_type": "execute_result",
          "data": {
            "text/plain": [
              "Model(\n",
              "  (fc1): Linear(in_features=4, out_features=8, bias=True)\n",
              "  (fc2): Linear(in_features=8, out_features=9, bias=True)\n",
              "  (out): Linear(in_features=9, out_features=3, bias=True)\n",
              ")"
            ]
          },
          "metadata": {},
          "execution_count": 46
        }
      ]
    },
    {
      "cell_type": "markdown",
      "source": [
        "#Latihan 1 Model Obesitas"
      ],
      "metadata": {
        "id": "19dgy1-GhHuz"
      }
    },
    {
      "cell_type": "markdown",
      "source": [
        "##Data"
      ],
      "metadata": {
        "id": "JJQ5S1o83XVk"
      }
    },
    {
      "cell_type": "code",
      "source": [
        "import torch\n",
        "import torch.nn as nn\n",
        "import torch.nn.functional as F\n",
        "from torch.utils.data import DataLoader, TensorDataset, random_split\n",
        "import torch.optim as optim\n",
        "from torch.optim.lr_scheduler import ReduceLROnPlateau, LambdaLR\n",
        "import pandas as pd\n",
        "import numpy as np\n",
        "import matplotlib.pyplot as plt\n",
        "from sklearn.model_selection import train_test_split\n",
        "%matplotlib inline\n",
        "from imblearn.combine import SMOTEENN"
      ],
      "metadata": {
        "id": "SnyPNOt0i55-"
      },
      "execution_count": 47,
      "outputs": []
    },
    {
      "cell_type": "code",
      "source": [
        "data_obesitas = pd.read_csv('https://raw.githubusercontent.com/mdaninas/C242-PS006/refs/heads/ML/data/obesity/updated_obesitas_prediction.csv')"
      ],
      "metadata": {
        "id": "10LqfU_GGtDJ"
      },
      "execution_count": 48,
      "outputs": []
    },
    {
      "cell_type": "code",
      "source": [
        "data_obesitas"
      ],
      "metadata": {
        "colab": {
          "base_uri": "https://localhost:8080/",
          "height": 423
        },
        "id": "hpfiO-uqhPEA",
        "outputId": "57a887b2-9fff-42ba-9c96-5d5dba565699"
      },
      "execution_count": 49,
      "outputs": [
        {
          "output_type": "execute_result",
          "data": {
            "text/plain": [
              "      Gender        Age    Height      Weight  FCVC  NCP      CH2O       FAF  \\\n",
              "0          0  21.000000  1.620000   64.000000   2.0  3.0  2.000000  0.000000   \n",
              "1          0  21.000000  1.520000   56.000000   3.0  3.0  3.000000  3.000000   \n",
              "2          1  23.000000  1.800000   77.000000   2.0  3.0  2.000000  2.000000   \n",
              "3          1  27.000000  1.800000   87.000000   3.0  3.0  2.000000  2.000000   \n",
              "4          1  22.000000  1.780000   89.800000   2.0  1.0  2.000000  0.000000   \n",
              "...      ...        ...       ...         ...   ...  ...       ...       ...   \n",
              "2081       0  20.976842  1.710730  131.408528   3.0  3.0  1.728139  1.676269   \n",
              "2082       0  21.982942  1.748584  133.742943   3.0  3.0  2.005130  1.341390   \n",
              "2083       0  22.524036  1.752206  133.689352   3.0  3.0  2.054193  1.414209   \n",
              "2084       0  24.361936  1.739450  133.346641   3.0  3.0  2.852339  1.139107   \n",
              "2085       0  23.664709  1.738836  133.472641   3.0  3.0  2.863513  1.026452   \n",
              "\n",
              "           TUE  NObeyesdad  \n",
              "0     1.000000           1  \n",
              "1     0.000000           1  \n",
              "2     1.000000           1  \n",
              "3     0.000000           2  \n",
              "4     0.000000           2  \n",
              "...        ...         ...  \n",
              "2081  0.906247           3  \n",
              "2082  0.599270           3  \n",
              "2083  0.646288           3  \n",
              "2084  0.586035           3  \n",
              "2085  0.714137           3  \n",
              "\n",
              "[2086 rows x 10 columns]"
            ],
            "text/html": [
              "\n",
              "  <div id=\"df-69377115-3877-43b5-85b5-eaba788a5b2c\" class=\"colab-df-container\">\n",
              "    <div>\n",
              "<style scoped>\n",
              "    .dataframe tbody tr th:only-of-type {\n",
              "        vertical-align: middle;\n",
              "    }\n",
              "\n",
              "    .dataframe tbody tr th {\n",
              "        vertical-align: top;\n",
              "    }\n",
              "\n",
              "    .dataframe thead th {\n",
              "        text-align: right;\n",
              "    }\n",
              "</style>\n",
              "<table border=\"1\" class=\"dataframe\">\n",
              "  <thead>\n",
              "    <tr style=\"text-align: right;\">\n",
              "      <th></th>\n",
              "      <th>Gender</th>\n",
              "      <th>Age</th>\n",
              "      <th>Height</th>\n",
              "      <th>Weight</th>\n",
              "      <th>FCVC</th>\n",
              "      <th>NCP</th>\n",
              "      <th>CH2O</th>\n",
              "      <th>FAF</th>\n",
              "      <th>TUE</th>\n",
              "      <th>NObeyesdad</th>\n",
              "    </tr>\n",
              "  </thead>\n",
              "  <tbody>\n",
              "    <tr>\n",
              "      <th>0</th>\n",
              "      <td>0</td>\n",
              "      <td>21.000000</td>\n",
              "      <td>1.620000</td>\n",
              "      <td>64.000000</td>\n",
              "      <td>2.0</td>\n",
              "      <td>3.0</td>\n",
              "      <td>2.000000</td>\n",
              "      <td>0.000000</td>\n",
              "      <td>1.000000</td>\n",
              "      <td>1</td>\n",
              "    </tr>\n",
              "    <tr>\n",
              "      <th>1</th>\n",
              "      <td>0</td>\n",
              "      <td>21.000000</td>\n",
              "      <td>1.520000</td>\n",
              "      <td>56.000000</td>\n",
              "      <td>3.0</td>\n",
              "      <td>3.0</td>\n",
              "      <td>3.000000</td>\n",
              "      <td>3.000000</td>\n",
              "      <td>0.000000</td>\n",
              "      <td>1</td>\n",
              "    </tr>\n",
              "    <tr>\n",
              "      <th>2</th>\n",
              "      <td>1</td>\n",
              "      <td>23.000000</td>\n",
              "      <td>1.800000</td>\n",
              "      <td>77.000000</td>\n",
              "      <td>2.0</td>\n",
              "      <td>3.0</td>\n",
              "      <td>2.000000</td>\n",
              "      <td>2.000000</td>\n",
              "      <td>1.000000</td>\n",
              "      <td>1</td>\n",
              "    </tr>\n",
              "    <tr>\n",
              "      <th>3</th>\n",
              "      <td>1</td>\n",
              "      <td>27.000000</td>\n",
              "      <td>1.800000</td>\n",
              "      <td>87.000000</td>\n",
              "      <td>3.0</td>\n",
              "      <td>3.0</td>\n",
              "      <td>2.000000</td>\n",
              "      <td>2.000000</td>\n",
              "      <td>0.000000</td>\n",
              "      <td>2</td>\n",
              "    </tr>\n",
              "    <tr>\n",
              "      <th>4</th>\n",
              "      <td>1</td>\n",
              "      <td>22.000000</td>\n",
              "      <td>1.780000</td>\n",
              "      <td>89.800000</td>\n",
              "      <td>2.0</td>\n",
              "      <td>1.0</td>\n",
              "      <td>2.000000</td>\n",
              "      <td>0.000000</td>\n",
              "      <td>0.000000</td>\n",
              "      <td>2</td>\n",
              "    </tr>\n",
              "    <tr>\n",
              "      <th>...</th>\n",
              "      <td>...</td>\n",
              "      <td>...</td>\n",
              "      <td>...</td>\n",
              "      <td>...</td>\n",
              "      <td>...</td>\n",
              "      <td>...</td>\n",
              "      <td>...</td>\n",
              "      <td>...</td>\n",
              "      <td>...</td>\n",
              "      <td>...</td>\n",
              "    </tr>\n",
              "    <tr>\n",
              "      <th>2081</th>\n",
              "      <td>0</td>\n",
              "      <td>20.976842</td>\n",
              "      <td>1.710730</td>\n",
              "      <td>131.408528</td>\n",
              "      <td>3.0</td>\n",
              "      <td>3.0</td>\n",
              "      <td>1.728139</td>\n",
              "      <td>1.676269</td>\n",
              "      <td>0.906247</td>\n",
              "      <td>3</td>\n",
              "    </tr>\n",
              "    <tr>\n",
              "      <th>2082</th>\n",
              "      <td>0</td>\n",
              "      <td>21.982942</td>\n",
              "      <td>1.748584</td>\n",
              "      <td>133.742943</td>\n",
              "      <td>3.0</td>\n",
              "      <td>3.0</td>\n",
              "      <td>2.005130</td>\n",
              "      <td>1.341390</td>\n",
              "      <td>0.599270</td>\n",
              "      <td>3</td>\n",
              "    </tr>\n",
              "    <tr>\n",
              "      <th>2083</th>\n",
              "      <td>0</td>\n",
              "      <td>22.524036</td>\n",
              "      <td>1.752206</td>\n",
              "      <td>133.689352</td>\n",
              "      <td>3.0</td>\n",
              "      <td>3.0</td>\n",
              "      <td>2.054193</td>\n",
              "      <td>1.414209</td>\n",
              "      <td>0.646288</td>\n",
              "      <td>3</td>\n",
              "    </tr>\n",
              "    <tr>\n",
              "      <th>2084</th>\n",
              "      <td>0</td>\n",
              "      <td>24.361936</td>\n",
              "      <td>1.739450</td>\n",
              "      <td>133.346641</td>\n",
              "      <td>3.0</td>\n",
              "      <td>3.0</td>\n",
              "      <td>2.852339</td>\n",
              "      <td>1.139107</td>\n",
              "      <td>0.586035</td>\n",
              "      <td>3</td>\n",
              "    </tr>\n",
              "    <tr>\n",
              "      <th>2085</th>\n",
              "      <td>0</td>\n",
              "      <td>23.664709</td>\n",
              "      <td>1.738836</td>\n",
              "      <td>133.472641</td>\n",
              "      <td>3.0</td>\n",
              "      <td>3.0</td>\n",
              "      <td>2.863513</td>\n",
              "      <td>1.026452</td>\n",
              "      <td>0.714137</td>\n",
              "      <td>3</td>\n",
              "    </tr>\n",
              "  </tbody>\n",
              "</table>\n",
              "<p>2086 rows × 10 columns</p>\n",
              "</div>\n",
              "    <div class=\"colab-df-buttons\">\n",
              "\n",
              "  <div class=\"colab-df-container\">\n",
              "    <button class=\"colab-df-convert\" onclick=\"convertToInteractive('df-69377115-3877-43b5-85b5-eaba788a5b2c')\"\n",
              "            title=\"Convert this dataframe to an interactive table.\"\n",
              "            style=\"display:none;\">\n",
              "\n",
              "  <svg xmlns=\"http://www.w3.org/2000/svg\" height=\"24px\" viewBox=\"0 -960 960 960\">\n",
              "    <path d=\"M120-120v-720h720v720H120Zm60-500h600v-160H180v160Zm220 220h160v-160H400v160Zm0 220h160v-160H400v160ZM180-400h160v-160H180v160Zm440 0h160v-160H620v160ZM180-180h160v-160H180v160Zm440 0h160v-160H620v160Z\"/>\n",
              "  </svg>\n",
              "    </button>\n",
              "\n",
              "  <style>\n",
              "    .colab-df-container {\n",
              "      display:flex;\n",
              "      gap: 12px;\n",
              "    }\n",
              "\n",
              "    .colab-df-convert {\n",
              "      background-color: #E8F0FE;\n",
              "      border: none;\n",
              "      border-radius: 50%;\n",
              "      cursor: pointer;\n",
              "      display: none;\n",
              "      fill: #1967D2;\n",
              "      height: 32px;\n",
              "      padding: 0 0 0 0;\n",
              "      width: 32px;\n",
              "    }\n",
              "\n",
              "    .colab-df-convert:hover {\n",
              "      background-color: #E2EBFA;\n",
              "      box-shadow: 0px 1px 2px rgba(60, 64, 67, 0.3), 0px 1px 3px 1px rgba(60, 64, 67, 0.15);\n",
              "      fill: #174EA6;\n",
              "    }\n",
              "\n",
              "    .colab-df-buttons div {\n",
              "      margin-bottom: 4px;\n",
              "    }\n",
              "\n",
              "    [theme=dark] .colab-df-convert {\n",
              "      background-color: #3B4455;\n",
              "      fill: #D2E3FC;\n",
              "    }\n",
              "\n",
              "    [theme=dark] .colab-df-convert:hover {\n",
              "      background-color: #434B5C;\n",
              "      box-shadow: 0px 1px 3px 1px rgba(0, 0, 0, 0.15);\n",
              "      filter: drop-shadow(0px 1px 2px rgba(0, 0, 0, 0.3));\n",
              "      fill: #FFFFFF;\n",
              "    }\n",
              "  </style>\n",
              "\n",
              "    <script>\n",
              "      const buttonEl =\n",
              "        document.querySelector('#df-69377115-3877-43b5-85b5-eaba788a5b2c button.colab-df-convert');\n",
              "      buttonEl.style.display =\n",
              "        google.colab.kernel.accessAllowed ? 'block' : 'none';\n",
              "\n",
              "      async function convertToInteractive(key) {\n",
              "        const element = document.querySelector('#df-69377115-3877-43b5-85b5-eaba788a5b2c');\n",
              "        const dataTable =\n",
              "          await google.colab.kernel.invokeFunction('convertToInteractive',\n",
              "                                                    [key], {});\n",
              "        if (!dataTable) return;\n",
              "\n",
              "        const docLinkHtml = 'Like what you see? Visit the ' +\n",
              "          '<a target=\"_blank\" href=https://colab.research.google.com/notebooks/data_table.ipynb>data table notebook</a>'\n",
              "          + ' to learn more about interactive tables.';\n",
              "        element.innerHTML = '';\n",
              "        dataTable['output_type'] = 'display_data';\n",
              "        await google.colab.output.renderOutput(dataTable, element);\n",
              "        const docLink = document.createElement('div');\n",
              "        docLink.innerHTML = docLinkHtml;\n",
              "        element.appendChild(docLink);\n",
              "      }\n",
              "    </script>\n",
              "  </div>\n",
              "\n",
              "\n",
              "<div id=\"df-f62f8ad3-8594-45aa-b52d-202a77573ccd\">\n",
              "  <button class=\"colab-df-quickchart\" onclick=\"quickchart('df-f62f8ad3-8594-45aa-b52d-202a77573ccd')\"\n",
              "            title=\"Suggest charts\"\n",
              "            style=\"display:none;\">\n",
              "\n",
              "<svg xmlns=\"http://www.w3.org/2000/svg\" height=\"24px\"viewBox=\"0 0 24 24\"\n",
              "     width=\"24px\">\n",
              "    <g>\n",
              "        <path d=\"M19 3H5c-1.1 0-2 .9-2 2v14c0 1.1.9 2 2 2h14c1.1 0 2-.9 2-2V5c0-1.1-.9-2-2-2zM9 17H7v-7h2v7zm4 0h-2V7h2v10zm4 0h-2v-4h2v4z\"/>\n",
              "    </g>\n",
              "</svg>\n",
              "  </button>\n",
              "\n",
              "<style>\n",
              "  .colab-df-quickchart {\n",
              "      --bg-color: #E8F0FE;\n",
              "      --fill-color: #1967D2;\n",
              "      --hover-bg-color: #E2EBFA;\n",
              "      --hover-fill-color: #174EA6;\n",
              "      --disabled-fill-color: #AAA;\n",
              "      --disabled-bg-color: #DDD;\n",
              "  }\n",
              "\n",
              "  [theme=dark] .colab-df-quickchart {\n",
              "      --bg-color: #3B4455;\n",
              "      --fill-color: #D2E3FC;\n",
              "      --hover-bg-color: #434B5C;\n",
              "      --hover-fill-color: #FFFFFF;\n",
              "      --disabled-bg-color: #3B4455;\n",
              "      --disabled-fill-color: #666;\n",
              "  }\n",
              "\n",
              "  .colab-df-quickchart {\n",
              "    background-color: var(--bg-color);\n",
              "    border: none;\n",
              "    border-radius: 50%;\n",
              "    cursor: pointer;\n",
              "    display: none;\n",
              "    fill: var(--fill-color);\n",
              "    height: 32px;\n",
              "    padding: 0;\n",
              "    width: 32px;\n",
              "  }\n",
              "\n",
              "  .colab-df-quickchart:hover {\n",
              "    background-color: var(--hover-bg-color);\n",
              "    box-shadow: 0 1px 2px rgba(60, 64, 67, 0.3), 0 1px 3px 1px rgba(60, 64, 67, 0.15);\n",
              "    fill: var(--button-hover-fill-color);\n",
              "  }\n",
              "\n",
              "  .colab-df-quickchart-complete:disabled,\n",
              "  .colab-df-quickchart-complete:disabled:hover {\n",
              "    background-color: var(--disabled-bg-color);\n",
              "    fill: var(--disabled-fill-color);\n",
              "    box-shadow: none;\n",
              "  }\n",
              "\n",
              "  .colab-df-spinner {\n",
              "    border: 2px solid var(--fill-color);\n",
              "    border-color: transparent;\n",
              "    border-bottom-color: var(--fill-color);\n",
              "    animation:\n",
              "      spin 1s steps(1) infinite;\n",
              "  }\n",
              "\n",
              "  @keyframes spin {\n",
              "    0% {\n",
              "      border-color: transparent;\n",
              "      border-bottom-color: var(--fill-color);\n",
              "      border-left-color: var(--fill-color);\n",
              "    }\n",
              "    20% {\n",
              "      border-color: transparent;\n",
              "      border-left-color: var(--fill-color);\n",
              "      border-top-color: var(--fill-color);\n",
              "    }\n",
              "    30% {\n",
              "      border-color: transparent;\n",
              "      border-left-color: var(--fill-color);\n",
              "      border-top-color: var(--fill-color);\n",
              "      border-right-color: var(--fill-color);\n",
              "    }\n",
              "    40% {\n",
              "      border-color: transparent;\n",
              "      border-right-color: var(--fill-color);\n",
              "      border-top-color: var(--fill-color);\n",
              "    }\n",
              "    60% {\n",
              "      border-color: transparent;\n",
              "      border-right-color: var(--fill-color);\n",
              "    }\n",
              "    80% {\n",
              "      border-color: transparent;\n",
              "      border-right-color: var(--fill-color);\n",
              "      border-bottom-color: var(--fill-color);\n",
              "    }\n",
              "    90% {\n",
              "      border-color: transparent;\n",
              "      border-bottom-color: var(--fill-color);\n",
              "    }\n",
              "  }\n",
              "</style>\n",
              "\n",
              "  <script>\n",
              "    async function quickchart(key) {\n",
              "      const quickchartButtonEl =\n",
              "        document.querySelector('#' + key + ' button');\n",
              "      quickchartButtonEl.disabled = true;  // To prevent multiple clicks.\n",
              "      quickchartButtonEl.classList.add('colab-df-spinner');\n",
              "      try {\n",
              "        const charts = await google.colab.kernel.invokeFunction(\n",
              "            'suggestCharts', [key], {});\n",
              "      } catch (error) {\n",
              "        console.error('Error during call to suggestCharts:', error);\n",
              "      }\n",
              "      quickchartButtonEl.classList.remove('colab-df-spinner');\n",
              "      quickchartButtonEl.classList.add('colab-df-quickchart-complete');\n",
              "    }\n",
              "    (() => {\n",
              "      let quickchartButtonEl =\n",
              "        document.querySelector('#df-f62f8ad3-8594-45aa-b52d-202a77573ccd button');\n",
              "      quickchartButtonEl.style.display =\n",
              "        google.colab.kernel.accessAllowed ? 'block' : 'none';\n",
              "    })();\n",
              "  </script>\n",
              "</div>\n",
              "\n",
              "  <div id=\"id_6c0c59ce-54e1-4c10-b1de-36aeab40c5e5\">\n",
              "    <style>\n",
              "      .colab-df-generate {\n",
              "        background-color: #E8F0FE;\n",
              "        border: none;\n",
              "        border-radius: 50%;\n",
              "        cursor: pointer;\n",
              "        display: none;\n",
              "        fill: #1967D2;\n",
              "        height: 32px;\n",
              "        padding: 0 0 0 0;\n",
              "        width: 32px;\n",
              "      }\n",
              "\n",
              "      .colab-df-generate:hover {\n",
              "        background-color: #E2EBFA;\n",
              "        box-shadow: 0px 1px 2px rgba(60, 64, 67, 0.3), 0px 1px 3px 1px rgba(60, 64, 67, 0.15);\n",
              "        fill: #174EA6;\n",
              "      }\n",
              "\n",
              "      [theme=dark] .colab-df-generate {\n",
              "        background-color: #3B4455;\n",
              "        fill: #D2E3FC;\n",
              "      }\n",
              "\n",
              "      [theme=dark] .colab-df-generate:hover {\n",
              "        background-color: #434B5C;\n",
              "        box-shadow: 0px 1px 3px 1px rgba(0, 0, 0, 0.15);\n",
              "        filter: drop-shadow(0px 1px 2px rgba(0, 0, 0, 0.3));\n",
              "        fill: #FFFFFF;\n",
              "      }\n",
              "    </style>\n",
              "    <button class=\"colab-df-generate\" onclick=\"generateWithVariable('data_obesitas')\"\n",
              "            title=\"Generate code using this dataframe.\"\n",
              "            style=\"display:none;\">\n",
              "\n",
              "  <svg xmlns=\"http://www.w3.org/2000/svg\" height=\"24px\"viewBox=\"0 0 24 24\"\n",
              "       width=\"24px\">\n",
              "    <path d=\"M7,19H8.4L18.45,9,17,7.55,7,17.6ZM5,21V16.75L18.45,3.32a2,2,0,0,1,2.83,0l1.4,1.43a1.91,1.91,0,0,1,.58,1.4,1.91,1.91,0,0,1-.58,1.4L9.25,21ZM18.45,9,17,7.55Zm-12,3A5.31,5.31,0,0,0,4.9,8.1,5.31,5.31,0,0,0,1,6.5,5.31,5.31,0,0,0,4.9,4.9,5.31,5.31,0,0,0,6.5,1,5.31,5.31,0,0,0,8.1,4.9,5.31,5.31,0,0,0,12,6.5,5.46,5.46,0,0,0,6.5,12Z\"/>\n",
              "  </svg>\n",
              "    </button>\n",
              "    <script>\n",
              "      (() => {\n",
              "      const buttonEl =\n",
              "        document.querySelector('#id_6c0c59ce-54e1-4c10-b1de-36aeab40c5e5 button.colab-df-generate');\n",
              "      buttonEl.style.display =\n",
              "        google.colab.kernel.accessAllowed ? 'block' : 'none';\n",
              "\n",
              "      buttonEl.onclick = () => {\n",
              "        google.colab.notebook.generateWithVariable('data_obesitas');\n",
              "      }\n",
              "      })();\n",
              "    </script>\n",
              "  </div>\n",
              "\n",
              "    </div>\n",
              "  </div>\n"
            ],
            "application/vnd.google.colaboratory.intrinsic+json": {
              "type": "dataframe",
              "variable_name": "data_obesitas",
              "summary": "{\n  \"name\": \"data_obesitas\",\n  \"rows\": 2086,\n  \"fields\": [\n    {\n      \"column\": \"Gender\",\n      \"properties\": {\n        \"dtype\": \"number\",\n        \"std\": 0,\n        \"min\": 0,\n        \"max\": 1,\n        \"num_unique_values\": 2,\n        \"samples\": [\n          1,\n          0\n        ],\n        \"semantic_type\": \"\",\n        \"description\": \"\"\n      }\n    },\n    {\n      \"column\": \"Age\",\n      \"properties\": {\n        \"dtype\": \"number\",\n        \"std\": 6.369905088735729,\n        \"min\": 14.0,\n        \"max\": 61.0,\n        \"num_unique_values\": 1402,\n        \"samples\": [\n          25.526746,\n          26.740655\n        ],\n        \"semantic_type\": \"\",\n        \"description\": \"\"\n      }\n    },\n    {\n      \"column\": \"Height\",\n      \"properties\": {\n        \"dtype\": \"number\",\n        \"std\": 0.09312235102622235,\n        \"min\": 1.45,\n        \"max\": 1.98,\n        \"num_unique_values\": 1574,\n        \"samples\": [\n          1.760175,\n          1.688436\n        ],\n        \"semantic_type\": \"\",\n        \"description\": \"\"\n      }\n    },\n    {\n      \"column\": \"Weight\",\n      \"properties\": {\n        \"dtype\": \"number\",\n        \"std\": 26.17869116641811,\n        \"min\": 39.0,\n        \"max\": 173.0,\n        \"num_unique_values\": 1525,\n        \"samples\": [\n          120.702935,\n          64.4\n        ],\n        \"semantic_type\": \"\",\n        \"description\": \"\"\n      }\n    },\n    {\n      \"column\": \"FCVC\",\n      \"properties\": {\n        \"dtype\": \"number\",\n        \"std\": 0.5347146541409116,\n        \"min\": 1.0,\n        \"max\": 3.0,\n        \"num_unique_values\": 810,\n        \"samples\": [\n          2.987148,\n          2.939727\n        ],\n        \"semantic_type\": \"\",\n        \"description\": \"\"\n      }\n    },\n    {\n      \"column\": \"NCP\",\n      \"properties\": {\n        \"dtype\": \"number\",\n        \"std\": 0.7638894126455894,\n        \"min\": 1.0,\n        \"max\": 4.0,\n        \"num_unique_values\": 635,\n        \"samples\": [\n          1.468948,\n          2.9948\n        ],\n        \"semantic_type\": \"\",\n        \"description\": \"\"\n      }\n    },\n    {\n      \"column\": \"CH2O\",\n      \"properties\": {\n        \"dtype\": \"number\",\n        \"std\": 0.6080320057359296,\n        \"min\": 1.0,\n        \"max\": 3.0,\n        \"num_unique_values\": 1268,\n        \"samples\": [\n          2.395387,\n          1.983973\n        ],\n        \"semantic_type\": \"\",\n        \"description\": \"\"\n      }\n    },\n    {\n      \"column\": \"FAF\",\n      \"properties\": {\n        \"dtype\": \"number\",\n        \"std\": 0.853390977865575,\n        \"min\": 0.0,\n        \"max\": 3.0,\n        \"num_unique_values\": 1190,\n        \"samples\": [\n          1.655488,\n          2.433918\n        ],\n        \"semantic_type\": \"\",\n        \"description\": \"\"\n      }\n    },\n    {\n      \"column\": \"TUE\",\n      \"properties\": {\n        \"dtype\": \"number\",\n        \"std\": 0.6081256882591634,\n        \"min\": 0.0,\n        \"max\": 2.0,\n        \"num_unique_values\": 1129,\n        \"samples\": [\n          1.416353,\n          0.878258\n        ],\n        \"semantic_type\": \"\",\n        \"description\": \"\"\n      }\n    },\n    {\n      \"column\": \"NObeyesdad\",\n      \"properties\": {\n        \"dtype\": \"number\",\n        \"std\": 1,\n        \"min\": 0,\n        \"max\": 3,\n        \"num_unique_values\": 4,\n        \"samples\": [\n          2,\n          0\n        ],\n        \"semantic_type\": \"\",\n        \"description\": \"\"\n      }\n    }\n  ]\n}"
            }
          },
          "metadata": {},
          "execution_count": 49
        }
      ]
    },
    {
      "cell_type": "code",
      "source": [
        "features = ['Gender', 'Age', 'Height', 'Weight', 'FCVC', 'NCP', 'CH2O', 'FAF', 'TUE']"
      ],
      "metadata": {
        "id": "20VFSDCFqdcs"
      },
      "execution_count": 50,
      "outputs": []
    },
    {
      "cell_type": "code",
      "source": [
        "#Train test and split\n",
        "X_obes = data_obesitas[features]\n",
        "y_obes = data_obesitas['NObeyesdad']"
      ],
      "metadata": {
        "id": "fggDns79hgNL"
      },
      "execution_count": 51,
      "outputs": []
    },
    {
      "cell_type": "code",
      "source": [
        "X_obes = X_obes.values\n",
        "y_obes = y_obes.values"
      ],
      "metadata": {
        "id": "4NdBJ0VSpxZy"
      },
      "execution_count": 52,
      "outputs": []
    },
    {
      "cell_type": "code",
      "source": [
        "smote_enn = SMOTEENN(random_state=42)\n",
        "X_resampled, y_resampled = smote_enn.fit_resample(X_obes, y_obes)"
      ],
      "metadata": {
        "id": "PvmhaSwPi0ey"
      },
      "execution_count": 53,
      "outputs": []
    },
    {
      "cell_type": "code",
      "source": [
        "X_tensor = torch.FloatTensor(X_resampled)\n",
        "y_tensor = torch.LongTensor(y_resampled)"
      ],
      "metadata": {
        "id": "oG5kwRSKr6Vj"
      },
      "execution_count": 54,
      "outputs": []
    },
    {
      "cell_type": "code",
      "source": [
        "X_train_obes, X_test_obes, y_train_obes, y_test_obes = train_test_split(X_resampled, y_resampled, test_size=0.2, stratify=y_resampled, random_state=42)"
      ],
      "metadata": {
        "id": "BPZtIncYjBxE"
      },
      "execution_count": 55,
      "outputs": []
    },
    {
      "cell_type": "code",
      "source": [
        "X_train_obes = torch.FloatTensor(X_train_obes)\n",
        "X_test_obes = torch.FloatTensor(X_test_obes)"
      ],
      "metadata": {
        "id": "cJ2jDfA8j4F2"
      },
      "execution_count": 56,
      "outputs": []
    },
    {
      "cell_type": "code",
      "source": [
        "y_train_obes = torch.LongTensor(y_train_obes)\n",
        "y_test_obes = torch.LongTensor(y_test_obes)"
      ],
      "metadata": {
        "id": "xMBC-7mNj7gq"
      },
      "execution_count": 57,
      "outputs": []
    },
    {
      "cell_type": "code",
      "source": [
        "train_dataset_obes = TensorDataset(X_train_obes, y_train_obes)\n",
        "test_dataset_obes = TensorDataset(X_test_obes, y_test_obes)"
      ],
      "metadata": {
        "id": "L7TiM13RkCOP"
      },
      "execution_count": 58,
      "outputs": []
    },
    {
      "cell_type": "code",
      "source": [
        "train_loader = DataLoader(train_dataset_obes, batch_size=64, num_workers=4, shuffle=True,pin_memory=True)\n",
        "test_loader = DataLoader(test_dataset_obes, batch_size=64, num_workers=4, shuffle=False,pin_memory=True)"
      ],
      "metadata": {
        "colab": {
          "base_uri": "https://localhost:8080/"
        },
        "id": "erCg5HC4kFG-",
        "outputId": "0e369eb9-75f1-47d2-bf03-42a09e603fd1"
      },
      "execution_count": 59,
      "outputs": [
        {
          "output_type": "stream",
          "name": "stderr",
          "text": [
            "/usr/local/lib/python3.11/dist-packages/torch/utils/data/dataloader.py:617: UserWarning: This DataLoader will create 4 worker processes in total. Our suggested max number of worker in current system is 2, which is smaller than what this DataLoader is going to create. Please be aware that excessive worker creation might get DataLoader running slow or even freeze, lower the worker number to avoid potential slowness/freeze if necessary.\n",
            "  warnings.warn(\n"
          ]
        }
      ]
    },
    {
      "cell_type": "code",
      "source": [
        "for batch in train_loader:\n",
        "    X_batch, y_batch = batch\n",
        "    print(X_batch.shape, y_batch.shape)"
      ],
      "metadata": {
        "colab": {
          "base_uri": "https://localhost:8080/"
        },
        "id": "o255lcAekZtu",
        "outputId": "8a8c0377-a992-43de-c20c-2afd95e95cbc"
      },
      "execution_count": 60,
      "outputs": [
        {
          "output_type": "stream",
          "name": "stdout",
          "text": [
            "torch.Size([64, 9]) torch.Size([64])\n",
            "torch.Size([64, 9]) torch.Size([64])\n",
            "torch.Size([64, 9]) torch.Size([64])\n",
            "torch.Size([64, 9]) torch.Size([64])\n",
            "torch.Size([64, 9]) torch.Size([64])\n",
            "torch.Size([64, 9]) torch.Size([64])\n",
            "torch.Size([64, 9]) torch.Size([64])\n",
            "torch.Size([64, 9]) torch.Size([64])\n",
            "torch.Size([64, 9]) torch.Size([64])\n",
            "torch.Size([64, 9]) torch.Size([64])\n",
            "torch.Size([64, 9]) torch.Size([64])\n",
            "torch.Size([64, 9]) torch.Size([64])\n",
            "torch.Size([64, 9]) torch.Size([64])\n",
            "torch.Size([64, 9]) torch.Size([64])\n",
            "torch.Size([64, 9]) torch.Size([64])\n",
            "torch.Size([64, 9]) torch.Size([64])\n",
            "torch.Size([64, 9]) torch.Size([64])\n",
            "torch.Size([64, 9]) torch.Size([64])\n",
            "torch.Size([64, 9]) torch.Size([64])\n",
            "torch.Size([64, 9]) torch.Size([64])\n",
            "torch.Size([64, 9]) torch.Size([64])\n",
            "torch.Size([64, 9]) torch.Size([64])\n",
            "torch.Size([64, 9]) torch.Size([64])\n",
            "torch.Size([64, 9]) torch.Size([64])\n",
            "torch.Size([64, 9]) torch.Size([64])\n",
            "torch.Size([64, 9]) torch.Size([64])\n",
            "torch.Size([64, 9]) torch.Size([64])\n",
            "torch.Size([64, 9]) torch.Size([64])\n",
            "torch.Size([64, 9]) torch.Size([64])\n",
            "torch.Size([64, 9]) torch.Size([64])\n",
            "torch.Size([64, 9]) torch.Size([64])\n",
            "torch.Size([64, 9]) torch.Size([64])\n",
            "torch.Size([64, 9]) torch.Size([64])\n",
            "torch.Size([64, 9]) torch.Size([64])\n",
            "torch.Size([64, 9]) torch.Size([64])\n",
            "torch.Size([64, 9]) torch.Size([64])\n",
            "torch.Size([64, 9]) torch.Size([64])\n",
            "torch.Size([64, 9]) torch.Size([64])\n",
            "torch.Size([64, 9]) torch.Size([64])\n",
            "torch.Size([64, 9]) torch.Size([64])\n",
            "torch.Size([64, 9]) torch.Size([64])\n",
            "torch.Size([64, 9]) torch.Size([64])\n",
            "torch.Size([64, 9]) torch.Size([64])\n",
            "torch.Size([64, 9]) torch.Size([64])\n",
            "torch.Size([60, 9]) torch.Size([60])\n"
          ]
        }
      ]
    },
    {
      "cell_type": "markdown",
      "source": [
        "##Pembuatan Model"
      ],
      "metadata": {
        "id": "_zwSMl8P3RxL"
      }
    },
    {
      "cell_type": "code",
      "source": [
        "class modelobesitas(nn.Module):\n",
        "  def __init__(self, input_size):\n",
        "    super(modelobesitas, self).__init__()\n",
        "\n",
        "    self.layer1 = nn.Sequential(\n",
        "        nn.Linear(input_size, 256),\n",
        "        nn.ReLU(),\n",
        "        nn.BatchNorm1d(256),\n",
        "        nn.Dropout(0.1)\n",
        "    )\n",
        "\n",
        "    self.layer2 = nn.Sequential(\n",
        "        nn.Linear(256, 512),\n",
        "        nn.ReLU(),\n",
        "        nn.BatchNorm1d(512),\n",
        "        nn.Dropout(0.1)\n",
        "    )\n",
        "\n",
        "    self.layer3 = nn.Sequential(\n",
        "        nn.Linear(512, 64),\n",
        "        nn.ReLU(),\n",
        "        nn.BatchNorm1d(64)\n",
        "    )\n",
        "\n",
        "    self.output_layer = nn.Sequential(\n",
        "        nn.Linear(64, 4),\n",
        "        nn.Softmax(dim=1)\n",
        "    )\n",
        "\n",
        "  def forward(self, x):\n",
        "    x = self.layer1(x)\n",
        "    x = self.layer2(x)\n",
        "    x = self.layer3(x)\n",
        "    x = self.output_layer(x)\n",
        "    return x"
      ],
      "metadata": {
        "id": "37gnhYPVk4K2"
      },
      "execution_count": 61,
      "outputs": []
    },
    {
      "cell_type": "code",
      "source": [
        "print(X_train_obes.shape[1])"
      ],
      "metadata": {
        "colab": {
          "base_uri": "https://localhost:8080/"
        },
        "id": "KogBOG_Bn8x2",
        "outputId": "44565716-7a22-40c4-ba46-e8ee3d491e06"
      },
      "execution_count": 62,
      "outputs": [
        {
          "output_type": "stream",
          "name": "stdout",
          "text": [
            "9\n"
          ]
        }
      ]
    },
    {
      "cell_type": "code",
      "source": [
        "model = modelobesitas(input_size=X_train_obes.shape[1])"
      ],
      "metadata": {
        "id": "v06WA4e0nhvu"
      },
      "execution_count": 63,
      "outputs": []
    },
    {
      "cell_type": "code",
      "source": [
        "def train_model(model, train_loader, test_loader, num_epochs=100):\n",
        "  device = torch.device('cuda' if torch.cuda.is_available() else 'cpu')\n",
        "  model.to(device)\n",
        "\n",
        "  criterion = nn.CrossEntropyLoss()\n",
        "  optimizer = optim.Adam(model.parameters(), lr=0.0001)\n",
        "\n",
        "  reduce_lr = ReduceLROnPlateau(optimizer, mode='max', factor=0.5, patience=5, verbose=True, min_lr=1e-6)\n",
        "\n",
        "  def lr_lambda(epoch):\n",
        "    return 0.1 if epoch >= 50 else 1.0\n",
        "\n",
        "  lr_scheduler = LambdaLR(optimizer, lr_lambda)\n",
        "\n",
        "  history = {\n",
        "      'train_loss': [],\n",
        "      'train_acc': [],\n",
        "      'val_loss': [],\n",
        "      'val_acc': []\n",
        "  }\n",
        "\n",
        "  best_val_acc = 0.0\n",
        "\n",
        "  for epoch in range(num_epochs):\n",
        "    model.train()\n",
        "    train_loss = 0.0\n",
        "    correct = 0\n",
        "    total = 0\n",
        "\n",
        "    for inputs, labels in train_loader:\n",
        "            inputs, labels = inputs.to(device), labels.to(device)\n",
        "\n",
        "            optimizer.zero_grad()\n",
        "            outputs = model(inputs)\n",
        "            loss = criterion(outputs, labels)\n",
        "            loss.backward()\n",
        "            optimizer.step()\n",
        "\n",
        "            train_loss += loss.item()\n",
        "            _, predicted = outputs.max(1)\n",
        "            total += labels.size(0)\n",
        "            correct += predicted.eq(labels).sum().item()\n",
        "\n",
        "    train_acc = 100. * correct / total\n",
        "    train_loss = train_loss / len(train_loader)\n",
        "\n",
        "        # Validation phase\n",
        "    model.eval()\n",
        "    val_loss = 0.0\n",
        "    correct = 0\n",
        "    total = 0\n",
        "\n",
        "    with torch.no_grad():\n",
        "        for inputs, labels in test_loader:\n",
        "            inputs, labels = inputs.to(device), labels.to(device)\n",
        "            outputs = model(inputs)\n",
        "            loss = criterion(outputs, labels)\n",
        "\n",
        "            val_loss += loss.item()\n",
        "            _, predicted = outputs.max(1)\n",
        "            total += labels.size(0)\n",
        "            correct += predicted.eq(labels).sum().item()\n",
        "\n",
        "    val_acc = 100. * correct / total\n",
        "    val_loss = val_loss / len(test_loader)\n",
        "\n",
        "        # Update learning rate schedulers\n",
        "    reduce_lr.step(val_acc)\n",
        "    lr_scheduler.step()\n",
        "\n",
        "    if val_acc > best_val_acc:\n",
        "        best_val_acc = val_acc\n",
        "        torch.save(model.state_dict(), 'best_model.pth')\n",
        "        print(f'Saved best model with validation accuracy: {val_acc:.2f}%')\n",
        "\n",
        "\n",
        "    history['train_loss'].append(train_loss)\n",
        "    history['train_acc'].append(train_acc)\n",
        "    history['val_loss'].append(val_loss)\n",
        "    history['val_acc'].append(val_acc)\n",
        "\n",
        "    print(f'Epoch [{epoch+1}/{num_epochs}] Train Loss: {train_loss:.4f} Train Acc: {train_acc:.2f}% '\n",
        "          f'Val Loss: {val_loss:.4f} Val Acc: {val_acc:.2f}%')\n",
        "\n",
        "  return history"
      ],
      "metadata": {
        "id": "E5Ni16MdthXA"
      },
      "execution_count": 64,
      "outputs": []
    },
    {
      "cell_type": "code",
      "source": [
        "history = train_model(model, train_loader, test_loader)"
      ],
      "metadata": {
        "colab": {
          "base_uri": "https://localhost:8080/"
        },
        "collapsed": true,
        "id": "ltKCj7_1vuBU",
        "outputId": "66e21fce-5f70-4e4e-9cea-ad13479b0809"
      },
      "execution_count": 65,
      "outputs": [
        {
          "output_type": "stream",
          "name": "stderr",
          "text": [
            "/usr/local/lib/python3.11/dist-packages/torch/optim/lr_scheduler.py:62: UserWarning: The verbose parameter is deprecated. Please use get_last_lr() to access the learning rate.\n",
            "  warnings.warn(\n"
          ]
        },
        {
          "output_type": "stream",
          "name": "stdout",
          "text": [
            "Saved best model with validation accuracy: 74.69%\n",
            "Epoch [1/100] Train Loss: 1.1556 Train Acc: 68.01% Val Loss: 1.0730 Val Acc: 74.69%\n",
            "Saved best model with validation accuracy: 75.66%\n",
            "Epoch [2/100] Train Loss: 1.0588 Train Acc: 74.51% Val Loss: 1.0205 Val Acc: 75.66%\n",
            "Saved best model with validation accuracy: 79.97%\n",
            "Epoch [3/100] Train Loss: 1.0319 Train Acc: 75.56% Val Loss: 0.9916 Val Acc: 79.97%\n",
            "Saved best model with validation accuracy: 80.39%\n",
            "Epoch [4/100] Train Loss: 1.0105 Train Acc: 77.50% Val Loss: 0.9758 Val Acc: 80.39%\n",
            "Saved best model with validation accuracy: 82.48%\n",
            "Epoch [5/100] Train Loss: 0.9957 Train Acc: 79.10% Val Loss: 0.9612 Val Acc: 82.48%\n",
            "Saved best model with validation accuracy: 83.59%\n",
            "Epoch [6/100] Train Loss: 0.9863 Train Acc: 78.16% Val Loss: 0.9555 Val Acc: 83.59%\n",
            "Epoch [7/100] Train Loss: 0.9759 Train Acc: 79.87% Val Loss: 0.9443 Val Acc: 83.59%\n",
            "Saved best model with validation accuracy: 84.84%\n",
            "Epoch [8/100] Train Loss: 0.9770 Train Acc: 79.21% Val Loss: 0.9341 Val Acc: 84.84%\n",
            "Epoch [9/100] Train Loss: 0.9655 Train Acc: 80.84% Val Loss: 0.9295 Val Acc: 84.56%\n",
            "Saved best model with validation accuracy: 85.26%\n",
            "Epoch [10/100] Train Loss: 0.9514 Train Acc: 81.95% Val Loss: 0.9226 Val Acc: 85.26%\n",
            "Epoch [11/100] Train Loss: 0.9467 Train Acc: 81.75% Val Loss: 0.9191 Val Acc: 85.26%\n",
            "Epoch [12/100] Train Loss: 0.9377 Train Acc: 83.34% Val Loss: 0.9163 Val Acc: 84.84%\n",
            "Epoch [13/100] Train Loss: 0.9457 Train Acc: 81.99% Val Loss: 0.9166 Val Acc: 84.70%\n",
            "Saved best model with validation accuracy: 86.23%\n",
            "Epoch [14/100] Train Loss: 0.9238 Train Acc: 84.28% Val Loss: 0.9102 Val Acc: 86.23%\n",
            "Saved best model with validation accuracy: 86.79%\n",
            "Epoch [15/100] Train Loss: 0.9264 Train Acc: 83.66% Val Loss: 0.8987 Val Acc: 86.79%\n",
            "Epoch [16/100] Train Loss: 0.9235 Train Acc: 84.60% Val Loss: 0.8977 Val Acc: 86.23%\n",
            "Saved best model with validation accuracy: 87.34%\n",
            "Epoch [17/100] Train Loss: 0.9202 Train Acc: 84.32% Val Loss: 0.8916 Val Acc: 87.34%\n",
            "Saved best model with validation accuracy: 87.48%\n",
            "Epoch [18/100] Train Loss: 0.9129 Train Acc: 85.08% Val Loss: 0.8873 Val Acc: 87.48%\n",
            "Saved best model with validation accuracy: 87.90%\n",
            "Epoch [19/100] Train Loss: 0.9042 Train Acc: 85.81% Val Loss: 0.8815 Val Acc: 87.90%\n",
            "Epoch [20/100] Train Loss: 0.9034 Train Acc: 85.50% Val Loss: 0.8802 Val Acc: 87.62%\n",
            "Epoch [21/100] Train Loss: 0.9033 Train Acc: 85.54% Val Loss: 0.8809 Val Acc: 87.90%\n",
            "Epoch [22/100] Train Loss: 0.8954 Train Acc: 86.65% Val Loss: 0.8783 Val Acc: 87.90%\n",
            "Epoch [23/100] Train Loss: 0.8969 Train Acc: 86.30% Val Loss: 0.8792 Val Acc: 87.62%\n",
            "Epoch [24/100] Train Loss: 0.9008 Train Acc: 85.74% Val Loss: 0.8785 Val Acc: 87.62%\n",
            "Saved best model with validation accuracy: 88.46%\n",
            "Epoch [25/100] Train Loss: 0.8945 Train Acc: 86.20% Val Loss: 0.8686 Val Acc: 88.46%\n",
            "Epoch [26/100] Train Loss: 0.8965 Train Acc: 86.06% Val Loss: 0.8715 Val Acc: 88.18%\n",
            "Saved best model with validation accuracy: 89.29%\n",
            "Epoch [27/100] Train Loss: 0.8870 Train Acc: 86.93% Val Loss: 0.8674 Val Acc: 89.29%\n",
            "Epoch [28/100] Train Loss: 0.8883 Train Acc: 86.82% Val Loss: 0.8671 Val Acc: 88.46%\n",
            "Epoch [29/100] Train Loss: 0.8873 Train Acc: 86.72% Val Loss: 0.8663 Val Acc: 89.01%\n",
            "Epoch [30/100] Train Loss: 0.8838 Train Acc: 87.24% Val Loss: 0.8692 Val Acc: 88.60%\n",
            "Epoch [31/100] Train Loss: 0.8840 Train Acc: 86.89% Val Loss: 0.8645 Val Acc: 88.73%\n",
            "Saved best model with validation accuracy: 89.57%\n",
            "Epoch [32/100] Train Loss: 0.8795 Train Acc: 87.59% Val Loss: 0.8586 Val Acc: 89.57%\n",
            "Epoch [33/100] Train Loss: 0.8816 Train Acc: 86.86% Val Loss: 0.8547 Val Acc: 89.29%\n",
            "Saved best model with validation accuracy: 90.13%\n",
            "Epoch [34/100] Train Loss: 0.8819 Train Acc: 87.45% Val Loss: 0.8540 Val Acc: 90.13%\n",
            "Saved best model with validation accuracy: 90.26%\n",
            "Epoch [35/100] Train Loss: 0.8759 Train Acc: 87.76% Val Loss: 0.8548 Val Acc: 90.26%\n",
            "Epoch [36/100] Train Loss: 0.8744 Train Acc: 87.76% Val Loss: 0.8559 Val Acc: 89.71%\n",
            "Epoch [37/100] Train Loss: 0.8757 Train Acc: 87.80% Val Loss: 0.8564 Val Acc: 89.85%\n",
            "Epoch [38/100] Train Loss: 0.8669 Train Acc: 88.77% Val Loss: 0.8531 Val Acc: 89.99%\n",
            "Epoch [39/100] Train Loss: 0.8702 Train Acc: 88.07% Val Loss: 0.8574 Val Acc: 89.99%\n",
            "Saved best model with validation accuracy: 90.54%\n",
            "Epoch [40/100] Train Loss: 0.8760 Train Acc: 87.59% Val Loss: 0.8554 Val Acc: 90.54%\n",
            "Epoch [41/100] Train Loss: 0.8809 Train Acc: 87.41% Val Loss: 0.8500 Val Acc: 89.99%\n",
            "Epoch [42/100] Train Loss: 0.8759 Train Acc: 87.80% Val Loss: 0.8569 Val Acc: 89.71%\n",
            "Epoch [43/100] Train Loss: 0.8699 Train Acc: 88.07% Val Loss: 0.8472 Val Acc: 90.26%\n",
            "Epoch [44/100] Train Loss: 0.8677 Train Acc: 88.73% Val Loss: 0.8574 Val Acc: 89.99%\n",
            "Epoch [45/100] Train Loss: 0.8672 Train Acc: 88.39% Val Loss: 0.8422 Val Acc: 90.13%\n",
            "Saved best model with validation accuracy: 90.96%\n",
            "Epoch [46/100] Train Loss: 0.8630 Train Acc: 88.87% Val Loss: 0.8448 Val Acc: 90.96%\n",
            "Saved best model with validation accuracy: 91.10%\n",
            "Epoch [47/100] Train Loss: 0.8674 Train Acc: 88.56% Val Loss: 0.8408 Val Acc: 91.10%\n",
            "Epoch [48/100] Train Loss: 0.8599 Train Acc: 89.39% Val Loss: 0.8408 Val Acc: 90.54%\n",
            "Saved best model with validation accuracy: 91.38%\n",
            "Epoch [49/100] Train Loss: 0.8684 Train Acc: 88.21% Val Loss: 0.8400 Val Acc: 91.38%\n",
            "Epoch [50/100] Train Loss: 0.8579 Train Acc: 89.50% Val Loss: 0.8444 Val Acc: 90.68%\n",
            "Epoch [51/100] Train Loss: 0.8533 Train Acc: 90.06% Val Loss: 0.8419 Val Acc: 90.82%\n",
            "Epoch [52/100] Train Loss: 0.8476 Train Acc: 90.61% Val Loss: 0.8381 Val Acc: 91.24%\n",
            "Epoch [53/100] Train Loss: 0.8560 Train Acc: 89.39% Val Loss: 0.8426 Val Acc: 90.82%\n",
            "Epoch [54/100] Train Loss: 0.8555 Train Acc: 89.71% Val Loss: 0.8381 Val Acc: 90.82%\n",
            "Epoch [55/100] Train Loss: 0.8515 Train Acc: 90.19% Val Loss: 0.8370 Val Acc: 91.24%\n",
            "Epoch [56/100] Train Loss: 0.8540 Train Acc: 89.50% Val Loss: 0.8365 Val Acc: 91.24%\n",
            "Epoch [57/100] Train Loss: 0.8523 Train Acc: 89.78% Val Loss: 0.8372 Val Acc: 91.10%\n",
            "Epoch [58/100] Train Loss: 0.8566 Train Acc: 89.85% Val Loss: 0.8382 Val Acc: 91.10%\n",
            "Epoch [59/100] Train Loss: 0.8501 Train Acc: 90.61% Val Loss: 0.8343 Val Acc: 91.38%\n",
            "Epoch [60/100] Train Loss: 0.8505 Train Acc: 90.37% Val Loss: 0.8375 Val Acc: 91.38%\n",
            "Epoch [61/100] Train Loss: 0.8472 Train Acc: 90.54% Val Loss: 0.8355 Val Acc: 91.24%\n",
            "Saved best model with validation accuracy: 91.52%\n",
            "Epoch [62/100] Train Loss: 0.8550 Train Acc: 89.67% Val Loss: 0.8360 Val Acc: 91.52%\n",
            "Epoch [63/100] Train Loss: 0.8489 Train Acc: 90.54% Val Loss: 0.8351 Val Acc: 91.52%\n",
            "Saved best model with validation accuracy: 91.66%\n",
            "Epoch [64/100] Train Loss: 0.8533 Train Acc: 89.92% Val Loss: 0.8334 Val Acc: 91.66%\n",
            "Saved best model with validation accuracy: 91.93%\n",
            "Epoch [65/100] Train Loss: 0.8487 Train Acc: 90.72% Val Loss: 0.8338 Val Acc: 91.93%\n",
            "Epoch [66/100] Train Loss: 0.8544 Train Acc: 89.88% Val Loss: 0.8391 Val Acc: 91.24%\n",
            "Epoch [67/100] Train Loss: 0.8455 Train Acc: 90.72% Val Loss: 0.8366 Val Acc: 90.82%\n",
            "Epoch [68/100] Train Loss: 0.8531 Train Acc: 89.95% Val Loss: 0.8346 Val Acc: 91.93%\n",
            "Saved best model with validation accuracy: 92.07%\n",
            "Epoch [69/100] Train Loss: 0.8453 Train Acc: 90.79% Val Loss: 0.8310 Val Acc: 92.07%\n",
            "Epoch [70/100] Train Loss: 0.8496 Train Acc: 90.68% Val Loss: 0.8319 Val Acc: 91.79%\n",
            "Epoch [71/100] Train Loss: 0.8501 Train Acc: 90.33% Val Loss: 0.8354 Val Acc: 90.82%\n",
            "Epoch [72/100] Train Loss: 0.8423 Train Acc: 91.13% Val Loss: 0.8325 Val Acc: 91.38%\n",
            "Epoch [73/100] Train Loss: 0.8509 Train Acc: 89.71% Val Loss: 0.8324 Val Acc: 91.79%\n",
            "Epoch [74/100] Train Loss: 0.8489 Train Acc: 90.23% Val Loss: 0.8345 Val Acc: 90.96%\n",
            "Epoch [75/100] Train Loss: 0.8492 Train Acc: 90.23% Val Loss: 0.8347 Val Acc: 91.24%\n",
            "Epoch [76/100] Train Loss: 0.8516 Train Acc: 90.30% Val Loss: 0.8341 Val Acc: 90.82%\n",
            "Epoch [77/100] Train Loss: 0.8522 Train Acc: 90.06% Val Loss: 0.8341 Val Acc: 90.82%\n",
            "Epoch [78/100] Train Loss: 0.8489 Train Acc: 90.65% Val Loss: 0.8330 Val Acc: 91.38%\n",
            "Epoch [79/100] Train Loss: 0.8593 Train Acc: 88.63% Val Loss: 0.8316 Val Acc: 91.79%\n",
            "Epoch [80/100] Train Loss: 0.8469 Train Acc: 90.54% Val Loss: 0.8312 Val Acc: 91.93%\n",
            "Epoch [81/100] Train Loss: 0.8404 Train Acc: 91.13% Val Loss: 0.8327 Val Acc: 90.96%\n",
            "Epoch [82/100] Train Loss: 0.8497 Train Acc: 90.19% Val Loss: 0.8323 Val Acc: 91.38%\n",
            "Epoch [83/100] Train Loss: 0.8448 Train Acc: 90.89% Val Loss: 0.8321 Val Acc: 90.96%\n",
            "Epoch [84/100] Train Loss: 0.8439 Train Acc: 90.75% Val Loss: 0.8328 Val Acc: 91.10%\n",
            "Epoch [85/100] Train Loss: 0.8511 Train Acc: 89.81% Val Loss: 0.8320 Val Acc: 91.79%\n",
            "Epoch [86/100] Train Loss: 0.8553 Train Acc: 89.60% Val Loss: 0.8347 Val Acc: 91.10%\n",
            "Epoch [87/100] Train Loss: 0.8581 Train Acc: 89.15% Val Loss: 0.8379 Val Acc: 91.24%\n",
            "Epoch [88/100] Train Loss: 0.8410 Train Acc: 91.41% Val Loss: 0.8322 Val Acc: 91.10%\n",
            "Epoch [89/100] Train Loss: 0.8437 Train Acc: 90.68% Val Loss: 0.8317 Val Acc: 91.66%\n",
            "Epoch [90/100] Train Loss: 0.8438 Train Acc: 91.10% Val Loss: 0.8319 Val Acc: 91.24%\n",
            "Epoch [91/100] Train Loss: 0.8476 Train Acc: 90.33% Val Loss: 0.8304 Val Acc: 91.79%\n",
            "Epoch [92/100] Train Loss: 0.8532 Train Acc: 89.78% Val Loss: 0.8367 Val Acc: 91.10%\n",
            "Epoch [93/100] Train Loss: 0.8465 Train Acc: 90.99% Val Loss: 0.8317 Val Acc: 91.24%\n",
            "Epoch [94/100] Train Loss: 0.8464 Train Acc: 90.26% Val Loss: 0.8307 Val Acc: 91.79%\n",
            "Epoch [95/100] Train Loss: 0.8465 Train Acc: 90.79% Val Loss: 0.8302 Val Acc: 91.79%\n",
            "Epoch [96/100] Train Loss: 0.8422 Train Acc: 91.06% Val Loss: 0.8303 Val Acc: 91.66%\n",
            "Epoch [97/100] Train Loss: 0.8463 Train Acc: 90.61% Val Loss: 0.8333 Val Acc: 90.82%\n",
            "Epoch [98/100] Train Loss: 0.8498 Train Acc: 90.19% Val Loss: 0.8310 Val Acc: 91.66%\n",
            "Epoch [99/100] Train Loss: 0.8491 Train Acc: 90.30% Val Loss: 0.8348 Val Acc: 91.93%\n",
            "Epoch [100/100] Train Loss: 0.8412 Train Acc: 91.31% Val Loss: 0.8312 Val Acc: 91.66%\n"
          ]
        }
      ]
    },
    {
      "cell_type": "code",
      "source": [
        "def plot_training_history(history):\n",
        "    # Create figure with two subplots\n",
        "    fig, (ax1, ax2) = plt.subplots(1, 2, figsize=(15, 5))\n",
        "\n",
        "    # Plot training & validation loss\n",
        "    ax1.plot(history['train_loss'], label='Training Loss')\n",
        "    ax1.plot(history['val_loss'], label='Validation Loss')\n",
        "    ax1.set_title('Model Loss')\n",
        "    ax1.set_xlabel('Epoch')\n",
        "    ax1.set_ylabel('Loss')\n",
        "    ax1.legend(loc='upper right')\n",
        "    ax1.grid(True)\n",
        "\n",
        "    # Plot training & validation accuracy\n",
        "    ax2.plot(history['train_acc'], label='Training Accuracy')\n",
        "    ax2.plot(history['val_acc'], label='Validation Accuracy')\n",
        "    ax2.set_title('Model Accuracy')\n",
        "    ax2.set_xlabel('Epoch')\n",
        "    ax2.set_ylabel('Accuracy (%)')\n",
        "    ax2.legend(loc='lower right')\n",
        "    ax2.grid(True)\n",
        "\n",
        "    plt.tight_layout()\n",
        "    plt.show()"
      ],
      "metadata": {
        "id": "_7u_wkzDwF00"
      },
      "execution_count": 66,
      "outputs": []
    },
    {
      "cell_type": "code",
      "source": [
        "plot_training_history(history)"
      ],
      "metadata": {
        "colab": {
          "base_uri": "https://localhost:8080/",
          "height": 381
        },
        "id": "XE76PyXBwVmq",
        "outputId": "c3d4ac47-9c0f-4d92-bd6b-58b7bce1853f"
      },
      "execution_count": 67,
      "outputs": [
        {
          "output_type": "display_data",
          "data": {
            "text/plain": [
              "<Figure size 1500x500 with 2 Axes>"
            ],
            "image/png": "[encoded data removed]"
          },
          "metadata": {}
        }
      ]
    },
    {
      "cell_type": "markdown",
      "source": [
        "##Test Predict Data"
      ],
      "metadata": {
        "id": "dog1Jrdw3OEk"
      }
    },
    {
      "cell_type": "code",
      "source": [
        "A = torch.tensor([[1,\t46.0,\t1.,\t64.0,\t2.0,\t3.0,\t2.0,\t0.0,\t1.0\t]])"
      ],
      "metadata": {
        "id": "9khRp9F2wuyT"
      },
      "execution_count": 68,
      "outputs": []
    },
    {
      "cell_type": "code",
      "source": [
        "B = torch.tensor([[1,\t27.0,\t1.80,\t87.0,\t3.0,\t3.0,\t2.0,\t2.0,\t0.0\t]])"
      ],
      "metadata": {
        "id": "FZ9aJZPi0PNw"
      },
      "execution_count": 78,
      "outputs": []
    },
    {
      "cell_type": "code",
      "source": [
        "def predict(model, input_data):\n",
        "    with torch.no_grad():\n",
        "        device = torch.device('cuda' if torch.cuda.is_available() else 'cpu')\n",
        "        input_data = input_data.to(device)\n",
        "        prediction = model.forward(input_data)\n",
        "        predicted_class = prediction.argmax().item()\n",
        "        return prediction, predicted_class"
      ],
      "metadata": {
        "id": "qKuRRlGFxt4o"
      },
      "execution_count": 80,
      "outputs": []
    },
    {
      "cell_type": "code",
      "source": [
        "predict(model, A)"
      ],
      "metadata": {
        "colab": {
          "base_uri": "https://localhost:8080/"
        },
        "id": "lD1j20OSxOfn",
        "outputId": "ecaae740-f598-46fc-8cc1-46a000aa09aa"
      },
      "execution_count": 81,
      "outputs": [
        {
          "output_type": "execute_result",
          "data": {
            "text/plain": [
              "(tensor([[3.7472e-10, 1.0000e+00, 7.0640e-09, 9.5217e-14]], device='cuda:0'),\n",
              " 1)"
            ]
          },
          "metadata": {},
          "execution_count": 81
        }
      ]
    },
    {
      "cell_type": "code",
      "source": [
        "predict(model, B)"
      ],
      "metadata": {
        "colab": {
          "base_uri": "https://localhost:8080/"
        },
        "id": "pHLJuFOQ0K2W",
        "outputId": "083db40f-7392-470b-bc18-b00c0f23d9e3"
      },
      "execution_count": 82,
      "outputs": [
        {
          "output_type": "execute_result",
          "data": {
            "text/plain": [
              "(tensor([[8.5079e-04, 9.9906e-04, 9.9154e-01, 6.6110e-03]], device='cuda:0'),\n",
              " 2)"
            ]
          },
          "metadata": {},
          "execution_count": 82
        }
      ]
    },
    {
      "cell_type": "code",
      "source": [
        "correct = 0\n",
        "with torch.no_grad():\n",
        "  device = torch.device('cuda' if torch.cuda.is_available() else 'cpu')\n",
        "  model.to(device)\n",
        "  for i, data in enumerate(X_test_obes):\n",
        "    data = data.to(device)\n",
        "    # Add a batch dimension to data using unsqueeze(0)\n",
        "    data = data.unsqueeze(0)\n",
        "    y_val = model.forward(data)\n",
        "\n",
        "    # Adjust conditionals for the correct number of classes (4 in this case)\n",
        "    if y_test_obes[i] == 0:  # Use y_test_obes for indexing\n",
        "      x = \"Under_weight\"\n",
        "    elif y_test_obes[i] == 1:\n",
        "      x = \"Normal_weight\"\n",
        "    elif y_test_obes[i] == 3:\n",
        "      x = \"Overweight\"\n",
        "    else:\n",
        "      x = \"Obesity\"\n",
        "\n",
        "    print(f'{i+1}.) {str(y_val)} \\t {x} \\t {y_val.argmax().item()}')\n",
        "\n",
        "    #correct\n",
        "    if y_val.argmax().item() == y_test_obes[i]:  # Use y_test_obes for comparison\n",
        "      correct += 1\n",
        "\n",
        "print(f'\\n{correct} out of {len(y_test_obes)} = {100*correct/len(y_test_obes)}% correct')  # Use len(y_test_obes)"
      ],
      "metadata": {
        "colab": {
          "base_uri": "https://localhost:8080/"
        },
        "collapsed": true,
        "id": "XIfo8ARa0QiC",
        "outputId": "fe7e7031-f0b8-4a29-cb4c-0d2fcdddbf47"
      },
      "execution_count": 90,
      "outputs": [
        {
          "output_type": "stream",
          "name": "stdout",
          "text": [
            "1.) tensor([[2.1497e-04, 4.4463e-03, 9.9391e-01, 1.4244e-03]], device='cuda:0') \t Obesity \t 2\n",
            "2.) tensor([[0.0013, 0.0020, 0.6627, 0.3341]], device='cuda:0') \t Obesity \t 2\n",
            "3.) tensor([[8.2730e-05, 9.9979e-01, 1.2042e-04, 8.4816e-06]], device='cuda:0') \t Normal_weight \t 1\n",
            "4.) tensor([[9.9334e-01, 4.2364e-03, 4.2484e-04, 2.0003e-03]], device='cuda:0') \t Under_weight \t 0\n",
            "5.) tensor([[9.8534e-04, 7.4978e-04, 3.0191e-02, 9.6807e-01]], device='cuda:0') \t Overweight \t 3\n",
            "6.) tensor([[8.4942e-04, 1.3056e-03, 8.6692e-01, 1.3092e-01]], device='cuda:0') \t Obesity \t 2\n",
            "7.) tensor([[3.1486e-04, 9.9913e-01, 5.3454e-04, 2.5181e-05]], device='cuda:0') \t Normal_weight \t 1\n",
            "8.) tensor([[0.9816, 0.0133, 0.0011, 0.0040]], device='cuda:0') \t Normal_weight \t 0\n",
            "9.) tensor([[9.9098e-01, 7.4765e-03, 7.6811e-04, 7.7485e-04]], device='cuda:0') \t Under_weight \t 0\n",
            "10.) tensor([[1.0689e-04, 4.4547e-03, 9.9146e-01, 3.9738e-03]], device='cuda:0') \t Obesity \t 2\n",
            "11.) tensor([[9.8593e-01, 1.1448e-02, 7.4184e-04, 1.8807e-03]], device='cuda:0') \t Under_weight \t 0\n",
            "12.) tensor([[9.9880e-01, 2.2936e-04, 4.2481e-04, 5.4597e-04]], device='cuda:0') \t Under_weight \t 0\n",
            "13.) tensor([[2.3279e-04, 9.9957e-01, 1.9199e-04, 8.9165e-06]], device='cuda:0') \t Normal_weight \t 1\n",
            "14.) tensor([[9.9897e-01, 4.8705e-04, 1.5136e-04, 3.9646e-04]], device='cuda:0') \t Under_weight \t 0\n",
            "15.) tensor([[0.0014, 0.0018, 0.0315, 0.9653]], device='cuda:0') \t Overweight \t 3\n",
            "16.) tensor([[9.9597e-01, 3.0366e-03, 2.1326e-04, 7.8028e-04]], device='cuda:0') \t Under_weight \t 0\n",
            "17.) tensor([[0.9782, 0.0183, 0.0010, 0.0024]], device='cuda:0') \t Under_weight \t 0\n",
            "18.) tensor([[3.3304e-05, 7.5352e-04, 9.9888e-01, 3.2868e-04]], device='cuda:0') \t Obesity \t 2\n",
            "19.) tensor([[2.5518e-05, 4.8591e-04, 9.9920e-01, 2.9252e-04]], device='cuda:0') \t Obesity \t 2\n",
            "20.) tensor([[9.9803e-01, 4.5735e-04, 4.3252e-04, 1.0799e-03]], device='cuda:0') \t Under_weight \t 0\n",
            "21.) tensor([[0.3406, 0.6540, 0.0025, 0.0029]], device='cuda:0') \t Normal_weight \t 1\n",
            "22.) tensor([[1.0731e-03, 3.6315e-04, 9.8669e-01, 1.1877e-02]], device='cuda:0') \t Obesity \t 2\n",
            "23.) tensor([[6.6151e-04, 9.9871e-01, 5.8364e-04, 4.4744e-05]], device='cuda:0') \t Normal_weight \t 1\n",
            "24.) tensor([[5.8850e-04, 3.4835e-04, 2.5507e-03, 9.9651e-01]], device='cuda:0') \t Overweight \t 3\n",
            "25.) tensor([[8.3109e-04, 5.6984e-03, 9.9167e-01, 1.8053e-03]], device='cuda:0') \t Obesity \t 2\n",
            "26.) tensor([[9.9987e-01, 1.1999e-05, 2.5794e-05, 9.2854e-05]], device='cuda:0') \t Under_weight \t 0\n",
            "27.) tensor([[1.6032e-04, 1.3548e-04, 3.3158e-03, 9.9639e-01]], device='cuda:0') \t Overweight \t 3\n",
            "28.) tensor([[0.0026, 0.3413, 0.6534, 0.0028]], device='cuda:0') \t Obesity \t 2\n",
            "29.) tensor([[1.4517e-04, 7.9824e-04, 9.9587e-01, 3.1884e-03]], device='cuda:0') \t Obesity \t 2\n",
            "30.) tensor([[0.0022, 0.0102, 0.9630, 0.0247]], device='cuda:0') \t Obesity \t 2\n",
            "31.) tensor([[0.0010, 0.0565, 0.9413, 0.0012]], device='cuda:0') \t Obesity \t 2\n",
            "32.) tensor([[3.3879e-04, 1.7807e-04, 6.8595e-04, 9.9880e-01]], device='cuda:0') \t Overweight \t 3\n",
            "33.) tensor([[3.1360e-05, 1.6208e-04, 9.9874e-01, 1.0673e-03]], device='cuda:0') \t Obesity \t 2\n",
            "34.) tensor([[9.9740e-01, 1.2260e-03, 2.4535e-04, 1.1332e-03]], device='cuda:0') \t Under_weight \t 0\n",
            "35.) tensor([[2.4581e-04, 5.2117e-03, 9.9411e-01, 4.2834e-04]], device='cuda:0') \t Obesity \t 2\n",
            "36.) tensor([[0.0020, 0.0014, 0.0070, 0.9895]], device='cuda:0') \t Overweight \t 3\n",
            "37.) tensor([[9.9378e-04, 4.1493e-04, 2.0532e-03, 9.9654e-01]], device='cuda:0') \t Overweight \t 3\n",
            "38.) tensor([[1.4701e-04, 9.9943e-01, 4.0544e-04, 1.5224e-05]], device='cuda:0') \t Normal_weight \t 1\n",
            "39.) tensor([[0.0015, 0.8824, 0.1151, 0.0011]], device='cuda:0') \t Normal_weight \t 1\n",
            "40.) tensor([[9.9884e-01, 1.9927e-04, 3.8179e-04, 5.7464e-04]], device='cuda:0') \t Under_weight \t 0\n",
            "41.) tensor([[0.1748, 0.8217, 0.0021, 0.0014]], device='cuda:0') \t Under_weight \t 1\n",
            "42.) tensor([[5.8623e-03, 9.8516e-01, 8.5584e-03, 4.1700e-04]], device='cuda:0') \t Normal_weight \t 1\n",
            "43.) tensor([[8.5251e-03, 9.8138e-01, 9.8702e-03, 2.2021e-04]], device='cuda:0') \t Normal_weight \t 1\n",
            "44.) tensor([[9.9820e-01, 9.8462e-04, 1.6055e-04, 6.5056e-04]], device='cuda:0') \t Under_weight \t 0\n",
            "45.) tensor([[9.5306e-05, 2.0948e-03, 9.9562e-01, 2.1857e-03]], device='cuda:0') \t Obesity \t 2\n",
            "46.) tensor([[9.7628e-01, 2.1588e-02, 3.8524e-04, 1.7457e-03]], device='cuda:0') \t Under_weight \t 0\n",
            "47.) tensor([[5.2185e-04, 1.1987e-04, 5.9202e-04, 9.9877e-01]], device='cuda:0') \t Overweight \t 3\n",
            "48.) tensor([[9.1721e-04, 9.9827e-01, 7.2783e-04, 8.9879e-05]], device='cuda:0') \t Normal_weight \t 1\n",
            "49.) tensor([[0.5679, 0.4241, 0.0062, 0.0018]], device='cuda:0') \t Normal_weight \t 0\n",
            "50.) tensor([[1.4718e-02, 9.8180e-01, 2.9192e-03, 5.6676e-04]], device='cuda:0') \t Normal_weight \t 1\n",
            "51.) tensor([[6.3776e-05, 9.0765e-05, 9.9584e-01, 4.0083e-03]], device='cuda:0') \t Obesity \t 2\n",
            "52.) tensor([[0.0037, 0.8225, 0.1718, 0.0020]], device='cuda:0') \t Normal_weight \t 1\n",
            "53.) tensor([[0.2624, 0.7063, 0.0182, 0.0131]], device='cuda:0') \t Normal_weight \t 1\n",
            "54.) tensor([[1.0309e-04, 5.0128e-04, 9.9802e-01, 1.3773e-03]], device='cuda:0') \t Overweight \t 2\n",
            "55.) tensor([[1.6734e-04, 1.1987e-03, 9.9171e-01, 6.9192e-03]], device='cuda:0') \t Obesity \t 2\n",
            "56.) tensor([[3.2206e-04, 6.3330e-04, 9.5707e-01, 4.1972e-02]], device='cuda:0') \t Overweight \t 2\n",
            "57.) tensor([[9.9793e-01, 1.1226e-03, 2.7502e-04, 6.7249e-04]], device='cuda:0') \t Under_weight \t 0\n",
            "58.) tensor([[1.4949e-03, 8.0986e-04, 4.8917e-03, 9.9280e-01]], device='cuda:0') \t Overweight \t 3\n",
            "59.) tensor([[4.8732e-04, 9.9929e-01, 9.2273e-05, 1.3358e-04]], device='cuda:0') \t Normal_weight \t 1\n",
            "60.) tensor([[3.8546e-04, 2.4091e-04, 5.1965e-04, 9.9885e-01]], device='cuda:0') \t Overweight \t 3\n",
            "61.) tensor([[0.5869, 0.4036, 0.0051, 0.0044]], device='cuda:0') \t Under_weight \t 0\n",
            "62.) tensor([[1.5054e-04, 2.0627e-04, 9.7239e-01, 2.7253e-02]], device='cuda:0') \t Obesity \t 2\n",
            "63.) tensor([[8.3551e-05, 1.0731e-03, 9.9852e-01, 3.2812e-04]], device='cuda:0') \t Obesity \t 2\n",
            "64.) tensor([[9.9886e-01, 1.4719e-04, 2.6712e-04, 7.3029e-04]], device='cuda:0') \t Under_weight \t 0\n",
            "65.) tensor([[2.8872e-04, 2.3641e-04, 8.3447e-04, 9.9864e-01]], device='cuda:0') \t Overweight \t 3\n",
            "66.) tensor([[4.6340e-04, 7.2943e-02, 9.2592e-01, 6.7654e-04]], device='cuda:0') \t Obesity \t 2\n",
            "67.) tensor([[0.9317, 0.0620, 0.0047, 0.0015]], device='cuda:0') \t Under_weight \t 0\n",
            "68.) tensor([[1.9835e-04, 1.5551e-04, 2.6830e-04, 9.9938e-01]], device='cuda:0') \t Overweight \t 3\n",
            "69.) tensor([[2.7700e-04, 9.9541e-01, 4.2900e-03, 1.8137e-05]], device='cuda:0') \t Normal_weight \t 1\n",
            "70.) tensor([[2.2548e-04, 1.2084e-04, 4.3346e-04, 9.9922e-01]], device='cuda:0') \t Overweight \t 3\n",
            "71.) tensor([[4.5060e-04, 3.0361e-03, 9.9551e-01, 1.0022e-03]], device='cuda:0') \t Obesity \t 2\n",
            "72.) tensor([[2.1735e-04, 4.5273e-03, 9.9469e-01, 5.6135e-04]], device='cuda:0') \t Obesity \t 2\n",
            "73.) tensor([[6.7420e-04, 6.9493e-04, 7.2384e-03, 9.9139e-01]], device='cuda:0') \t Overweight \t 3\n",
            "74.) tensor([[3.2362e-05, 1.4822e-04, 9.9847e-01, 1.3448e-03]], device='cuda:0') \t Obesity \t 2\n",
            "75.) tensor([[0.9915, 0.0046, 0.0013, 0.0026]], device='cuda:0') \t Under_weight \t 0\n",
            "76.) tensor([[1.4540e-03, 9.9394e-01, 4.4059e-03, 2.0515e-04]], device='cuda:0') \t Obesity \t 1\n",
            "77.) tensor([[7.1930e-04, 9.9772e-01, 1.4539e-03, 1.0224e-04]], device='cuda:0') \t Normal_weight \t 1\n",
            "78.) tensor([[2.1987e-04, 1.8227e-04, 3.9995e-04, 9.9920e-01]], device='cuda:0') \t Overweight \t 3\n",
            "79.) tensor([[9.9447e-01, 3.7405e-03, 2.0098e-04, 1.5862e-03]], device='cuda:0') \t Under_weight \t 0\n",
            "80.) tensor([[3.4842e-05, 3.4606e-04, 9.9921e-01, 4.1135e-04]], device='cuda:0') \t Obesity \t 2\n",
            "81.) tensor([[3.3034e-04, 1.7007e-04, 5.5741e-04, 9.9894e-01]], device='cuda:0') \t Overweight \t 3\n",
            "82.) tensor([[3.2440e-04, 2.2639e-04, 1.7605e-02, 9.8184e-01]], device='cuda:0') \t Overweight \t 3\n",
            "83.) tensor([[1.8438e-04, 5.8583e-03, 9.9182e-01, 2.1395e-03]], device='cuda:0') \t Overweight \t 2\n",
            "84.) tensor([[6.1617e-04, 1.3989e-04, 5.0470e-04, 9.9874e-01]], device='cuda:0') \t Overweight \t 3\n",
            "85.) tensor([[3.3578e-04, 1.7580e-04, 5.6649e-04, 9.9892e-01]], device='cuda:0') \t Overweight \t 3\n",
            "86.) tensor([[9.9957e-01, 5.1007e-05, 1.5835e-04, 2.1680e-04]], device='cuda:0') \t Under_weight \t 0\n",
            "87.) tensor([[1.4394e-03, 9.9294e-01, 5.3970e-03, 2.2578e-04]], device='cuda:0') \t Normal_weight \t 1\n",
            "88.) tensor([[5.7545e-04, 1.2141e-03, 9.9591e-01, 2.3045e-03]], device='cuda:0') \t Obesity \t 2\n",
            "89.) tensor([[0.9469, 0.0455, 0.0026, 0.0050]], device='cuda:0') \t Under_weight \t 0\n",
            "90.) tensor([[1.3706e-03, 9.6578e-01, 3.2682e-02, 1.6988e-04]], device='cuda:0') \t Normal_weight \t 1\n",
            "91.) tensor([[9.9716e-01, 1.2599e-03, 3.4005e-04, 1.2397e-03]], device='cuda:0') \t Under_weight \t 0\n",
            "92.) tensor([[1.1957e-03, 7.6150e-04, 5.4451e-03, 9.9260e-01]], device='cuda:0') \t Overweight \t 3\n",
            "93.) tensor([[9.4213e-04, 2.0833e-04, 1.6053e-03, 9.9724e-01]], device='cuda:0') \t Overweight \t 3\n",
            "94.) tensor([[1.3688e-02, 9.8539e-01, 5.6024e-04, 3.6357e-04]], device='cuda:0') \t Normal_weight \t 1\n",
            "95.) tensor([[8.6873e-03, 9.7632e-01, 1.4785e-02, 2.1134e-04]], device='cuda:0') \t Normal_weight \t 1\n",
            "96.) tensor([[3.5207e-04, 1.8547e-04, 6.1205e-04, 9.9885e-01]], device='cuda:0') \t Overweight \t 3\n",
            "97.) tensor([[4.9029e-04, 3.9652e-04, 8.2223e-02, 9.1689e-01]], device='cuda:0') \t Overweight \t 3\n",
            "98.) tensor([[2.0144e-04, 9.9314e-01, 6.6304e-03, 2.5772e-05]], device='cuda:0') \t Normal_weight \t 1\n",
            "99.) tensor([[0.0010, 0.0336, 0.9526, 0.0128]], device='cuda:0') \t Obesity \t 2\n",
            "100.) tensor([[9.9968e-01, 7.6246e-05, 6.4767e-05, 1.7485e-04]], device='cuda:0') \t Under_weight \t 0\n",
            "101.) tensor([[0.9934, 0.0033, 0.0011, 0.0023]], device='cuda:0') \t Under_weight \t 0\n",
            "102.) tensor([[0.9803, 0.0094, 0.0048, 0.0055]], device='cuda:0') \t Normal_weight \t 0\n",
            "103.) tensor([[4.0222e-03, 9.8522e-01, 1.0574e-02, 1.8509e-04]], device='cuda:0') \t Normal_weight \t 1\n",
            "104.) tensor([[2.0875e-04, 9.1752e-05, 3.2149e-04, 9.9938e-01]], device='cuda:0') \t Overweight \t 3\n",
            "105.) tensor([[2.7469e-04, 1.8613e-04, 3.1447e-04, 9.9922e-01]], device='cuda:0') \t Overweight \t 3\n",
            "106.) tensor([[3.6419e-04, 2.3039e-02, 9.7588e-01, 7.1956e-04]], device='cuda:0') \t Obesity \t 2\n",
            "107.) tensor([[1.6589e-03, 6.5641e-04, 7.1442e-03, 9.9054e-01]], device='cuda:0') \t Overweight \t 3\n",
            "108.) tensor([[0.0053, 0.2190, 0.6531, 0.1226]], device='cuda:0') \t Obesity \t 2\n",
            "109.) tensor([[6.0507e-05, 1.0351e-03, 9.9868e-01, 2.2629e-04]], device='cuda:0') \t Obesity \t 2\n",
            "110.) tensor([[4.0529e-05, 6.8699e-04, 9.9863e-01, 6.3920e-04]], device='cuda:0') \t Obesity \t 2\n",
            "111.) tensor([[1.1699e-04, 3.2853e-04, 9.9840e-01, 1.1513e-03]], device='cuda:0') \t Obesity \t 2\n",
            "112.) tensor([[9.9888e-01, 3.7440e-04, 1.2196e-04, 6.2300e-04]], device='cuda:0') \t Under_weight \t 0\n",
            "113.) tensor([[3.0896e-04, 1.5841e-04, 5.8018e-04, 9.9895e-01]], device='cuda:0') \t Overweight \t 3\n",
            "114.) tensor([[9.9974e-01, 5.4959e-05, 5.3708e-05, 1.4895e-04]], device='cuda:0') \t Under_weight \t 0\n",
            "115.) tensor([[0.0016, 0.1707, 0.8268, 0.0009]], device='cuda:0') \t Obesity \t 2\n",
            "116.) tensor([[9.9300e-01, 2.9164e-03, 9.3715e-04, 3.1456e-03]], device='cuda:0') \t Under_weight \t 0\n",
            "117.) tensor([[2.8386e-03, 9.9596e-01, 1.1095e-03, 8.7029e-05]], device='cuda:0') \t Normal_weight \t 1\n",
            "118.) tensor([[5.8828e-04, 7.3202e-04, 9.4770e-01, 5.0982e-02]], device='cuda:0') \t Obesity \t 2\n",
            "119.) tensor([[1.7770e-04, 2.7292e-03, 9.9697e-01, 1.2761e-04]], device='cuda:0') \t Obesity \t 2\n",
            "120.) tensor([[1.5903e-04, 1.4821e-04, 9.9826e-01, 1.4354e-03]], device='cuda:0') \t Obesity \t 2\n",
            "121.) tensor([[6.9065e-05, 2.4641e-03, 9.9557e-01, 1.8978e-03]], device='cuda:0') \t Obesity \t 2\n",
            "122.) tensor([[3.0495e-04, 2.1166e-04, 3.9528e-04, 9.9909e-01]], device='cuda:0') \t Overweight \t 3\n",
            "123.) tensor([[0.0017, 0.0065, 0.9043, 0.0875]], device='cuda:0') \t Overweight \t 2\n",
            "124.) tensor([[2.1659e-04, 4.6942e-04, 9.6248e-01, 3.6833e-02]], device='cuda:0') \t Obesity \t 2\n",
            "125.) tensor([[1.4809e-04, 1.2559e-04, 2.9684e-04, 9.9943e-01]], device='cuda:0') \t Overweight \t 3\n",
            "126.) tensor([[3.2383e-05, 3.4009e-03, 9.9654e-01, 2.6324e-05]], device='cuda:0') \t Obesity \t 2\n",
            "127.) tensor([[2.2031e-03, 9.9685e-01, 8.9812e-04, 5.3246e-05]], device='cuda:0') \t Normal_weight \t 1\n",
            "128.) tensor([[3.2121e-04, 9.9875e-01, 9.0129e-04, 2.6733e-05]], device='cuda:0') \t Normal_weight \t 1\n",
            "129.) tensor([[3.7209e-04, 2.9535e-04, 1.1637e-03, 9.9817e-01]], device='cuda:0') \t Overweight \t 3\n",
            "130.) tensor([[5.2269e-04, 9.9751e-01, 1.8093e-03, 1.6090e-04]], device='cuda:0') \t Normal_weight \t 1\n",
            "131.) tensor([[9.9841e-01, 5.5520e-04, 1.3001e-04, 9.0865e-04]], device='cuda:0') \t Under_weight \t 0\n",
            "132.) tensor([[2.9689e-04, 2.1459e-04, 5.3940e-04, 9.9895e-01]], device='cuda:0') \t Overweight \t 3\n",
            "133.) tensor([[0.6519, 0.3202, 0.0117, 0.0163]], device='cuda:0') \t Normal_weight \t 0\n",
            "134.) tensor([[7.2993e-04, 9.9700e-01, 2.1851e-03, 8.2038e-05]], device='cuda:0') \t Normal_weight \t 1\n",
            "135.) tensor([[9.9946e-01, 2.1788e-04, 9.0197e-05, 2.3504e-04]], device='cuda:0') \t Under_weight \t 0\n",
            "136.) tensor([[9.9660e-01, 1.9093e-03, 2.6261e-04, 1.2277e-03]], device='cuda:0') \t Under_weight \t 0\n",
            "137.) tensor([[4.0769e-04, 9.9727e-01, 2.2781e-03, 3.9797e-05]], device='cuda:0') \t Normal_weight \t 1\n",
            "138.) tensor([[1.6616e-05, 1.8869e-04, 9.9971e-01, 8.5049e-05]], device='cuda:0') \t Obesity \t 2\n",
            "139.) tensor([[1.6440e-02, 9.8099e-01, 1.7651e-03, 8.0807e-04]], device='cuda:0') \t Normal_weight \t 1\n",
            "140.) tensor([[9.9876e-01, 5.8741e-04, 1.7828e-04, 4.7192e-04]], device='cuda:0') \t Under_weight \t 0\n",
            "141.) tensor([[0.0018, 0.5479, 0.4487, 0.0016]], device='cuda:0') \t Normal_weight \t 1\n",
            "142.) tensor([[9.9720e-01, 1.6438e-03, 2.2873e-04, 9.2857e-04]], device='cuda:0') \t Under_weight \t 0\n",
            "143.) tensor([[5.2749e-04, 4.0023e-04, 4.1151e-03, 9.9496e-01]], device='cuda:0') \t Overweight \t 3\n",
            "144.) tensor([[9.9887e-01, 3.8006e-04, 1.2198e-04, 6.2897e-04]], device='cuda:0') \t Under_weight \t 0\n",
            "145.) tensor([[1.2045e-04, 3.4007e-04, 9.9842e-01, 1.1184e-03]], device='cuda:0') \t Obesity \t 2\n",
            "146.) tensor([[1.1551e-03, 9.8850e-01, 1.0064e-02, 2.8180e-04]], device='cuda:0') \t Normal_weight \t 1\n",
            "147.) tensor([[2.9084e-04, 8.3128e-05, 1.0993e-03, 9.9853e-01]], device='cuda:0') \t Overweight \t 3\n",
            "148.) tensor([[3.0240e-04, 1.7541e-04, 5.4969e-04, 9.9897e-01]], device='cuda:0') \t Overweight \t 3\n",
            "149.) tensor([[1.3218e-03, 9.6329e-01, 3.5219e-02, 1.6656e-04]], device='cuda:0') \t Normal_weight \t 1\n",
            "150.) tensor([[5.8045e-05, 8.5084e-05, 2.2426e-03, 9.9761e-01]], device='cuda:0') \t Overweight \t 3\n",
            "151.) tensor([[3.4970e-04, 1.8212e-04, 6.0580e-04, 9.9886e-01]], device='cuda:0') \t Overweight \t 3\n",
            "152.) tensor([[5.7038e-04, 3.6192e-04, 1.9090e-02, 9.7998e-01]], device='cuda:0') \t Overweight \t 3\n",
            "153.) tensor([[9.9950e-01, 6.5398e-05, 1.5113e-04, 2.8732e-04]], device='cuda:0') \t Under_weight \t 0\n",
            "154.) tensor([[9.9400e-01, 4.0380e-03, 2.3946e-04, 1.7206e-03]], device='cuda:0') \t Under_weight \t 0\n",
            "155.) tensor([[9.8382e-01, 1.3661e-02, 8.6956e-04, 1.6542e-03]], device='cuda:0') \t Normal_weight \t 0\n",
            "156.) tensor([[1.1709e-04, 3.5542e-03, 9.9620e-01, 1.2527e-04]], device='cuda:0') \t Obesity \t 2\n",
            "157.) tensor([[9.9867e-01, 5.4514e-04, 1.2068e-04, 6.6279e-04]], device='cuda:0') \t Under_weight \t 0\n",
            "158.) tensor([[6.2647e-04, 3.0732e-04, 8.4144e-04, 9.9822e-01]], device='cuda:0') \t Overweight \t 3\n",
            "159.) tensor([[8.3687e-04, 7.3135e-04, 7.3815e-03, 9.9105e-01]], device='cuda:0') \t Overweight \t 3\n",
            "160.) tensor([[2.6915e-04, 2.8443e-04, 2.9927e-03, 9.9645e-01]], device='cuda:0') \t Overweight \t 3\n",
            "161.) tensor([[1.2037e-04, 1.4766e-04, 9.9840e-01, 1.3327e-03]], device='cuda:0') \t Obesity \t 2\n",
            "162.) tensor([[9.8429e-01, 1.3709e-02, 9.0987e-04, 1.0896e-03]], device='cuda:0') \t Under_weight \t 0\n",
            "163.) tensor([[7.7655e-04, 9.9853e-01, 5.2124e-04, 1.6796e-04]], device='cuda:0') \t Normal_weight \t 1\n",
            "164.) tensor([[9.9907e-01, 4.9883e-04, 1.0652e-04, 3.2136e-04]], device='cuda:0') \t Under_weight \t 0\n",
            "165.) tensor([[0.0019, 0.0012, 0.0779, 0.9191]], device='cuda:0') \t Overweight \t 3\n",
            "166.) tensor([[9.9652e-01, 2.4114e-03, 2.3987e-04, 8.2536e-04]], device='cuda:0') \t Under_weight \t 0\n",
            "167.) tensor([[0.0012, 0.7709, 0.2266, 0.0013]], device='cuda:0') \t Obesity \t 1\n",
            "168.) tensor([[3.1719e-03, 9.9631e-01, 3.9885e-04, 1.1711e-04]], device='cuda:0') \t Normal_weight \t 1\n",
            "169.) tensor([[1.8463e-04, 9.2751e-04, 9.8303e-01, 1.5855e-02]], device='cuda:0') \t Obesity \t 2\n",
            "170.) tensor([[1.6964e-04, 9.9936e-01, 4.4865e-04, 1.6997e-05]], device='cuda:0') \t Normal_weight \t 1\n",
            "171.) tensor([[0.2855, 0.7098, 0.0026, 0.0020]], device='cuda:0') \t Under_weight \t 1\n",
            "172.) tensor([[1.4204e-03, 9.9574e-01, 2.5498e-03, 2.9109e-04]], device='cuda:0') \t Obesity \t 1\n",
            "173.) tensor([[9.9703e-01, 1.4625e-03, 3.1381e-04, 1.1957e-03]], device='cuda:0') \t Under_weight \t 0\n",
            "174.) tensor([[9.9635e-01, 2.6271e-03, 3.5743e-04, 6.6705e-04]], device='cuda:0') \t Under_weight \t 0\n",
            "175.) tensor([[3.5425e-04, 2.8417e-04, 1.2364e-03, 9.9813e-01]], device='cuda:0') \t Overweight \t 3\n",
            "176.) tensor([[6.3813e-06, 2.8119e-05, 9.9993e-01, 3.5436e-05]], device='cuda:0') \t Normal_weight \t 2\n",
            "177.) tensor([[3.7833e-04, 2.6170e-04, 5.8209e-04, 9.9878e-01]], device='cuda:0') \t Overweight \t 3\n",
            "178.) tensor([[0.0369, 0.9589, 0.0023, 0.0019]], device='cuda:0') \t Normal_weight \t 1\n",
            "179.) tensor([[9.9914e-01, 1.6288e-04, 7.5076e-05, 6.1735e-04]], device='cuda:0') \t Under_weight \t 0\n",
            "180.) tensor([[7.8304e-03, 9.8842e-01, 3.6891e-03, 5.8815e-05]], device='cuda:0') \t Normal_weight \t 1\n",
            "181.) tensor([[0.4542, 0.5428, 0.0009, 0.0021]], device='cuda:0') \t Normal_weight \t 1\n",
            "182.) tensor([[6.7110e-04, 9.8642e-01, 1.2742e-02, 1.6324e-04]], device='cuda:0') \t Normal_weight \t 1\n",
            "183.) tensor([[9.9793e-01, 1.2936e-03, 1.9145e-04, 5.8813e-04]], device='cuda:0') \t Under_weight \t 0\n",
            "184.) tensor([[7.2649e-01, 2.7040e-01, 5.3625e-04, 2.5713e-03]], device='cuda:0') \t Normal_weight \t 0\n",
            "185.) tensor([[0.0020, 0.6070, 0.3894, 0.0016]], device='cuda:0') \t Normal_weight \t 1\n",
            "186.) tensor([[9.9917e-01, 1.4069e-04, 2.1171e-04, 4.7951e-04]], device='cuda:0') \t Under_weight \t 0\n",
            "187.) tensor([[1.6603e-05, 7.4166e-05, 9.9982e-01, 8.6096e-05]], device='cuda:0') \t Obesity \t 2\n",
            "188.) tensor([[0.0007, 0.0031, 0.5267, 0.4695]], device='cuda:0') \t Overweight \t 2\n",
            "189.) tensor([[3.4482e-04, 3.1292e-04, 1.0905e-03, 9.9825e-01]], device='cuda:0') \t Overweight \t 3\n",
            "190.) tensor([[0.0470, 0.9471, 0.0035, 0.0023]], device='cuda:0') \t Normal_weight \t 1\n",
            "191.) tensor([[5.9258e-03, 9.9333e-01, 5.2552e-04, 2.1569e-04]], device='cuda:0') \t Normal_weight \t 1\n",
            "192.) tensor([[5.1955e-04, 1.0435e-03, 3.6227e-02, 9.6221e-01]], device='cuda:0') \t Overweight \t 3\n",
            "193.) tensor([[2.3880e-05, 5.2234e-05, 6.8448e-04, 9.9924e-01]], device='cuda:0') \t Overweight \t 3\n",
            "194.) tensor([[9.9959e-01, 1.2000e-04, 7.4133e-05, 2.1501e-04]], device='cuda:0') \t Under_weight \t 0\n",
            "195.) tensor([[9.9604e-01, 1.9699e-03, 1.3206e-03, 6.7176e-04]], device='cuda:0') \t Normal_weight \t 0\n",
            "196.) tensor([[7.9733e-04, 1.0675e-03, 8.7492e-02, 9.1064e-01]], device='cuda:0') \t Obesity \t 3\n",
            "197.) tensor([[9.9855e-01, 8.9837e-04, 1.2584e-04, 4.2780e-04]], device='cuda:0') \t Under_weight \t 0\n",
            "198.) tensor([[9.9952e-01, 1.8361e-04, 7.2977e-05, 2.2327e-04]], device='cuda:0') \t Under_weight \t 0\n",
            "199.) tensor([[5.6974e-04, 3.1781e-04, 8.4133e-04, 9.9827e-01]], device='cuda:0') \t Overweight \t 3\n",
            "200.) tensor([[2.3781e-04, 9.9927e-01, 3.7108e-04, 1.1696e-04]], device='cuda:0') \t Normal_weight \t 1\n",
            "201.) tensor([[1.8391e-04, 9.8921e-01, 1.0585e-02, 2.5040e-05]], device='cuda:0') \t Normal_weight \t 1\n",
            "202.) tensor([[9.9855e-01, 4.4641e-04, 1.0603e-04, 9.0080e-04]], device='cuda:0') \t Under_weight \t 0\n",
            "203.) tensor([[9.9739e-01, 7.3130e-04, 4.4447e-04, 1.4354e-03]], device='cuda:0') \t Under_weight \t 0\n",
            "204.) tensor([[1.6360e-02, 9.8264e-01, 7.6065e-04, 2.4026e-04]], device='cuda:0') \t Normal_weight \t 1\n",
            "205.) tensor([[0.0013, 0.4011, 0.5965, 0.0010]], device='cuda:0') \t Normal_weight \t 2\n",
            "206.) tensor([[3.1128e-04, 9.9810e-01, 1.4700e-03, 1.1675e-04]], device='cuda:0') \t Obesity \t 1\n",
            "207.) tensor([[0.3406, 0.6540, 0.0025, 0.0028]], device='cuda:0') \t Normal_weight \t 1\n",
            "208.) tensor([[4.4646e-05, 2.7680e-04, 9.9791e-01, 1.7729e-03]], device='cuda:0') \t Obesity \t 2\n",
            "209.) tensor([[9.9676e-01, 2.3647e-03, 1.9038e-04, 6.8991e-04]], device='cuda:0') \t Under_weight \t 0\n",
            "210.) tensor([[0.0012, 0.0032, 0.9803, 0.0153]], device='cuda:0') \t Obesity \t 2\n",
            "211.) tensor([[9.9576e-01, 2.9108e-03, 2.0381e-04, 1.1298e-03]], device='cuda:0') \t Under_weight \t 0\n",
            "212.) tensor([[0.9808, 0.0155, 0.0011, 0.0026]], device='cuda:0') \t Under_weight \t 0\n",
            "213.) tensor([[0.0021, 0.3851, 0.6117, 0.0011]], device='cuda:0') \t Obesity \t 2\n",
            "214.) tensor([[9.9898e-01, 5.5942e-04, 1.2261e-04, 3.3973e-04]], device='cuda:0') \t Under_weight \t 0\n",
            "215.) tensor([[9.9843e-01, 5.0690e-04, 1.2291e-04, 9.3782e-04]], device='cuda:0') \t Under_weight \t 0\n",
            "216.) tensor([[2.2492e-04, 4.3561e-04, 9.9595e-01, 3.3919e-03]], device='cuda:0') \t Obesity \t 2\n",
            "217.) tensor([[2.9157e-04, 1.5564e-04, 6.1152e-04, 9.9894e-01]], device='cuda:0') \t Overweight \t 3\n",
            "218.) tensor([[5.6533e-04, 2.2997e-04, 1.8405e-03, 9.9736e-01]], device='cuda:0') \t Overweight \t 3\n",
            "219.) tensor([[1.2797e-03, 5.3734e-04, 1.8217e-02, 9.7997e-01]], device='cuda:0') \t Overweight \t 3\n",
            "220.) tensor([[0.9411, 0.0394, 0.0088, 0.0107]], device='cuda:0') \t Normal_weight \t 0\n",
            "221.) tensor([[1.8492e-04, 9.8886e-05, 1.0571e-04, 9.9961e-01]], device='cuda:0') \t Overweight \t 3\n",
            "222.) tensor([[3.1700e-04, 6.0507e-03, 9.9110e-01, 2.5292e-03]], device='cuda:0') \t Obesity \t 2\n",
            "223.) tensor([[9.9849e-01, 3.6796e-04, 3.5087e-04, 7.8947e-04]], device='cuda:0') \t Under_weight \t 0\n",
            "224.) tensor([[9.2350e-05, 2.4179e-04, 9.8633e-01, 1.3334e-02]], device='cuda:0') \t Overweight \t 2\n",
            "225.) tensor([[0.6778, 0.2841, 0.0141, 0.0241]], device='cuda:0') \t Normal_weight \t 0\n",
            "226.) tensor([[2.3811e-04, 2.8132e-03, 9.9650e-01, 4.4817e-04]], device='cuda:0') \t Normal_weight \t 2\n",
            "227.) tensor([[9.9509e-01, 3.8008e-03, 2.6183e-04, 8.4943e-04]], device='cuda:0') \t Under_weight \t 0\n",
            "228.) tensor([[2.2166e-04, 2.8415e-04, 9.9731e-01, 2.1866e-03]], device='cuda:0') \t Obesity \t 2\n",
            "229.) tensor([[9.9515e-01, 4.1770e-03, 1.6304e-04, 5.1436e-04]], device='cuda:0') \t Under_weight \t 0\n",
            "230.) tensor([[9.9357e-01, 3.8933e-03, 8.9896e-04, 1.6391e-03]], device='cuda:0') \t Under_weight \t 0\n",
            "231.) tensor([[9.9627e-01, 1.9457e-03, 3.0296e-04, 1.4816e-03]], device='cuda:0') \t Normal_weight \t 0\n",
            "232.) tensor([[4.0320e-05, 6.0771e-04, 9.9892e-01, 4.3416e-04]], device='cuda:0') \t Obesity \t 2\n",
            "233.) tensor([[3.9154e-04, 1.9789e-04, 8.7913e-04, 9.9853e-01]], device='cuda:0') \t Overweight \t 3\n",
            "234.) tensor([[1.9769e-03, 9.1458e-01, 8.2734e-02, 7.0635e-04]], device='cuda:0') \t Normal_weight \t 1\n",
            "235.) tensor([[1.3986e-02, 9.7545e-01, 1.0059e-02, 5.0220e-04]], device='cuda:0') \t Normal_weight \t 1\n",
            "236.) tensor([[1.1592e-04, 4.1435e-03, 9.9286e-01, 2.8798e-03]], device='cuda:0') \t Obesity \t 2\n",
            "237.) tensor([[8.5043e-04, 6.8642e-04, 6.0569e-03, 9.9241e-01]], device='cuda:0') \t Overweight \t 3\n",
            "238.) tensor([[1.5411e-03, 9.9271e-01, 5.5053e-03, 2.4036e-04]], device='cuda:0') \t Obesity \t 1\n",
            "239.) tensor([[9.9964e-01, 3.6432e-05, 9.8852e-05, 2.2946e-04]], device='cuda:0') \t Under_weight \t 0\n",
            "240.) tensor([[1.9306e-04, 2.8930e-03, 9.9678e-01, 1.3705e-04]], device='cuda:0') \t Obesity \t 2\n",
            "241.) tensor([[1.8007e-04, 2.3868e-04, 9.9725e-01, 2.3339e-03]], device='cuda:0') \t Obesity \t 2\n",
            "242.) tensor([[5.2388e-05, 3.2512e-04, 9.9924e-01, 3.8620e-04]], device='cuda:0') \t Obesity \t 2\n",
            "243.) tensor([[2.8358e-04, 2.5553e-04, 7.2828e-04, 9.9873e-01]], device='cuda:0') \t Overweight \t 3\n",
            "244.) tensor([[9.9931e-01, 3.1255e-04, 9.3053e-05, 2.8387e-04]], device='cuda:0') \t Under_weight \t 0\n",
            "245.) tensor([[1.1615e-03, 9.9562e-01, 3.1243e-03, 9.7313e-05]], device='cuda:0') \t Normal_weight \t 1\n",
            "246.) tensor([[1.0757e-04, 1.4938e-04, 9.9188e-01, 7.8593e-03]], device='cuda:0') \t Overweight \t 2\n",
            "247.) tensor([[1.5941e-04, 7.6812e-04, 9.8859e-01, 1.0487e-02]], device='cuda:0') \t Obesity \t 2\n",
            "248.) tensor([[7.1286e-04, 3.8704e-04, 3.4999e-03, 9.9540e-01]], device='cuda:0') \t Overweight \t 3\n",
            "249.) tensor([[3.5458e-04, 1.7441e-03, 9.6394e-01, 3.3963e-02]], device='cuda:0') \t Obesity \t 2\n",
            "250.) tensor([[8.2396e-04, 9.9850e-01, 5.1892e-04, 1.5957e-04]], device='cuda:0') \t Normal_weight \t 1\n",
            "251.) tensor([[9.4616e-04, 9.6730e-01, 3.1624e-02, 1.3451e-04]], device='cuda:0') \t Normal_weight \t 1\n",
            "252.) tensor([[9.9389e-01, 2.7119e-03, 9.2284e-04, 2.4729e-03]], device='cuda:0') \t Under_weight \t 0\n",
            "253.) tensor([[1.1705e-05, 9.9998e-01, 6.3586e-06, 5.1839e-07]], device='cuda:0') \t Normal_weight \t 1\n",
            "254.) tensor([[5.6712e-04, 9.9883e-01, 5.1118e-04, 8.9449e-05]], device='cuda:0') \t Normal_weight \t 1\n",
            "255.) tensor([[2.2003e-03, 9.9036e-01, 7.3054e-03, 1.3067e-04]], device='cuda:0') \t Normal_weight \t 1\n",
            "256.) tensor([[4.4424e-05, 8.9399e-04, 9.9861e-01, 4.5034e-04]], device='cuda:0') \t Obesity \t 2\n",
            "257.) tensor([[5.4743e-04, 9.9808e-01, 1.2348e-03, 1.3533e-04]], device='cuda:0') \t Normal_weight \t 1\n",
            "258.) tensor([[9.9995e-01, 1.9984e-06, 9.7209e-06, 3.7890e-05]], device='cuda:0') \t Under_weight \t 0\n",
            "259.) tensor([[9.9704e-01, 8.2668e-04, 5.8462e-04, 1.5439e-03]], device='cuda:0') \t Under_weight \t 0\n",
            "260.) tensor([[9.9930e-01, 3.4482e-04, 8.5586e-05, 2.7174e-04]], device='cuda:0') \t Under_weight \t 0\n",
            "261.) tensor([[8.3554e-05, 2.3029e-05, 3.2575e-05, 9.9986e-01]], device='cuda:0') \t Overweight \t 3\n",
            "262.) tensor([[1.8760e-04, 4.2931e-04, 9.9856e-01, 8.2262e-04]], device='cuda:0') \t Obesity \t 2\n",
            "263.) tensor([[1.2464e-04, 4.9809e-04, 9.9399e-01, 5.3902e-03]], device='cuda:0') \t Obesity \t 2\n",
            "264.) tensor([[1.2286e-03, 7.9123e-04, 6.7809e-03, 9.9120e-01]], device='cuda:0') \t Overweight \t 3\n",
            "265.) tensor([[4.1417e-03, 9.5927e-01, 3.5715e-02, 8.7537e-04]], device='cuda:0') \t Normal_weight \t 1\n",
            "266.) tensor([[5.3308e-04, 9.8493e-01, 1.4415e-02, 1.2543e-04]], device='cuda:0') \t Normal_weight \t 1\n",
            "267.) tensor([[3.2672e-03, 9.8144e-01, 1.5130e-02, 1.5906e-04]], device='cuda:0') \t Normal_weight \t 1\n",
            "268.) tensor([[8.7926e-04, 5.0577e-04, 5.2593e-03, 9.9336e-01]], device='cuda:0') \t Overweight \t 3\n",
            "269.) tensor([[9.9453e-01, 2.3478e-03, 7.5599e-04, 2.3663e-03]], device='cuda:0') \t Under_weight \t 0\n",
            "270.) tensor([[1.0241e-03, 8.0759e-04, 7.5261e-03, 9.9064e-01]], device='cuda:0') \t Overweight \t 3\n",
            "271.) tensor([[4.5275e-05, 1.7163e-03, 9.9787e-01, 3.6579e-04]], device='cuda:0') \t Obesity \t 2\n",
            "272.) tensor([[0.0013, 0.0825, 0.9147, 0.0015]], device='cuda:0') \t Obesity \t 2\n",
            "273.) tensor([[2.6257e-04, 1.6086e-04, 2.6086e-04, 9.9932e-01]], device='cuda:0') \t Overweight \t 3\n",
            "274.) tensor([[0.7537, 0.2334, 0.0042, 0.0088]], device='cuda:0') \t Normal_weight \t 0\n",
            "275.) tensor([[1.0481e-04, 2.1529e-04, 9.9639e-01, 3.2873e-03]], device='cuda:0') \t Obesity \t 2\n",
            "276.) tensor([[9.9884e-01, 5.0575e-04, 1.0930e-04, 5.4347e-04]], device='cuda:0') \t Under_weight \t 0\n",
            "277.) tensor([[9.9762e-01, 1.4811e-03, 1.1397e-04, 7.8665e-04]], device='cuda:0') \t Under_weight \t 0\n",
            "278.) tensor([[3.2271e-04, 4.2229e-03, 9.9494e-01, 5.0937e-04]], device='cuda:0') \t Obesity \t 2\n",
            "279.) tensor([[0.7710, 0.2211, 0.0039, 0.0040]], device='cuda:0') \t Normal_weight \t 0\n",
            "280.) tensor([[2.0137e-03, 9.9591e-01, 1.8408e-03, 2.3090e-04]], device='cuda:0') \t Normal_weight \t 1\n",
            "281.) tensor([[0.0094, 0.9622, 0.0266, 0.0019]], device='cuda:0') \t Normal_weight \t 1\n",
            "282.) tensor([[1.2151e-04, 1.9830e-03, 9.9737e-01, 5.3035e-04]], device='cuda:0') \t Obesity \t 2\n",
            "283.) tensor([[1.1459e-04, 2.0050e-03, 9.9500e-01, 2.8771e-03]], device='cuda:0') \t Obesity \t 2\n",
            "284.) tensor([[1.4661e-04, 9.7658e-05, 2.0199e-04, 9.9955e-01]], device='cuda:0') \t Overweight \t 3\n",
            "285.) tensor([[3.1770e-04, 1.6587e-04, 8.3112e-04, 9.9869e-01]], device='cuda:0') \t Overweight \t 3\n",
            "286.) tensor([[1.6326e-04, 7.3196e-03, 9.9238e-01, 1.3696e-04]], device='cuda:0') \t Obesity \t 2\n",
            "287.) tensor([[8.7937e-04, 5.0555e-04, 2.4014e-03, 9.9621e-01]], device='cuda:0') \t Overweight \t 3\n",
            "288.) tensor([[3.7150e-04, 2.9380e-04, 1.1627e-03, 9.9817e-01]], device='cuda:0') \t Overweight \t 3\n",
            "289.) tensor([[9.9962e-01, 3.0054e-05, 1.5935e-04, 1.9422e-04]], device='cuda:0') \t Under_weight \t 0\n",
            "290.) tensor([[9.9960e-01, 4.7875e-05, 1.3529e-04, 2.1772e-04]], device='cuda:0') \t Under_weight \t 0\n",
            "291.) tensor([[2.0153e-04, 1.3462e-03, 9.9803e-01, 4.2253e-04]], device='cuda:0') \t Normal_weight \t 2\n",
            "292.) tensor([[9.9747e-01, 1.5324e-03, 3.2052e-04, 6.7901e-04]], device='cuda:0') \t Under_weight \t 0\n",
            "293.) tensor([[2.5131e-05, 8.0514e-04, 9.9904e-01, 1.2766e-04]], device='cuda:0') \t Obesity \t 2\n",
            "294.) tensor([[4.4353e-03, 9.9507e-01, 3.7503e-04, 1.1820e-04]], device='cuda:0') \t Normal_weight \t 1\n",
            "295.) tensor([[5.5336e-04, 3.5799e-04, 9.5441e-02, 9.0365e-01]], device='cuda:0') \t Overweight \t 3\n",
            "296.) tensor([[1.1704e-04, 8.4372e-05, 1.5809e-04, 9.9964e-01]], device='cuda:0') \t Overweight \t 3\n",
            "297.) tensor([[2.2089e-03, 9.9769e-01, 8.9471e-05, 9.1623e-06]], device='cuda:0') \t Normal_weight \t 1\n",
            "298.) tensor([[3.6221e-04, 1.8732e-04, 6.8049e-04, 9.9877e-01]], device='cuda:0') \t Overweight \t 3\n",
            "299.) tensor([[2.3566e-04, 9.9962e-01, 1.2646e-04, 1.2890e-05]], device='cuda:0') \t Normal_weight \t 1\n",
            "300.) tensor([[2.4756e-04, 6.5060e-04, 9.9060e-01, 8.5016e-03]], device='cuda:0') \t Obesity \t 2\n",
            "301.) tensor([[9.9917e-01, 2.8362e-04, 1.1021e-04, 4.3137e-04]], device='cuda:0') \t Normal_weight \t 0\n",
            "302.) tensor([[1.1786e-02, 9.8711e-01, 7.5376e-04, 3.4870e-04]], device='cuda:0') \t Normal_weight \t 1\n",
            "303.) tensor([[8.4206e-05, 3.2892e-04, 9.9783e-01, 1.7573e-03]], device='cuda:0') \t Obesity \t 2\n",
            "304.) tensor([[8.7466e-04, 6.4479e-04, 4.5114e-02, 9.5337e-01]], device='cuda:0') \t Overweight \t 3\n",
            "305.) tensor([[1.4709e-04, 9.9943e-01, 4.0568e-04, 1.5231e-05]], device='cuda:0') \t Normal_weight \t 1\n",
            "306.) tensor([[9.9755e-01, 1.4948e-03, 1.9028e-04, 7.6079e-04]], device='cuda:0') \t Under_weight \t 0\n",
            "307.) tensor([[1.6505e-04, 9.9972e-01, 1.1453e-04, 4.7238e-06]], device='cuda:0') \t Normal_weight \t 1\n",
            "308.) tensor([[9.9740e-01, 1.4010e-03, 3.3236e-04, 8.6768e-04]], device='cuda:0') \t Under_weight \t 0\n",
            "309.) tensor([[3.7821e-04, 1.8447e-03, 9.6091e-01, 3.6866e-02]], device='cuda:0') \t Obesity \t 2\n",
            "310.) tensor([[9.9788e-01, 9.2902e-04, 1.8845e-04, 1.0019e-03]], device='cuda:0') \t Normal_weight \t 0\n",
            "311.) tensor([[1.1816e-04, 2.1976e-04, 6.9934e-03, 9.9267e-01]], device='cuda:0') \t Overweight \t 3\n",
            "312.) tensor([[9.9627e-01, 2.4522e-03, 4.8060e-04, 7.9264e-04]], device='cuda:0') \t Under_weight \t 0\n",
            "313.) tensor([[3.6783e-04, 3.4267e-05, 6.0399e-05, 9.9954e-01]], device='cuda:0') \t Overweight \t 3\n",
            "314.) tensor([[0.0013, 0.0016, 0.0713, 0.9258]], device='cuda:0') \t Overweight \t 3\n",
            "315.) tensor([[5.7592e-04, 3.6550e-04, 2.3345e-03, 9.9672e-01]], device='cuda:0') \t Overweight \t 3\n",
            "316.) tensor([[0.9871, 0.0075, 0.0010, 0.0043]], device='cuda:0') \t Under_weight \t 0\n",
            "317.) tensor([[8.9706e-05, 2.6478e-04, 9.9735e-01, 2.2905e-03]], device='cuda:0') \t Obesity \t 2\n",
            "318.) tensor([[3.6739e-04, 9.9856e-01, 1.0231e-03, 4.8014e-05]], device='cuda:0') \t Normal_weight \t 1\n",
            "319.) tensor([[4.9642e-04, 1.9319e-04, 5.7957e-04, 9.9873e-01]], device='cuda:0') \t Overweight \t 3\n",
            "320.) tensor([[2.0153e-05, 4.8246e-04, 9.9936e-01, 1.3426e-04]], device='cuda:0') \t Obesity \t 2\n",
            "321.) tensor([[6.8943e-04, 4.3892e-04, 1.2019e-03, 9.9767e-01]], device='cuda:0') \t Overweight \t 3\n",
            "322.) tensor([[1.9662e-03, 9.4804e-01, 4.9308e-02, 6.8446e-04]], device='cuda:0') \t Normal_weight \t 1\n",
            "323.) tensor([[5.6123e-05, 4.1591e-03, 9.9433e-01, 1.4584e-03]], device='cuda:0') \t Obesity \t 2\n",
            "324.) tensor([[9.9884e-01, 4.4661e-04, 2.0777e-04, 5.0821e-04]], device='cuda:0') \t Under_weight \t 0\n",
            "325.) tensor([[9.9551e-01, 3.0279e-03, 1.9864e-04, 1.2672e-03]], device='cuda:0') \t Under_weight \t 0\n",
            "326.) tensor([[2.9911e-04, 2.0002e-04, 1.3065e-02, 9.8644e-01]], device='cuda:0') \t Overweight \t 3\n",
            "327.) tensor([[5.0145e-04, 9.9646e-01, 2.9749e-03, 6.2205e-05]], device='cuda:0') \t Normal_weight \t 1\n",
            "328.) tensor([[7.6096e-04, 1.2611e-03, 9.9287e-01, 5.1098e-03]], device='cuda:0') \t Obesity \t 2\n",
            "329.) tensor([[0.9767, 0.0142, 0.0037, 0.0054]], device='cuda:0') \t Normal_weight \t 0\n",
            "330.) tensor([[1.1331e-04, 1.6044e-04, 3.0572e-04, 9.9942e-01]], device='cuda:0') \t Overweight \t 3\n",
            "331.) tensor([[3.3357e-04, 2.6047e-04, 9.9711e-01, 2.2934e-03]], device='cuda:0') \t Obesity \t 2\n",
            "332.) tensor([[9.9915e-01, 3.4422e-04, 1.3775e-04, 3.7074e-04]], device='cuda:0') \t Under_weight \t 0\n",
            "333.) tensor([[1.0893e-04, 1.6755e-03, 9.9773e-01, 4.8975e-04]], device='cuda:0') \t Obesity \t 2\n",
            "334.) tensor([[0.9945, 0.0023, 0.0011, 0.0021]], device='cuda:0') \t Under_weight \t 0\n",
            "335.) tensor([[0.1684, 0.8199, 0.0085, 0.0033]], device='cuda:0') \t Normal_weight \t 1\n",
            "336.) tensor([[7.3574e-05, 1.3565e-04, 9.9327e-01, 6.5176e-03]], device='cuda:0') \t Obesity \t 2\n",
            "337.) tensor([[0.8993, 0.0939, 0.0051, 0.0016]], device='cuda:0') \t Under_weight \t 0\n",
            "338.) tensor([[2.8061e-03, 9.9567e-01, 1.4528e-03, 7.1719e-05]], device='cuda:0') \t Normal_weight \t 1\n",
            "339.) tensor([[2.7288e-04, 1.2445e-03, 9.9785e-01, 6.3299e-04]], device='cuda:0') \t Obesity \t 2\n",
            "340.) tensor([[9.9883e-01, 4.1386e-04, 2.0948e-04, 5.4914e-04]], device='cuda:0') \t Under_weight \t 0\n",
            "341.) tensor([[9.9759e-01, 1.5225e-03, 1.1549e-04, 7.7611e-04]], device='cuda:0') \t Under_weight \t 0\n",
            "342.) tensor([[6.5829e-04, 1.2614e-04, 9.6471e-04, 9.9825e-01]], device='cuda:0') \t Overweight \t 3\n",
            "343.) tensor([[9.9668e-01, 9.9627e-04, 8.7323e-04, 1.4481e-03]], device='cuda:0') \t Under_weight \t 0\n",
            "344.) tensor([[4.2880e-04, 9.9705e-01, 2.3900e-03, 1.2840e-04]], device='cuda:0') \t Obesity \t 1\n",
            "345.) tensor([[3.6667e-04, 1.9699e-04, 7.6164e-04, 9.9867e-01]], device='cuda:0') \t Overweight \t 3\n",
            "346.) tensor([[9.9838e-01, 1.0644e-03, 1.2045e-04, 4.3081e-04]], device='cuda:0') \t Under_weight \t 0\n",
            "347.) tensor([[2.8803e-04, 4.4789e-04, 9.6752e-01, 3.1744e-02]], device='cuda:0') \t Obesity \t 2\n",
            "348.) tensor([[3.0369e-04, 3.3370e-03, 9.9582e-01, 5.3717e-04]], device='cuda:0') \t Obesity \t 2\n",
            "349.) tensor([[0.0033, 0.9458, 0.0498, 0.0012]], device='cuda:0') \t Normal_weight \t 1\n",
            "350.) tensor([[3.9292e-05, 1.3191e-04, 9.9765e-01, 2.1815e-03]], device='cuda:0') \t Obesity \t 2\n",
            "351.) tensor([[0.9205, 0.0744, 0.0019, 0.0032]], device='cuda:0') \t Under_weight \t 0\n",
            "352.) tensor([[4.7243e-05, 2.0423e-04, 9.9868e-01, 1.0667e-03]], device='cuda:0') \t Obesity \t 2\n",
            "353.) tensor([[9.9594e-01, 3.0101e-03, 2.4223e-04, 8.0361e-04]], device='cuda:0') \t Under_weight \t 0\n",
            "354.) tensor([[9.1158e-04, 9.9818e-01, 8.1821e-04, 9.1640e-05]], device='cuda:0') \t Normal_weight \t 1\n",
            "355.) tensor([[2.4144e-03, 2.7698e-01, 7.1996e-01, 6.4598e-04]], device='cuda:0') \t Normal_weight \t 2\n",
            "356.) tensor([[9.9845e-01, 8.4385e-04, 8.1032e-05, 6.2405e-04]], device='cuda:0') \t Under_weight \t 0\n",
            "357.) tensor([[1.6856e-04, 8.8144e-05, 1.0103e-04, 9.9964e-01]], device='cuda:0') \t Overweight \t 3\n",
            "358.) tensor([[9.9624e-01, 1.3264e-03, 6.7571e-04, 1.7597e-03]], device='cuda:0') \t Under_weight \t 0\n",
            "359.) tensor([[2.6708e-04, 3.4023e-04, 2.4156e-02, 9.7524e-01]], device='cuda:0') \t Overweight \t 3\n",
            "360.) tensor([[5.5413e-04, 4.1921e-04, 1.9178e-01, 8.0724e-01]], device='cuda:0') \t Overweight \t 3\n",
            "361.) tensor([[3.7694e-04, 1.9042e-04, 6.8842e-04, 9.9874e-01]], device='cuda:0') \t Overweight \t 3\n",
            "362.) tensor([[9.9774e-01, 1.2548e-03, 2.5865e-04, 7.4374e-04]], device='cuda:0') \t Under_weight \t 0\n",
            "363.) tensor([[8.1384e-04, 5.7775e-04, 3.2499e-02, 9.6611e-01]], device='cuda:0') \t Overweight \t 3\n",
            "364.) tensor([[4.5347e-03, 9.9497e-01, 3.7936e-04, 1.2076e-04]], device='cuda:0') \t Normal_weight \t 1\n",
            "365.) tensor([[1.8226e-04, 2.3722e-03, 9.9700e-01, 4.4825e-04]], device='cuda:0') \t Obesity \t 2\n",
            "366.) tensor([[2.3251e-04, 3.0110e-05, 3.4128e-05, 9.9970e-01]], device='cuda:0') \t Overweight \t 3\n",
            "367.) tensor([[4.2467e-04, 9.9754e-01, 2.0040e-03, 3.1809e-05]], device='cuda:0') \t Normal_weight \t 1\n",
            "368.) tensor([[3.1876e-03, 9.9462e-01, 1.9013e-03, 2.9455e-04]], device='cuda:0') \t Normal_weight \t 1\n",
            "369.) tensor([[4.0839e-05, 4.0750e-04, 9.9908e-01, 4.7316e-04]], device='cuda:0') \t Obesity \t 2\n",
            "370.) tensor([[0.4725, 0.5192, 0.0065, 0.0017]], device='cuda:0') \t Under_weight \t 1\n",
            "371.) tensor([[3.7946e-03, 9.3869e-01, 5.7044e-02, 4.7277e-04]], device='cuda:0') \t Normal_weight \t 1\n",
            "372.) tensor([[2.1334e-04, 1.1244e-04, 3.6126e-04, 9.9931e-01]], device='cuda:0') \t Overweight \t 3\n",
            "373.) tensor([[1.2009e-03, 9.8995e-01, 8.7292e-03, 1.1820e-04]], device='cuda:0') \t Normal_weight \t 1\n",
            "374.) tensor([[6.0090e-04, 8.4527e-04, 8.0215e-01, 1.9640e-01]], device='cuda:0') \t Obesity \t 2\n",
            "375.) tensor([[1.6137e-03, 1.9208e-04, 1.2625e-03, 9.9693e-01]], device='cuda:0') \t Overweight \t 3\n",
            "376.) tensor([[6.6218e-04, 4.0718e-04, 2.9823e-03, 9.9595e-01]], device='cuda:0') \t Overweight \t 3\n",
            "377.) tensor([[0.2158, 0.7713, 0.0036, 0.0093]], device='cuda:0') \t Normal_weight \t 1\n",
            "378.) tensor([[9.9603e-01, 2.7030e-03, 4.3170e-04, 8.3201e-04]], device='cuda:0') \t Under_weight \t 0\n",
            "379.) tensor([[2.5727e-05, 1.1084e-04, 9.9954e-01, 3.2315e-04]], device='cuda:0') \t Obesity \t 2\n",
            "380.) tensor([[3.8189e-05, 8.0621e-04, 9.9882e-01, 3.3519e-04]], device='cuda:0') \t Obesity \t 2\n",
            "381.) tensor([[0.9241, 0.0619, 0.0061, 0.0079]], device='cuda:0') \t Normal_weight \t 0\n",
            "382.) tensor([[5.7119e-05, 5.8534e-03, 9.9269e-01, 1.3970e-03]], device='cuda:0') \t Obesity \t 2\n",
            "383.) tensor([[1.0910e-03, 8.6806e-04, 6.6070e-03, 9.9143e-01]], device='cuda:0') \t Overweight \t 3\n",
            "384.) tensor([[1.7784e-04, 8.4282e-05, 2.5136e-04, 9.9949e-01]], device='cuda:0') \t Overweight \t 3\n",
            "385.) tensor([[4.8088e-05, 1.9562e-04, 9.9898e-01, 7.7637e-04]], device='cuda:0') \t Obesity \t 2\n",
            "386.) tensor([[9.9994e-01, 2.5348e-06, 1.2340e-05, 4.4531e-05]], device='cuda:0') \t Under_weight \t 0\n",
            "387.) tensor([[1.5980e-03, 6.1423e-01, 3.8382e-01, 3.4798e-04]], device='cuda:0') \t Normal_weight \t 1\n",
            "388.) tensor([[9.9527e-01, 2.8270e-03, 4.5835e-04, 1.4458e-03]], device='cuda:0') \t Under_weight \t 0\n",
            "389.) tensor([[5.3156e-04, 9.9865e-01, 7.6599e-04, 5.3341e-05]], device='cuda:0') \t Normal_weight \t 1\n",
            "390.) tensor([[3.3429e-04, 1.8760e-04, 3.2051e-04, 9.9916e-01]], device='cuda:0') \t Overweight \t 3\n",
            "391.) tensor([[1.4191e-04, 9.9945e-01, 3.9266e-04, 1.5006e-05]], device='cuda:0') \t Normal_weight \t 1\n",
            "392.) tensor([[0.9117, 0.0552, 0.0202, 0.0129]], device='cuda:0') \t Normal_weight \t 0\n",
            "393.) tensor([[9.9984e-01, 5.0217e-05, 1.7781e-05, 9.5486e-05]], device='cuda:0') \t Under_weight \t 0\n",
            "394.) tensor([[3.0493e-05, 1.5720e-04, 9.9939e-01, 4.2340e-04]], device='cuda:0') \t Obesity \t 2\n",
            "395.) tensor([[8.3840e-03, 9.9067e-01, 6.6314e-04, 2.7864e-04]], device='cuda:0') \t Normal_weight \t 1\n",
            "396.) tensor([[9.9135e-01, 6.4069e-03, 7.2206e-04, 1.5194e-03]], device='cuda:0') \t Under_weight \t 0\n",
            "397.) tensor([[1.7905e-04, 9.9977e-01, 4.4007e-05, 5.5905e-06]], device='cuda:0') \t Normal_weight \t 1\n",
            "398.) tensor([[2.6366e-04, 1.7764e-04, 1.5392e-02, 9.8417e-01]], device='cuda:0') \t Overweight \t 3\n",
            "399.) tensor([[1.7452e-03, 9.9231e-01, 5.6741e-03, 2.7283e-04]], device='cuda:0') \t Normal_weight \t 1\n",
            "400.) tensor([[9.9883e-01, 6.4197e-04, 1.3344e-04, 3.9792e-04]], device='cuda:0') \t Under_weight \t 0\n",
            "401.) tensor([[4.0962e-04, 1.7149e-03, 9.3918e-01, 5.8693e-02]], device='cuda:0') \t Obesity \t 2\n",
            "402.) tensor([[8.1815e-04, 1.0315e-04, 4.0536e-04, 9.9867e-01]], device='cuda:0') \t Overweight \t 3\n",
            "403.) tensor([[3.8883e-04, 6.6537e-02, 9.3197e-01, 1.1018e-03]], device='cuda:0') \t Obesity \t 2\n",
            "404.) tensor([[2.5912e-04, 1.8265e-04, 2.9987e-04, 9.9926e-01]], device='cuda:0') \t Overweight \t 3\n",
            "405.) tensor([[1.5857e-04, 7.6090e-05, 2.0787e-04, 9.9956e-01]], device='cuda:0') \t Overweight \t 3\n",
            "406.) tensor([[6.2800e-04, 9.9908e-01, 2.5212e-04, 3.6431e-05]], device='cuda:0') \t Normal_weight \t 1\n",
            "407.) tensor([[1.1067e-03, 5.8043e-04, 9.9749e-03, 9.8834e-01]], device='cuda:0') \t Overweight \t 3\n",
            "408.) tensor([[9.9748e-01, 1.5382e-03, 1.2139e-04, 8.6313e-04]], device='cuda:0') \t Under_weight \t 0\n",
            "409.) tensor([[5.8460e-04, 2.1950e-04, 6.0533e-04, 9.9859e-01]], device='cuda:0') \t Overweight \t 3\n",
            "410.) tensor([[1.8109e-03, 9.7976e-01, 1.8115e-02, 3.1490e-04]], device='cuda:0') \t Normal_weight \t 1\n",
            "411.) tensor([[9.9790e-01, 5.5734e-04, 2.5688e-04, 1.2856e-03]], device='cuda:0') \t Under_weight \t 0\n",
            "412.) tensor([[3.9090e-04, 2.3674e-01, 7.6131e-01, 1.5597e-03]], device='cuda:0') \t Obesity \t 2\n",
            "413.) tensor([[0.7831, 0.2124, 0.0009, 0.0037]], device='cuda:0') \t Under_weight \t 0\n",
            "414.) tensor([[6.4766e-04, 4.2714e-04, 8.4408e-03, 9.9048e-01]], device='cuda:0') \t Overweight \t 3\n",
            "415.) tensor([[1.2992e-03, 9.5868e-01, 3.9581e-02, 4.4263e-04]], device='cuda:0') \t Obesity \t 1\n",
            "416.) tensor([[3.5547e-04, 2.2030e-04, 1.6206e-03, 9.9780e-01]], device='cuda:0') \t Overweight \t 3\n",
            "417.) tensor([[9.1391e-04, 9.9159e-01, 7.3624e-03, 1.2960e-04]], device='cuda:0') \t Obesity \t 1\n",
            "418.) tensor([[0.4096, 0.5818, 0.0068, 0.0018]], device='cuda:0') \t Normal_weight \t 1\n",
            "419.) tensor([[6.6152e-04, 3.9056e-04, 3.1256e-03, 9.9582e-01]], device='cuda:0') \t Overweight \t 3\n",
            "420.) tensor([[6.0259e-04, 9.9935e-01, 3.2455e-05, 1.6781e-05]], device='cuda:0') \t Normal_weight \t 1\n",
            "421.) tensor([[0.0013, 0.0009, 0.8619, 0.1360]], device='cuda:0') \t Overweight \t 2\n",
            "422.) tensor([[4.9621e-04, 9.9658e-01, 2.8807e-03, 4.7718e-05]], device='cuda:0') \t Normal_weight \t 1\n",
            "423.) tensor([[9.9847e-01, 6.7333e-04, 2.1579e-04, 6.3917e-04]], device='cuda:0') \t Under_weight \t 0\n",
            "424.) tensor([[3.1484e-04, 1.6890e-04, 5.2172e-04, 9.9899e-01]], device='cuda:0') \t Overweight \t 3\n",
            "425.) tensor([[9.9882e-01, 6.0429e-04, 6.5228e-05, 5.1348e-04]], device='cuda:0') \t Under_weight \t 0\n",
            "426.) tensor([[0.0151, 0.7200, 0.2630, 0.0020]], device='cuda:0') \t Normal_weight \t 1\n",
            "427.) tensor([[5.0173e-04, 3.9062e-02, 9.5968e-01, 7.5784e-04]], device='cuda:0') \t Obesity \t 2\n",
            "428.) tensor([[2.1990e-04, 2.5390e-03, 9.9675e-01, 4.9589e-04]], device='cuda:0') \t Obesity \t 2\n",
            "429.) tensor([[9.9760e-01, 5.9090e-04, 4.3113e-04, 1.3731e-03]], device='cuda:0') \t Under_weight \t 0\n",
            "430.) tensor([[3.7500e-04, 1.9043e-04, 7.5091e-04, 9.9868e-01]], device='cuda:0') \t Overweight \t 3\n",
            "431.) tensor([[1.4344e-15, 1.0000e+00, 1.2788e-27, 5.7314e-32]], device='cuda:0') \t Normal_weight \t 1\n",
            "432.) tensor([[9.9831e-01, 1.0121e-03, 1.7073e-04, 5.0865e-04]], device='cuda:0') \t Under_weight \t 0\n",
            "433.) tensor([[3.6253e-04, 1.8376e-04, 7.1622e-04, 9.9874e-01]], device='cuda:0') \t Overweight \t 3\n",
            "434.) tensor([[4.5423e-04, 3.1569e-03, 1.1461e-01, 8.8178e-01]], device='cuda:0') \t Overweight \t 3\n",
            "435.) tensor([[1.4109e-04, 3.0590e-03, 9.9520e-01, 1.5959e-03]], device='cuda:0') \t Obesity \t 2\n",
            "436.) tensor([[2.1171e-03, 9.8253e-01, 1.5210e-02, 1.4212e-04]], device='cuda:0') \t Normal_weight \t 1\n",
            "437.) tensor([[3.6300e-04, 3.0115e-04, 1.3344e-03, 9.9800e-01]], device='cuda:0') \t Overweight \t 3\n",
            "438.) tensor([[0.0015, 0.0024, 0.6917, 0.3043]], device='cuda:0') \t Obesity \t 2\n",
            "439.) tensor([[5.0522e-05, 1.2966e-03, 9.9850e-01, 1.5014e-04]], device='cuda:0') \t Obesity \t 2\n",
            "440.) tensor([[4.1142e-04, 3.2135e-03, 9.9335e-01, 3.0266e-03]], device='cuda:0') \t Obesity \t 2\n",
            "441.) tensor([[3.2398e-03, 9.0498e-01, 9.1337e-02, 4.3984e-04]], device='cuda:0') \t Normal_weight \t 1\n",
            "442.) tensor([[9.9533e-01, 1.9607e-03, 8.5391e-04, 1.8557e-03]], device='cuda:0') \t Under_weight \t 0\n",
            "443.) tensor([[3.8295e-04, 9.9836e-01, 1.2293e-03, 2.4925e-05]], device='cuda:0') \t Normal_weight \t 1\n",
            "444.) tensor([[0.9922, 0.0039, 0.0014, 0.0025]], device='cuda:0') \t Under_weight \t 0\n",
            "445.) tensor([[8.5079e-04, 9.9906e-04, 9.9154e-01, 6.6110e-03]], device='cuda:0') \t Obesity \t 2\n",
            "446.) tensor([[4.0708e-14, 1.0000e+00, 6.5449e-20, 2.2251e-20]], device='cuda:0') \t Normal_weight \t 1\n",
            "447.) tensor([[8.0917e-04, 3.0588e-02, 9.5992e-01, 8.6809e-03]], device='cuda:0') \t Normal_weight \t 2\n",
            "448.) tensor([[9.9891e-01, 2.6670e-04, 2.0332e-04, 6.2123e-04]], device='cuda:0') \t Normal_weight \t 0\n",
            "449.) tensor([[1.1582e-03, 9.9759e-01, 1.1592e-03, 9.1150e-05]], device='cuda:0') \t Normal_weight \t 1\n",
            "450.) tensor([[0.0015, 0.0011, 0.0085, 0.9890]], device='cuda:0') \t Overweight \t 3\n",
            "451.) tensor([[9.9722e-01, 7.9433e-04, 5.3772e-04, 1.4505e-03]], device='cuda:0') \t Under_weight \t 0\n",
            "452.) tensor([[9.9795e-01, 8.3388e-04, 1.9351e-04, 1.0266e-03]], device='cuda:0') \t Under_weight \t 0\n",
            "453.) tensor([[2.0523e-04, 1.1928e-04, 1.4566e-04, 9.9953e-01]], device='cuda:0') \t Overweight \t 3\n",
            "454.) tensor([[1.9241e-03, 5.2501e-04, 1.3749e-02, 9.8380e-01]], device='cuda:0') \t Overweight \t 3\n",
            "455.) tensor([[3.1935e-04, 9.9811e-01, 1.5091e-03, 6.3026e-05]], device='cuda:0') \t Normal_weight \t 1\n",
            "456.) tensor([[0.9386, 0.0568, 0.0015, 0.0031]], device='cuda:0') \t Under_weight \t 0\n",
            "457.) tensor([[9.9744e-01, 1.6190e-03, 2.1430e-04, 7.3153e-04]], device='cuda:0') \t Under_weight \t 0\n",
            "458.) tensor([[9.9958e-01, 1.2500e-04, 7.5218e-05, 2.1865e-04]], device='cuda:0') \t Under_weight \t 0\n",
            "459.) tensor([[0.0041, 0.6308, 0.3637, 0.0014]], device='cuda:0') \t Obesity \t 1\n",
            "460.) tensor([[8.0796e-04, 4.7289e-04, 1.4075e-02, 9.8464e-01]], device='cuda:0') \t Overweight \t 3\n",
            "461.) tensor([[8.8774e-04, 5.8116e-02, 9.3990e-01, 1.0973e-03]], device='cuda:0') \t Normal_weight \t 2\n",
            "462.) tensor([[3.4339e-04, 2.7737e-04, 1.0297e-03, 9.9835e-01]], device='cuda:0') \t Overweight \t 3\n",
            "463.) tensor([[8.2818e-05, 1.0249e-03, 9.9767e-01, 1.2229e-03]], device='cuda:0') \t Obesity \t 2\n",
            "464.) tensor([[9.9911e-01, 3.5886e-04, 1.3699e-04, 3.9784e-04]], device='cuda:0') \t Under_weight \t 0\n",
            "465.) tensor([[9.9922e-01, 2.7057e-04, 5.3712e-05, 4.5648e-04]], device='cuda:0') \t Under_weight \t 0\n",
            "466.) tensor([[1.1652e-04, 6.1969e-04, 9.9426e-01, 5.0001e-03]], device='cuda:0') \t Obesity \t 2\n",
            "467.) tensor([[9.7134e-04, 1.0333e-03, 2.4362e-02, 9.7363e-01]], device='cuda:0') \t Overweight \t 3\n",
            "468.) tensor([[9.9900e-01, 4.2849e-04, 1.6528e-04, 4.0413e-04]], device='cuda:0') \t Under_weight \t 0\n",
            "469.) tensor([[9.9217e-01, 4.6024e-03, 7.7599e-04, 2.4556e-03]], device='cuda:0') \t Under_weight \t 0\n",
            "470.) tensor([[8.5022e-05, 2.3238e-05, 3.2223e-05, 9.9986e-01]], device='cuda:0') \t Overweight \t 3\n",
            "471.) tensor([[7.1364e-04, 4.7192e-04, 4.2143e-03, 9.9460e-01]], device='cuda:0') \t Overweight \t 3\n",
            "472.) tensor([[1.9962e-04, 9.9677e-01, 3.0193e-03, 1.3560e-05]], device='cuda:0') \t Normal_weight \t 1\n",
            "473.) tensor([[9.9795e-01, 6.6889e-04, 3.6534e-04, 1.0169e-03]], device='cuda:0') \t Under_weight \t 0\n",
            "474.) tensor([[1.7504e-04, 8.2112e-03, 9.8939e-01, 2.2247e-03]], device='cuda:0') \t Obesity \t 2\n",
            "475.) tensor([[8.3840e-04, 9.8759e-01, 1.1507e-02, 6.2751e-05]], device='cuda:0') \t Normal_weight \t 1\n",
            "476.) tensor([[9.8599e-01, 1.2518e-02, 4.0286e-04, 1.0890e-03]], device='cuda:0') \t Under_weight \t 0\n",
            "477.) tensor([[2.6006e-04, 9.9924e-01, 4.8509e-04, 1.7097e-05]], device='cuda:0') \t Normal_weight \t 1\n",
            "478.) tensor([[8.8763e-05, 1.1144e-04, 9.9444e-01, 5.3630e-03]], device='cuda:0') \t Obesity \t 2\n",
            "479.) tensor([[0.0019, 0.0021, 0.1100, 0.8860]], device='cuda:0') \t Overweight \t 3\n",
            "480.) tensor([[9.9661e-01, 2.3880e-03, 2.8488e-04, 7.1879e-04]], device='cuda:0') \t Under_weight \t 0\n",
            "481.) tensor([[9.1336e-04, 2.5491e-04, 1.8964e-03, 9.9694e-01]], device='cuda:0') \t Overweight \t 3\n",
            "482.) tensor([[1.6251e-03, 9.5710e-01, 4.0483e-02, 7.9669e-04]], device='cuda:0') \t Normal_weight \t 1\n",
            "483.) tensor([[9.9808e-01, 9.4947e-04, 1.8808e-04, 7.8004e-04]], device='cuda:0') \t Normal_weight \t 0\n",
            "484.) tensor([[3.2634e-04, 1.7019e-04, 5.4566e-04, 9.9896e-01]], device='cuda:0') \t Overweight \t 3\n",
            "485.) tensor([[9.9736e-01, 1.6609e-03, 3.4232e-04, 6.3210e-04]], device='cuda:0') \t Under_weight \t 0\n",
            "486.) tensor([[9.9945e-01, 2.2379e-04, 9.0787e-05, 2.3757e-04]], device='cuda:0') \t Under_weight \t 0\n",
            "487.) tensor([[7.9502e-04, 1.7864e-02, 9.8068e-01, 6.5812e-04]], device='cuda:0') \t Obesity \t 2\n",
            "488.) tensor([[2.1300e-04, 1.9506e-03, 9.9649e-01, 1.3487e-03]], device='cuda:0') \t Obesity \t 2\n",
            "489.) tensor([[4.2791e-04, 9.9727e-01, 2.1801e-03, 1.2666e-04]], device='cuda:0') \t Obesity \t 1\n",
            "490.) tensor([[6.1054e-04, 9.9922e-01, 1.5921e-04, 1.3408e-05]], device='cuda:0') \t Normal_weight \t 1\n",
            "491.) tensor([[9.9915e-01, 3.1835e-04, 1.5425e-04, 3.7511e-04]], device='cuda:0') \t Under_weight \t 0\n",
            "492.) tensor([[2.4129e-03, 9.9702e-01, 4.8187e-04, 8.8275e-05]], device='cuda:0') \t Normal_weight \t 1\n",
            "493.) tensor([[9.9805e-01, 7.0350e-04, 1.7083e-04, 1.0715e-03]], device='cuda:0') \t Under_weight \t 0\n",
            "494.) tensor([[2.2494e-04, 4.3562e-04, 9.9595e-01, 3.3922e-03]], device='cuda:0') \t Obesity \t 2\n",
            "495.) tensor([[0.9709, 0.0247, 0.0015, 0.0029]], device='cuda:0') \t Under_weight \t 0\n",
            "496.) tensor([[9.9924e-01, 1.2102e-04, 1.7027e-04, 4.6612e-04]], device='cuda:0') \t Under_weight \t 0\n",
            "497.) tensor([[9.7869e-01, 1.8658e-02, 7.9006e-04, 1.8657e-03]], device='cuda:0') \t Under_weight \t 0\n",
            "498.) tensor([[9.9663e-01, 1.0061e-03, 6.5171e-04, 1.7122e-03]], device='cuda:0') \t Under_weight \t 0\n",
            "499.) tensor([[2.8360e-04, 2.5663e-04, 7.1660e-04, 9.9874e-01]], device='cuda:0') \t Overweight \t 3\n",
            "500.) tensor([[5.4012e-04, 3.5343e-04, 1.3067e-02, 9.8604e-01]], device='cuda:0') \t Overweight \t 3\n",
            "501.) tensor([[1.0364e-03, 7.9151e-04, 7.3259e-03, 9.9085e-01]], device='cuda:0') \t Overweight \t 3\n",
            "502.) tensor([[6.6093e-05, 1.1774e-03, 9.9802e-01, 7.3843e-04]], device='cuda:0') \t Obesity \t 2\n",
            "503.) tensor([[9.9606e-01, 2.1297e-03, 4.1362e-04, 1.3975e-03]], device='cuda:0') \t Under_weight \t 0\n",
            "504.) tensor([[0.6210, 0.3705, 0.0034, 0.0051]], device='cuda:0') \t Normal_weight \t 0\n",
            "505.) tensor([[4.1199e-04, 9.3169e-03, 9.8320e-01, 7.0751e-03]], device='cuda:0') \t Obesity \t 2\n",
            "506.) tensor([[4.9658e-05, 1.4580e-04, 9.9612e-01, 3.6832e-03]], device='cuda:0') \t Obesity \t 2\n",
            "507.) tensor([[6.3508e-04, 4.3271e-04, 1.5006e-03, 9.9743e-01]], device='cuda:0') \t Overweight \t 3\n",
            "508.) tensor([[9.9310e-01, 4.6141e-03, 7.1673e-04, 1.5669e-03]], device='cuda:0') \t Under_weight \t 0\n",
            "509.) tensor([[2.5352e-04, 2.4471e-04, 5.2819e-04, 9.9897e-01]], device='cuda:0') \t Overweight \t 3\n",
            "510.) tensor([[9.9966e-01, 3.0125e-05, 9.2183e-05, 2.1464e-04]], device='cuda:0') \t Under_weight \t 0\n",
            "511.) tensor([[2.2296e-04, 3.6385e-05, 2.4349e-05, 9.9972e-01]], device='cuda:0') \t Overweight \t 3\n",
            "512.) tensor([[9.9692e-01, 1.5174e-03, 3.2441e-04, 1.2355e-03]], device='cuda:0') \t Under_weight \t 0\n",
            "513.) tensor([[0.0016, 0.5007, 0.4972, 0.0006]], device='cuda:0') \t Normal_weight \t 1\n",
            "514.) tensor([[9.9882e-01, 6.1588e-04, 1.2794e-04, 4.3535e-04]], device='cuda:0') \t Under_weight \t 0\n",
            "515.) tensor([[9.9875e-01, 6.8882e-04, 1.4145e-04, 4.2118e-04]], device='cuda:0') \t Under_weight \t 0\n",
            "516.) tensor([[5.6269e-05, 3.8710e-04, 9.9918e-01, 3.7273e-04]], device='cuda:0') \t Obesity \t 2\n",
            "517.) tensor([[2.4656e-04, 1.0157e-03, 9.8086e-01, 1.7877e-02]], device='cuda:0') \t Obesity \t 2\n",
            "518.) tensor([[8.4321e-05, 1.9793e-05, 2.1938e-05, 9.9987e-01]], device='cuda:0') \t Overweight \t 3\n",
            "519.) tensor([[2.8198e-03, 9.9104e-01, 5.7388e-03, 3.9946e-04]], device='cuda:0') \t Normal_weight \t 1\n",
            "520.) tensor([[3.8147e-04, 1.9458e-04, 7.5535e-04, 9.9867e-01]], device='cuda:0') \t Overweight \t 3\n",
            "521.) tensor([[0.7160, 0.2701, 0.0056, 0.0083]], device='cuda:0') \t Normal_weight \t 0\n",
            "522.) tensor([[9.5381e-04, 6.3748e-04, 3.6227e-03, 9.9479e-01]], device='cuda:0') \t Overweight \t 3\n",
            "523.) tensor([[1.0728e-03, 1.8334e-04, 2.0629e-03, 9.9668e-01]], device='cuda:0') \t Overweight \t 3\n",
            "524.) tensor([[9.9907e-01, 5.0115e-04, 1.0684e-04, 3.2232e-04]], device='cuda:0') \t Under_weight \t 0\n",
            "525.) tensor([[3.4106e-05, 1.7738e-04, 9.9923e-01, 5.5558e-04]], device='cuda:0') \t Obesity \t 2\n",
            "526.) tensor([[6.6556e-04, 5.0456e-02, 9.4736e-01, 1.5160e-03]], device='cuda:0') \t Obesity \t 2\n",
            "527.) tensor([[0.0238, 0.4922, 0.4364, 0.0476]], device='cuda:0') \t Normal_weight \t 1\n",
            "528.) tensor([[8.5666e-04, 4.0051e-03, 9.9069e-01, 4.4501e-03]], device='cuda:0') \t Obesity \t 2\n",
            "529.) tensor([[9.9724e-01, 1.3891e-03, 2.3842e-04, 1.1312e-03]], device='cuda:0') \t Under_weight \t 0\n",
            "530.) tensor([[9.9703e-01, 1.5079e-03, 3.2020e-04, 1.1403e-03]], device='cuda:0') \t Under_weight \t 0\n",
            "531.) tensor([[0.9819, 0.0144, 0.0014, 0.0023]], device='cuda:0') \t Under_weight \t 0\n",
            "532.) tensor([[4.8989e-04, 8.2490e-02, 9.1569e-01, 1.3305e-03]], device='cuda:0') \t Obesity \t 2\n",
            "533.) tensor([[9.8087e-01, 1.7876e-02, 2.8688e-04, 9.6704e-04]], device='cuda:0') \t Under_weight \t 0\n",
            "534.) tensor([[9.9811e-01, 1.0478e-03, 2.4697e-04, 5.9970e-04]], device='cuda:0') \t Under_weight \t 0\n",
            "535.) tensor([[2.1327e-04, 4.1792e-04, 6.2033e-03, 9.9317e-01]], device='cuda:0') \t Overweight \t 3\n",
            "536.) tensor([[1.9154e-04, 4.7343e-03, 9.9318e-01, 1.8948e-03]], device='cuda:0') \t Obesity \t 2\n",
            "537.) tensor([[5.6240e-05, 1.5328e-04, 9.9635e-01, 3.4448e-03]], device='cuda:0') \t Obesity \t 2\n",
            "538.) tensor([[2.3920e-04, 4.8062e-03, 9.9325e-01, 1.7025e-03]], device='cuda:0') \t Obesity \t 2\n",
            "539.) tensor([[1.4920e-03, 9.9457e-01, 3.8096e-03, 1.2490e-04]], device='cuda:0') \t Normal_weight \t 1\n",
            "540.) tensor([[0.0015, 0.9602, 0.0370, 0.0013]], device='cuda:0') \t Normal_weight \t 1\n",
            "541.) tensor([[7.8449e-04, 1.7571e-04, 3.6131e-03, 9.9543e-01]], device='cuda:0') \t Overweight \t 3\n",
            "542.) tensor([[2.0152e-02, 9.7670e-01, 2.9810e-03, 1.6959e-04]], device='cuda:0') \t Normal_weight \t 1\n",
            "543.) tensor([[2.7195e-04, 1.5820e-04, 4.9444e-04, 9.9908e-01]], device='cuda:0') \t Overweight \t 3\n",
            "544.) tensor([[0.0023, 0.8985, 0.0977, 0.0015]], device='cuda:0') \t Normal_weight \t 1\n",
            "545.) tensor([[2.6377e-04, 1.2103e-04, 4.1967e-04, 9.9920e-01]], device='cuda:0') \t Overweight \t 3\n",
            "546.) tensor([[2.8435e-05, 1.7792e-04, 9.9888e-01, 9.1554e-04]], device='cuda:0') \t Obesity \t 2\n",
            "547.) tensor([[4.5541e-05, 2.2033e-03, 9.9770e-01, 5.1277e-05]], device='cuda:0') \t Obesity \t 2\n",
            "548.) tensor([[9.9956e-01, 2.0984e-04, 2.9442e-05, 2.0197e-04]], device='cuda:0') \t Under_weight \t 0\n",
            "549.) tensor([[3.5209e-04, 1.7075e-04, 1.0157e-03, 9.9846e-01]], device='cuda:0') \t Overweight \t 3\n",
            "550.) tensor([[8.4189e-04, 9.9871e-01, 3.8340e-04, 6.4811e-05]], device='cuda:0') \t Normal_weight \t 1\n",
            "551.) tensor([[3.3739e-05, 6.1786e-04, 9.9926e-01, 8.3593e-05]], device='cuda:0') \t Obesity \t 2\n",
            "552.) tensor([[6.0475e-04, 3.5235e-04, 2.5442e-03, 9.9650e-01]], device='cuda:0') \t Overweight \t 3\n",
            "553.) tensor([[2.3127e-04, 1.3498e-04, 1.6541e-04, 9.9947e-01]], device='cuda:0') \t Overweight \t 3\n",
            "554.) tensor([[1.1497e-03, 4.7796e-04, 2.0457e-02, 9.7792e-01]], device='cuda:0') \t Overweight \t 3\n",
            "555.) tensor([[0.9937, 0.0032, 0.0019, 0.0012]], device='cuda:0') \t Under_weight \t 0\n",
            "556.) tensor([[0.9861, 0.0100, 0.0023, 0.0016]], device='cuda:0') \t Under_weight \t 0\n",
            "557.) tensor([[1.9535e-04, 9.5751e-05, 2.9728e-04, 9.9941e-01]], device='cuda:0') \t Overweight \t 3\n",
            "558.) tensor([[0.0024, 0.5449, 0.4513, 0.0013]], device='cuda:0') \t Normal_weight \t 1\n",
            "559.) tensor([[8.1900e-04, 3.7791e-04, 2.2730e-03, 9.9653e-01]], device='cuda:0') \t Overweight \t 3\n",
            "560.) tensor([[1.4725e-03, 9.9397e-01, 4.4271e-03, 1.3481e-04]], device='cuda:0') \t Normal_weight \t 1\n",
            "561.) tensor([[9.9762e-01, 1.6247e-03, 2.1061e-04, 5.4519e-04]], device='cuda:0') \t Under_weight \t 0\n",
            "562.) tensor([[3.0683e-04, 1.3367e-04, 7.2736e-04, 9.9883e-01]], device='cuda:0') \t Overweight \t 3\n",
            "563.) tensor([[9.9900e-01, 4.2183e-04, 1.6277e-04, 4.1194e-04]], device='cuda:0') \t Under_weight \t 0\n",
            "564.) tensor([[3.1366e-04, 9.9835e-01, 1.2199e-03, 1.1775e-04]], device='cuda:0') \t Obesity \t 1\n",
            "565.) tensor([[9.9865e-01, 2.8188e-04, 2.3342e-04, 8.3239e-04]], device='cuda:0') \t Under_weight \t 0\n",
            "566.) tensor([[3.1965e-03, 9.9656e-01, 1.8910e-04, 5.2797e-05]], device='cuda:0') \t Normal_weight \t 1\n",
            "567.) tensor([[9.9886e-01, 4.5579e-04, 1.7596e-04, 5.0807e-04]], device='cuda:0') \t Under_weight \t 0\n",
            "568.) tensor([[9.8155e-01, 1.6194e-02, 9.5074e-04, 1.3096e-03]], device='cuda:0') \t Under_weight \t 0\n",
            "569.) tensor([[0.0650, 0.9327, 0.0011, 0.0012]], device='cuda:0') \t Normal_weight \t 1\n",
            "570.) tensor([[9.9870e-01, 7.7185e-04, 1.7046e-04, 3.6119e-04]], device='cuda:0') \t Under_weight \t 0\n",
            "571.) tensor([[2.9388e-05, 9.9988e-01, 8.7288e-05, 6.4003e-06]], device='cuda:0') \t Normal_weight \t 1\n",
            "572.) tensor([[6.3164e-05, 1.7897e-04, 9.9583e-01, 3.9322e-03]], device='cuda:0') \t Obesity \t 2\n",
            "573.) tensor([[0.9826, 0.0134, 0.0015, 0.0026]], device='cuda:0') \t Under_weight \t 0\n",
            "574.) tensor([[1.8720e-04, 1.5272e-04, 2.4699e-04, 9.9941e-01]], device='cuda:0') \t Overweight \t 3\n",
            "575.) tensor([[4.3505e-04, 3.1703e-04, 1.5108e-03, 9.9774e-01]], device='cuda:0') \t Overweight \t 3\n",
            "576.) tensor([[0.0012, 0.0010, 0.0089, 0.9889]], device='cuda:0') \t Overweight \t 3\n",
            "577.) tensor([[0.0016, 0.0011, 0.0222, 0.9751]], device='cuda:0') \t Overweight \t 3\n",
            "578.) tensor([[9.9863e-01, 6.3791e-04, 1.2203e-04, 6.1362e-04]], device='cuda:0') \t Under_weight \t 0\n",
            "579.) tensor([[4.9995e-04, 9.9737e-01, 2.0993e-03, 3.4538e-05]], device='cuda:0') \t Normal_weight \t 1\n",
            "580.) tensor([[3.7570e-04, 1.8894e-04, 7.9219e-04, 9.9864e-01]], device='cuda:0') \t Overweight \t 3\n",
            "581.) tensor([[0.8705, 0.1140, 0.0142, 0.0013]], device='cuda:0') \t Under_weight \t 0\n",
            "582.) tensor([[9.9933e-01, 3.0946e-04, 8.7822e-05, 2.7248e-04]], device='cuda:0') \t Under_weight \t 0\n",
            "583.) tensor([[9.9121e-01, 6.0083e-03, 4.8963e-04, 2.2920e-03]], device='cuda:0') \t Under_weight \t 0\n",
            "584.) tensor([[3.7675e-04, 2.1546e-04, 1.2829e-03, 9.9812e-01]], device='cuda:0') \t Overweight \t 3\n",
            "585.) tensor([[3.2073e-04, 9.7379e-05, 9.5926e-04, 9.9862e-01]], device='cuda:0') \t Overweight \t 3\n",
            "586.) tensor([[6.2158e-04, 1.7393e-04, 4.8483e-04, 9.9872e-01]], device='cuda:0') \t Overweight \t 3\n",
            "587.) tensor([[0.0013, 0.0016, 0.3176, 0.6795]], device='cuda:0') \t Overweight \t 3\n",
            "588.) tensor([[9.9683e-01, 2.1399e-03, 3.6649e-04, 6.6380e-04]], device='cuda:0') \t Under_weight \t 0\n",
            "589.) tensor([[9.9787e-01, 1.0029e-03, 2.1537e-04, 9.1442e-04]], device='cuda:0') \t Under_weight \t 0\n",
            "590.) tensor([[9.5011e-04, 7.1674e-04, 2.0370e-02, 9.7796e-01]], device='cuda:0') \t Overweight \t 3\n",
            "591.) tensor([[1.1426e-04, 5.9796e-04, 9.9432e-01, 4.9690e-03]], device='cuda:0') \t Obesity \t 2\n",
            "592.) tensor([[2.8741e-05, 1.9442e-04, 9.9936e-01, 4.1201e-04]], device='cuda:0') \t Obesity \t 2\n",
            "593.) tensor([[6.3767e-04, 2.7079e-04, 1.2506e-03, 9.9784e-01]], device='cuda:0') \t Overweight \t 3\n",
            "594.) tensor([[0.0021, 0.4738, 0.5234, 0.0007]], device='cuda:0') \t Normal_weight \t 2\n",
            "595.) tensor([[9.9874e-01, 4.4385e-04, 1.3869e-04, 6.7417e-04]], device='cuda:0') \t Under_weight \t 0\n",
            "596.) tensor([[9.9974e-01, 5.2752e-05, 5.4151e-05, 1.4815e-04]], device='cuda:0') \t Under_weight \t 0\n",
            "597.) tensor([[2.6613e-03, 9.8522e-01, 1.1770e-02, 3.5113e-04]], device='cuda:0') \t Normal_weight \t 1\n",
            "598.) tensor([[8.2626e-04, 1.7043e-04, 6.1055e-04, 9.9839e-01]], device='cuda:0') \t Overweight \t 3\n",
            "599.) tensor([[9.9706e-01, 1.7774e-03, 2.7946e-04, 8.7881e-04]], device='cuda:0') \t Under_weight \t 0\n",
            "600.) tensor([[2.1614e-04, 9.9808e-01, 1.6264e-03, 8.2292e-05]], device='cuda:0') \t Obesity \t 1\n",
            "601.) tensor([[1.1818e-04, 2.5115e-04, 9.9260e-01, 7.0314e-03]], device='cuda:0') \t Obesity \t 2\n",
            "602.) tensor([[9.9629e-01, 2.7567e-03, 1.7657e-04, 7.7574e-04]], device='cuda:0') \t Under_weight \t 0\n",
            "603.) tensor([[6.4625e-04, 9.9470e-01, 4.5986e-03, 5.4757e-05]], device='cuda:0') \t Normal_weight \t 1\n",
            "604.) tensor([[9.9809e-01, 9.3298e-04, 2.5822e-04, 7.1997e-04]], device='cuda:0') \t Under_weight \t 0\n",
            "605.) tensor([[4.2862e-06, 3.2874e-05, 9.9991e-01, 5.6118e-05]], device='cuda:0') \t Obesity \t 2\n",
            "606.) tensor([[9.8733e-01, 1.0090e-02, 9.6930e-04, 1.6101e-03]], device='cuda:0') \t Under_weight \t 0\n",
            "607.) tensor([[9.9449e-01, 4.0547e-03, 6.1885e-04, 8.4123e-04]], device='cuda:0') \t Under_weight \t 0\n",
            "608.) tensor([[3.0994e-04, 2.1322e-04, 9.9797e-01, 1.5029e-03]], device='cuda:0') \t Obesity \t 2\n",
            "609.) tensor([[9.8674e-01, 1.0986e-02, 3.6580e-04, 1.9105e-03]], device='cuda:0') \t Under_weight \t 0\n",
            "610.) tensor([[9.9818e-01, 9.9469e-04, 1.9278e-04, 6.3634e-04]], device='cuda:0') \t Under_weight \t 0\n",
            "611.) tensor([[1.8796e-04, 3.3001e-04, 9.9250e-01, 6.9847e-03]], device='cuda:0') \t Overweight \t 2\n",
            "612.) tensor([[1.0756e-03, 1.0882e-04, 9.6737e-04, 9.9785e-01]], device='cuda:0') \t Overweight \t 3\n",
            "613.) tensor([[0.9617, 0.0346, 0.0012, 0.0026]], device='cuda:0') \t Under_weight \t 0\n",
            "614.) tensor([[7.1783e-04, 9.9388e-05, 1.5008e-03, 9.9768e-01]], device='cuda:0') \t Overweight \t 3\n",
            "615.) tensor([[1.1548e-03, 9.8857e-01, 9.9952e-03, 2.8051e-04]], device='cuda:0') \t Normal_weight \t 1\n",
            "616.) tensor([[1.4311e-04, 3.1000e-02, 9.6868e-01, 1.7687e-04]], device='cuda:0') \t Obesity \t 2\n",
            "617.) tensor([[9.9899e-01, 2.5149e-04, 1.0588e-04, 6.5519e-04]], device='cuda:0') \t Under_weight \t 0\n",
            "618.) tensor([[9.9586e-01, 3.1872e-03, 2.0794e-04, 7.4296e-04]], device='cuda:0') \t Under_weight \t 0\n",
            "619.) tensor([[1.0887e-03, 9.7122e-02, 9.0140e-01, 3.9171e-04]], device='cuda:0') \t Normal_weight \t 2\n",
            "620.) tensor([[5.0774e-03, 9.2385e-01, 7.0240e-02, 8.3043e-04]], device='cuda:0') \t Obesity \t 1\n",
            "621.) tensor([[1.4760e-03, 1.5398e-04, 9.9033e-04, 9.9738e-01]], device='cuda:0') \t Overweight \t 3\n",
            "622.) tensor([[1.1910e-03, 9.8468e-04, 9.1341e-03, 9.8869e-01]], device='cuda:0') \t Overweight \t 3\n",
            "623.) tensor([[3.2987e-04, 1.2785e-04, 2.5154e-04, 9.9929e-01]], device='cuda:0') \t Overweight \t 3\n",
            "624.) tensor([[3.0324e-04, 1.0994e-04, 5.5089e-04, 9.9904e-01]], device='cuda:0') \t Overweight \t 3\n",
            "625.) tensor([[1.2608e-03, 1.3025e-04, 6.2628e-04, 9.9798e-01]], device='cuda:0') \t Overweight \t 3\n",
            "626.) tensor([[8.4096e-04, 8.0804e-04, 5.6595e-02, 9.4176e-01]], device='cuda:0') \t Overweight \t 3\n",
            "627.) tensor([[2.3945e-04, 1.2331e-04, 3.7074e-04, 9.9927e-01]], device='cuda:0') \t Overweight \t 3\n",
            "628.) tensor([[9.9900e-01, 5.4600e-04, 1.1295e-04, 3.4051e-04]], device='cuda:0') \t Under_weight \t 0\n",
            "629.) tensor([[9.9800e-01, 1.1958e-03, 2.0557e-04, 5.9953e-04]], device='cuda:0') \t Under_weight \t 0\n",
            "630.) tensor([[2.4672e-04, 5.2296e-03, 9.9409e-01, 4.3102e-04]], device='cuda:0') \t Obesity \t 2\n",
            "631.) tensor([[1.1606e-03, 4.3175e-04, 9.7735e-01, 2.1057e-02]], device='cuda:0') \t Obesity \t 2\n",
            "632.) tensor([[2.0908e-02, 9.7873e-01, 2.1315e-04, 1.4481e-04]], device='cuda:0') \t Normal_weight \t 1\n",
            "633.) tensor([[9.9933e-01, 2.6791e-04, 1.1345e-04, 2.9030e-04]], device='cuda:0') \t Under_weight \t 0\n",
            "634.) tensor([[4.5727e-04, 9.9817e-01, 1.2525e-03, 1.2318e-04]], device='cuda:0') \t Normal_weight \t 1\n",
            "635.) tensor([[0.0010, 0.0027, 0.8772, 0.1192]], device='cuda:0') \t Obesity \t 2\n",
            "636.) tensor([[9.9791e-01, 8.0519e-04, 1.9162e-04, 1.0887e-03]], device='cuda:0') \t Under_weight \t 0\n",
            "637.) tensor([[1.2790e-04, 5.4283e-04, 9.6968e-01, 2.9647e-02]], device='cuda:0') \t Obesity \t 2\n",
            "638.) tensor([[1.0376e-03, 5.3333e-04, 1.1303e-01, 8.8540e-01]], device='cuda:0') \t Overweight \t 3\n",
            "639.) tensor([[6.6978e-04, 7.3147e-04, 7.0405e-03, 9.9156e-01]], device='cuda:0') \t Overweight \t 3\n",
            "640.) tensor([[6.4689e-04, 9.9896e-01, 3.4036e-04, 4.9734e-05]], device='cuda:0') \t Normal_weight \t 1\n",
            "641.) tensor([[1.2195e-03, 6.4262e-04, 1.4521e-02, 9.8362e-01]], device='cuda:0') \t Overweight \t 3\n",
            "642.) tensor([[9.9970e-01, 7.9797e-05, 5.6859e-05, 1.6411e-04]], device='cuda:0') \t Under_weight \t 0\n",
            "643.) tensor([[0.5362, 0.4526, 0.0048, 0.0064]], device='cuda:0') \t Normal_weight \t 0\n",
            "644.) tensor([[8.2061e-04, 7.4193e-04, 7.4836e-01, 2.5008e-01]], device='cuda:0') \t Obesity \t 2\n",
            "645.) tensor([[7.9397e-05, 5.7939e-04, 9.9707e-01, 2.2706e-03]], device='cuda:0') \t Obesity \t 2\n",
            "646.) tensor([[1.2103e-03, 9.3836e-01, 6.0270e-02, 1.6425e-04]], device='cuda:0') \t Normal_weight \t 1\n",
            "647.) tensor([[4.6916e-03, 9.3834e-01, 5.6881e-02, 8.7083e-05]], device='cuda:0') \t Normal_weight \t 1\n",
            "648.) tensor([[9.9525e-01, 2.0153e-03, 9.8156e-04, 1.7558e-03]], device='cuda:0') \t Under_weight \t 0\n",
            "649.) tensor([[4.0269e-04, 1.8941e-02, 9.7970e-01, 9.5633e-04]], device='cuda:0') \t Obesity \t 2\n",
            "650.) tensor([[0.9933, 0.0032, 0.0012, 0.0023]], device='cuda:0') \t Under_weight \t 0\n",
            "651.) tensor([[9.9889e-01, 6.2218e-04, 1.0425e-04, 3.8610e-04]], device='cuda:0') \t Under_weight \t 0\n",
            "652.) tensor([[4.3022e-04, 3.8733e-04, 1.7973e-03, 9.9739e-01]], device='cuda:0') \t Overweight \t 3\n",
            "653.) tensor([[1.4740e-04, 2.7719e-04, 9.9292e-01, 6.6546e-03]], device='cuda:0') \t Overweight \t 2\n",
            "654.) tensor([[6.7207e-04, 5.4713e-04, 3.5780e-03, 9.9520e-01]], device='cuda:0') \t Overweight \t 3\n",
            "655.) tensor([[3.5751e-05, 4.5916e-05, 9.9984e-01, 8.1655e-05]], device='cuda:0') \t Obesity \t 2\n",
            "656.) tensor([[5.4674e-04, 4.6292e-04, 3.4337e-03, 9.9556e-01]], device='cuda:0') \t Overweight \t 3\n",
            "657.) tensor([[4.6202e-04, 2.6983e-04, 9.9234e-01, 6.9234e-03]], device='cuda:0') \t Obesity \t 2\n",
            "658.) tensor([[9.8795e-01, 9.2874e-03, 8.3159e-04, 1.9346e-03]], device='cuda:0') \t Under_weight \t 0\n",
            "659.) tensor([[0.0017, 0.8458, 0.1509, 0.0016]], device='cuda:0') \t Normal_weight \t 1\n",
            "660.) tensor([[3.7256e-05, 3.3251e-04, 9.9949e-01, 1.4201e-04]], device='cuda:0') \t Obesity \t 2\n",
            "661.) tensor([[3.2361e-04, 2.6759e-04, 1.1557e-03, 9.9825e-01]], device='cuda:0') \t Overweight \t 3\n",
            "662.) tensor([[1.1145e-02, 9.8720e-01, 1.2001e-03, 4.5963e-04]], device='cuda:0') \t Normal_weight \t 1\n",
            "663.) tensor([[6.4592e-04, 3.6294e-04, 8.2483e-02, 9.1651e-01]], device='cuda:0') \t Overweight \t 3\n",
            "664.) tensor([[2.3260e-04, 1.9482e-04, 8.1754e-03, 9.9140e-01]], device='cuda:0') \t Overweight \t 3\n",
            "665.) tensor([[9.9951e-01, 1.8178e-04, 8.6353e-05, 2.1846e-04]], device='cuda:0') \t Under_weight \t 0\n",
            "666.) tensor([[4.1436e-04, 2.1849e-04, 1.3783e-03, 9.9799e-01]], device='cuda:0') \t Overweight \t 3\n",
            "667.) tensor([[7.4550e-06, 4.0837e-05, 9.9981e-01, 1.3966e-04]], device='cuda:0') \t Obesity \t 2\n",
            "668.) tensor([[1.4872e-04, 7.6956e-05, 8.2939e-05, 9.9969e-01]], device='cuda:0') \t Overweight \t 3\n",
            "669.) tensor([[2.6246e-04, 9.5678e-03, 9.8995e-01, 2.2358e-04]], device='cuda:0') \t Obesity \t 2\n",
            "670.) tensor([[4.5002e-04, 9.9681e-01, 2.6927e-03, 4.4639e-05]], device='cuda:0') \t Normal_weight \t 1\n",
            "671.) tensor([[9.9891e-01, 5.8955e-04, 1.2438e-04, 3.7160e-04]], device='cuda:0') \t Under_weight \t 0\n",
            "672.) tensor([[2.1665e-04, 4.2309e-03, 9.9497e-01, 5.7810e-04]], device='cuda:0') \t Obesity \t 2\n",
            "673.) tensor([[0.0012, 0.0030, 0.9821, 0.0137]], device='cuda:0') \t Obesity \t 2\n",
            "674.) tensor([[9.9821e-01, 6.7044e-04, 3.8666e-04, 7.3585e-04]], device='cuda:0') \t Under_weight \t 0\n",
            "675.) tensor([[1.4511e-04, 9.9944e-01, 4.0362e-04, 1.5509e-05]], device='cuda:0') \t Normal_weight \t 1\n",
            "676.) tensor([[1.5291e-04, 1.4820e-04, 9.9034e-01, 9.3577e-03]], device='cuda:0') \t Obesity \t 2\n",
            "677.) tensor([[1.1681e-05, 9.9998e-01, 1.0611e-05, 8.5096e-07]], device='cuda:0') \t Normal_weight \t 1\n",
            "678.) tensor([[6.4774e-04, 9.9804e-01, 1.1631e-03, 1.4659e-04]], device='cuda:0') \t Obesity \t 1\n",
            "679.) tensor([[1.1800e-04, 2.0637e-03, 9.9475e-01, 3.0667e-03]], device='cuda:0') \t Obesity \t 2\n",
            "680.) tensor([[8.9117e-05, 3.5699e-04, 9.8663e-01, 1.2920e-02]], device='cuda:0') \t Obesity \t 2\n",
            "681.) tensor([[2.2941e-05, 1.9418e-04, 9.9956e-01, 2.2507e-04]], device='cuda:0') \t Obesity \t 2\n",
            "682.) tensor([[9.9686e-01, 1.0871e-03, 7.3313e-04, 1.3160e-03]], device='cuda:0') \t Under_weight \t 0\n",
            "683.) tensor([[6.9468e-05, 3.9573e-04, 9.9910e-01, 4.3141e-04]], device='cuda:0') \t Obesity \t 2\n",
            "684.) tensor([[9.9784e-01, 1.2156e-03, 2.8322e-04, 6.6541e-04]], device='cuda:0') \t Under_weight \t 0\n",
            "685.) tensor([[0.9921, 0.0036, 0.0010, 0.0033]], device='cuda:0') \t Under_weight \t 0\n",
            "686.) tensor([[8.5725e-04, 7.9204e-04, 9.4287e-01, 5.5479e-02]], device='cuda:0') \t Obesity \t 2\n",
            "687.) tensor([[1.1000e-04, 2.1460e-04, 9.9847e-01, 1.2027e-03]], device='cuda:0') \t Obesity \t 2\n",
            "688.) tensor([[1.9476e-03, 7.5290e-04, 2.7677e-02, 9.6962e-01]], device='cuda:0') \t Overweight \t 3\n",
            "689.) tensor([[4.3742e-04, 9.9691e-01, 2.6134e-03, 4.3895e-05]], device='cuda:0') \t Normal_weight \t 1\n",
            "690.) tensor([[4.4499e-04, 2.7085e-04, 1.3325e-03, 9.9795e-01]], device='cuda:0') \t Overweight \t 3\n",
            "691.) tensor([[9.9898e-01, 2.1663e-04, 2.3787e-04, 5.6844e-04]], device='cuda:0') \t Under_weight \t 0\n",
            "692.) tensor([[1.1018e-04, 9.9918e-01, 7.0183e-04, 5.2932e-06]], device='cuda:0') \t Normal_weight \t 1\n",
            "693.) tensor([[9.9804e-01, 1.3299e-03, 1.5911e-04, 4.6854e-04]], device='cuda:0') \t Under_weight \t 0\n",
            "694.) tensor([[1.6561e-04, 8.3376e-04, 9.9736e-01, 1.6380e-03]], device='cuda:0') \t Obesity \t 2\n",
            "695.) tensor([[9.9648e-01, 2.5259e-03, 2.2910e-04, 7.6487e-04]], device='cuda:0') \t Under_weight \t 0\n",
            "696.) tensor([[3.6908e-04, 3.0052e-04, 1.4056e-03, 9.9792e-01]], device='cuda:0') \t Overweight \t 3\n",
            "697.) tensor([[9.9862e-01, 6.5177e-04, 1.1877e-04, 6.1434e-04]], device='cuda:0') \t Under_weight \t 0\n",
            "698.) tensor([[1.1039e-04, 2.8577e-04, 9.9778e-01, 1.8225e-03]], device='cuda:0') \t Obesity \t 2\n",
            "699.) tensor([[1.0000e+00, 1.4968e-09, 8.6815e-12, 2.1607e-09]], device='cuda:0') \t Under_weight \t 0\n",
            "700.) tensor([[0.0509, 0.9456, 0.0019, 0.0016]], device='cuda:0') \t Normal_weight \t 1\n",
            "701.) tensor([[0.9829, 0.0137, 0.0013, 0.0022]], device='cuda:0') \t Under_weight \t 0\n",
            "702.) tensor([[2.0953e-03, 9.9600e-01, 1.6498e-03, 2.5409e-04]], device='cuda:0') \t Normal_weight \t 1\n",
            "703.) tensor([[9.9497e-01, 3.0761e-03, 4.7244e-04, 1.4818e-03]], device='cuda:0') \t Under_weight \t 0\n",
            "704.) tensor([[5.4093e-04, 3.0164e-04, 6.5689e-04, 9.9850e-01]], device='cuda:0') \t Overweight \t 3\n",
            "705.) tensor([[9.9666e-01, 1.8782e-03, 4.0086e-04, 1.0648e-03]], device='cuda:0') \t Under_weight \t 0\n",
            "706.) tensor([[1.1796e-04, 3.2746e-04, 9.9554e-01, 4.0130e-03]], device='cuda:0') \t Obesity \t 2\n",
            "707.) tensor([[9.9526e-01, 3.5628e-03, 5.1200e-04, 6.6786e-04]], device='cuda:0') \t Under_weight \t 0\n",
            "708.) tensor([[2.8843e-04, 1.5830e-04, 7.1885e-04, 9.9883e-01]], device='cuda:0') \t Overweight \t 3\n",
            "709.) tensor([[9.9780e-01, 8.8115e-04, 2.0903e-04, 1.1089e-03]], device='cuda:0') \t Under_weight \t 0\n",
            "710.) tensor([[1.6680e-05, 1.2536e-04, 9.9952e-01, 3.4276e-04]], device='cuda:0') \t Obesity \t 2\n",
            "711.) tensor([[4.1652e-04, 3.5777e-04, 9.4795e-03, 9.8975e-01]], device='cuda:0') \t Overweight \t 3\n",
            "712.) tensor([[3.1757e-04, 1.0890e-03, 9.7083e-01, 2.7764e-02]], device='cuda:0') \t Obesity \t 2\n",
            "713.) tensor([[2.2503e-04, 4.4684e-02, 9.5497e-01, 1.1823e-04]], device='cuda:0') \t Normal_weight \t 2\n",
            "714.) tensor([[2.6972e-04, 1.8704e-04, 3.1708e-04, 9.9923e-01]], device='cuda:0') \t Overweight \t 3\n",
            "715.) tensor([[2.2203e-04, 9.9155e-05, 3.6139e-04, 9.9932e-01]], device='cuda:0') \t Overweight \t 3\n",
            "716.) tensor([[4.0330e-02, 9.5816e-01, 8.1262e-04, 6.9300e-04]], device='cuda:0') \t Normal_weight \t 1\n",
            "717.) tensor([[4.4079e-04, 6.7643e-04, 9.4316e-01, 5.5723e-02]], device='cuda:0') \t Obesity \t 2\n",
            "718.) tensor([[9.8953e-01, 5.7457e-03, 8.7397e-04, 3.8537e-03]], device='cuda:0') \t Under_weight \t 0\n",
            "719.) tensor([[9.8639e-01, 1.0987e-02, 7.2712e-04, 1.8931e-03]], device='cuda:0') \t Under_weight \t 0\n",
            "\n",
            "659 out of 719 = 91.65507649513212% correct\n"
          ]
        }
      ]
    },
    {
      "cell_type": "code",
      "source": [],
      "metadata": {
        "id": "z6ZhsQyd1GnK"
      },
      "execution_count": null,
      "outputs": []
    }
  ]
}